{
  "cells": [
    {
      "cell_type": "markdown",
      "metadata": {
        "id": "view-in-github",
        "colab_type": "text"
      },
      "source": [
        "<a href=\"https://colab.research.google.com/github/louisechilds/ADS2002-Catheter/blob/main/KMeans_Binary.ipynb\" target=\"_parent\"><img src=\"https://colab.research.google.com/assets/colab-badge.svg\" alt=\"Open In Colab\"/></a>"
      ]
    },
    {
      "cell_type": "code",
      "execution_count": null,
      "metadata": {
        "id": "LyLJwjvGWSZW"
      },
      "outputs": [],
      "source": [
        "import pandas as pd\n",
        "import numpy as np\n",
        "RS=42#set random seed consistent\n",
        "train=pd.read_csv('train.csv')\n",
        "train_annot=pd.read_csv('train_annotations.csv')"
      ]
    },
    {
      "cell_type": "code",
      "execution_count": null,
      "metadata": {
        "id": "ctrxdEJLWSZd"
      },
      "outputs": [],
      "source": [
        "import pandas as pd\n",
        "import numpy as np\n",
        "import os\n",
        "import shutil\n",
        "train=pd.read_csv('train.csv')\n",
        "train_annot=pd.read_csv('train_annotations.csv')"
      ]
    },
    {
      "cell_type": "code",
      "execution_count": null,
      "metadata": {
        "id": "geHJjiYVWSZf"
      },
      "outputs": [],
      "source": [
        "patients=train.groupby(['PatientID']).sum()"
      ]
    },
    {
      "cell_type": "code",
      "execution_count": null,
      "metadata": {
        "id": "UqbObXwWWSZg",
        "outputId": "693818c3-34ea-4381-8336-286b92a344f6"
      },
      "outputs": [
        {
          "data": {
            "text/plain": [
              "<AxesSubplot:title={'center':'Levels of catheter placement by type'}>"
            ]
          },
          "execution_count": 8,
          "metadata": {},
          "output_type": "execute_result"
        },
        {
          "data": {
            "image/png": "[encoded data removed]",
            "text/plain": [
              "<Figure size 432x288 with 1 Axes>"
            ]
          },
          "metadata": {
            "needs_background": "light"
          },
          "output_type": "display_data"
        }
      ],
      "source": [
        "sums=pd.DataFrame(patients.sum())\n",
        "sums\n",
        "graph_sums=pd.DataFrame({'ETT':[patients['ETT - Abnormal'].sum(),patients['ETT - Borderline'].sum(),patients['ETT - Normal'].sum(),0],\n",
        "                         'CVC':[patients['CVC - Abnormal'].sum(),patients['CVC - Borderline'].sum(),patients['CVC - Normal'].sum(),0],\n",
        "                         'NGT':[patients['NGT - Abnormal'].sum(),patients['NGT - Borderline'].sum(),patients['NGT - Normal'].sum(),patients['NGT - Incompletely Imaged'].sum()]})\n",
        "graph_sums=graph_sums.transpose()\n",
        "graph_sums=graph_sums.rename(columns={0:'Abnormal',1:'Borderline',2:'Normal',3:'Incompletely Imaged'})\n",
        "graph_sums.plot.bar(stacked=True,title='Levels of catheter placement by type')"
      ]
    },
    {
      "cell_type": "code",
      "execution_count": null,
      "metadata": {
        "id": "8bKGiQg4WSZk"
      },
      "outputs": [],
      "source": [
        "import pandas as pd\n",
        "import numpy as np\n",
        "import os\n",
        "import shutil\n",
        "train=pd.read_csv('train.csv')\n",
        "train_annot=pd.read_csv('train_annotations.csv')"
      ]
    },
    {
      "cell_type": "code",
      "execution_count": null,
      "metadata": {
        "id": "fPKiqbFbWSZm"
      },
      "outputs": [],
      "source": [
        "directory_path='/projects/sc73/ranzcr-clip-catheter-line-classification/train'"
      ]
    },
    {
      "cell_type": "code",
      "execution_count": null,
      "metadata": {
        "id": "Iywi-xd8WSZm"
      },
      "outputs": [],
      "source": [
        "#separate by normal or something else for each type of catheter\n",
        "test_CVC=train[['StudyInstanceUID','CVC - Abnormal','CVC - Normal','CVC - Borderline']]\n",
        "test_CVC=test_CVC.drop(test_CVC[(test_CVC['CVC - Abnormal'] == 0) & (test_CVC['CVC - Normal'] == 0) & (test_CVC['CVC - Borderline'] == 0)].index)\n",
        "test_ETT=train[['StudyInstanceUID','ETT - Abnormal','ETT - Normal','ETT - Borderline']]\n",
        "test_ETT=test_ETT.drop(test_ETT[(test_ETT['ETT - Abnormal'] == 0) & (test_ETT['ETT - Normal'] == 0) & (test_ETT['ETT - Borderline'] == 0)].index)\n",
        "test_NGT=train[['StudyInstanceUID','NGT - Abnormal','NGT - Normal','NGT - Borderline','NGT - Incompletely Imaged']]\n",
        "test_NGT=test_NGT.drop(test_NGT[(test_NGT['NGT - Abnormal'] == 0) & (test_NGT['NGT - Normal'] == 0) & (test_NGT['NGT - Borderline'] == 0) & (test_NGT['NGT - Incompletely Imaged']==0)].index)\n",
        "test_NGT=test_NGT.drop(test_NGT[(test_NGT['NGT - Incompletely Imaged']==1)].index)"
      ]
    },
    {
      "cell_type": "code",
      "execution_count": null,
      "metadata": {
        "id": "NMJJloi0WSZo"
      },
      "outputs": [],
      "source": [
        "\n",
        "def add_feature(df, folder):\n",
        "    if 'image' not in df.columns:\n",
        "        df['image'] = ''\n",
        "\n",
        "    for i, row in df.iterrows():\n",
        "        filename = row['StudyInstanceUID'] + '.jpg'\n",
        "        image_path = os.path.join(folder, filename)\n",
        "        image = Image.open(image_path).convert('L')  # Open and convert to grayscale\n",
        "        image = np.array(image)\n",
        "       #image = image.resize((300, 300))  # Resize to manageable dimensions\n",
        "        df.at[i, 'image'] = image  # Set the 'image' column with the Pillow Image object\n",
        "\n",
        "    return df"
      ]
    },
    {
      "cell_type": "code",
      "execution_count": null,
      "metadata": {
        "id": "eOiDg7StWSZo"
      },
      "outputs": [],
      "source": [
        "def remove_suffix(text, suffix):\n",
        "    \"\"\"Remove the specified suffix from the given text.\"\"\"\n",
        "    if text.endswith(suffix):\n",
        "        return text[:-len(suffix)]\n",
        "    return text"
      ]
    },
    {
      "cell_type": "markdown",
      "metadata": {
        "id": "jRlwjhEBWSZq"
      },
      "source": [
        "Using just the first 750 images to try on kmeans"
      ]
    },
    {
      "cell_type": "code",
      "execution_count": null,
      "metadata": {
        "id": "PFjplMUZWSZu"
      },
      "outputs": [],
      "source": [
        "from PIL import Image"
      ]
    },
    {
      "cell_type": "code",
      "execution_count": null,
      "metadata": {
        "id": "x_OGXf1oWSZv",
        "outputId": "22d854d9-c4bc-49fc-d661-18b7a9122a5d"
      },
      "outputs": [
        {
          "name": "stderr",
          "output_type": "stream",
          "text": [
            "/usr/local/lib/python3.6/dist-packages/ipykernel_launcher.py:3: SettingWithCopyWarning: \n",
            "A value is trying to be set on a copy of a slice from a DataFrame.\n",
            "Try using .loc[row_indexer,col_indexer] = value instead\n",
            "\n",
            "See the caveats in the documentation: https://pandas.pydata.org/pandas-docs/stable/user_guide/indexing.html#returning-a-view-versus-a-copy\n",
            "  This is separate from the ipykernel package so we can avoid doing imports until\n"
          ]
        }
      ],
      "source": [
        "directory_files = os.listdir(directory_path)\n",
        "for i in range(750):\n",
        "    directory_files[i]=remove_suffix(directory_files[i], '.jpg')\n",
        "\n",
        "cvc_images_train=test_CVC.loc[train['StudyInstanceUID'].isin(directory_files)]\n",
        "ngt_images_train=test_NGT.loc[train['StudyInstanceUID'].isin(directory_files)]\n",
        "ett_images_train=test_ETT.loc[train['StudyInstanceUID'].isin(directory_files)]\n",
        "cvc=add_feature(cvc_images_train,directory_path)\n",
        "ngt=add_feature(ngt_images_train,directory_path)\n",
        "ett=add_feature(ett_images_train,directory_path)\n",
        "#convert to binary datasets\n",
        "cvc_binary_test=cvc[['CVC - Normal','StudyInstanceUID','image']]\n",
        "ngt_binary_test=ngt[['NGT - Normal','StudyInstanceUID','image']]\n",
        "ett_binary_test=ett[['ETT - Normal','StudyInstanceUID','image']]"
      ]
    },
    {
      "cell_type": "markdown",
      "metadata": {
        "id": "DDD3P5JGWSZw"
      },
      "source": [
        "## CVC Binary Test"
      ]
    },
    {
      "cell_type": "code",
      "execution_count": null,
      "metadata": {
        "id": "PvC1HzA9WSZx",
        "outputId": "03389e1b-21f2-4fd3-97a0-a9c920d9d94e"
      },
      "outputs": [
        {
          "data": {
            "text/html": [
              "<div>\n",
              "<style scoped>\n",
              "    .dataframe tbody tr th:only-of-type {\n",
              "        vertical-align: middle;\n",
              "    }\n",
              "\n",
              "    .dataframe tbody tr th {\n",
              "        vertical-align: top;\n",
              "    }\n",
              "\n",
              "    .dataframe thead th {\n",
              "        text-align: right;\n",
              "    }\n",
              "</style>\n",
              "<table border=\"1\" class=\"dataframe\">\n",
              "  <thead>\n",
              "    <tr style=\"text-align: right;\">\n",
              "      <th></th>\n",
              "      <th>CVC - Normal</th>\n",
              "      <th>StudyInstanceUID</th>\n",
              "      <th>image</th>\n",
              "    </tr>\n",
              "  </thead>\n",
              "  <tbody>\n",
              "    <tr>\n",
              "      <th>11</th>\n",
              "      <td>1</td>\n",
              "      <td>1.2.826.0.1.3680043.8.498.84472839875948876829...</td>\n",
              "      <td>[[26, 37, 78, 119, 130, 126, 122, 114, 89, 57,...</td>\n",
              "    </tr>\n",
              "    <tr>\n",
              "      <th>13</th>\n",
              "      <td>1</td>\n",
              "      <td>1.2.826.0.1.3680043.8.498.71008408169501434503...</td>\n",
              "      <td>[[81, 87, 102, 113, 100, 72, 52, 48, 36, 31, 2...</td>\n",
              "    </tr>\n",
              "    <tr>\n",
              "      <th>66</th>\n",
              "      <td>1</td>\n",
              "      <td>1.2.826.0.1.3680043.8.498.33717345723466709327...</td>\n",
              "      <td>[[0, 0, 0, 0, 0, 0, 0, 0, 0, 0, 0, 0, 0, 0, 0,...</td>\n",
              "    </tr>\n",
              "    <tr>\n",
              "      <th>67</th>\n",
              "      <td>1</td>\n",
              "      <td>1.2.826.0.1.3680043.8.498.26255946920569788246...</td>\n",
              "      <td>[[10, 10, 10, 9, 9, 8, 8, 8, 6, 6, 6, 6, 6, 6,...</td>\n",
              "    </tr>\n",
              "    <tr>\n",
              "      <th>124</th>\n",
              "      <td>1</td>\n",
              "      <td>1.2.826.0.1.3680043.8.498.41219045795159738970...</td>\n",
              "      <td>[[3, 4, 5, 6, 7, 7, 7, 7, 6, 6, 6, 6, 6, 6, 6,...</td>\n",
              "    </tr>\n",
              "    <tr>\n",
              "      <th>...</th>\n",
              "      <td>...</td>\n",
              "      <td>...</td>\n",
              "      <td>...</td>\n",
              "    </tr>\n",
              "    <tr>\n",
              "      <th>29978</th>\n",
              "      <td>1</td>\n",
              "      <td>1.2.826.0.1.3680043.8.498.64613994016358304616...</td>\n",
              "      <td>[[0, 0, 0, 0, 0, 0, 0, 0, 0, 0, 0, 0, 0, 0, 0,...</td>\n",
              "    </tr>\n",
              "    <tr>\n",
              "      <th>29995</th>\n",
              "      <td>1</td>\n",
              "      <td>1.2.826.0.1.3680043.8.498.50146387142959002506...</td>\n",
              "      <td>[[1, 1, 1, 1, 1, 1, 1, 1, 1, 1, 1, 1, 1, 1, 1,...</td>\n",
              "    </tr>\n",
              "    <tr>\n",
              "      <th>30000</th>\n",
              "      <td>1</td>\n",
              "      <td>1.2.826.0.1.3680043.8.498.55109503616187115050...</td>\n",
              "      <td>[[0, 1, 1, 1, 2, 6, 12, 16, 13, 11, 9, 9, 11, ...</td>\n",
              "    </tr>\n",
              "    <tr>\n",
              "      <th>30056</th>\n",
              "      <td>0</td>\n",
              "      <td>1.2.826.0.1.3680043.8.498.88232185276535677583...</td>\n",
              "      <td>[[3, 4, 6, 8, 9, 9, 8, 7, 5, 5, 6, 6, 6, 6, 5,...</td>\n",
              "    </tr>\n",
              "    <tr>\n",
              "      <th>30078</th>\n",
              "      <td>1</td>\n",
              "      <td>1.2.826.0.1.3680043.8.498.74257566841157531124...</td>\n",
              "      <td>[[49, 55, 81, 105, 103, 97, 98, 97, 100, 97, 9...</td>\n",
              "    </tr>\n",
              "  </tbody>\n",
              "</table>\n",
              "<p>731 rows × 3 columns</p>\n",
              "</div>"
            ],
            "text/plain": [
              "       CVC - Normal                                   StudyInstanceUID  \\\n",
              "11                1  1.2.826.0.1.3680043.8.498.84472839875948876829...   \n",
              "13                1  1.2.826.0.1.3680043.8.498.71008408169501434503...   \n",
              "66                1  1.2.826.0.1.3680043.8.498.33717345723466709327...   \n",
              "67                1  1.2.826.0.1.3680043.8.498.26255946920569788246...   \n",
              "124               1  1.2.826.0.1.3680043.8.498.41219045795159738970...   \n",
              "...             ...                                                ...   \n",
              "29978             1  1.2.826.0.1.3680043.8.498.64613994016358304616...   \n",
              "29995             1  1.2.826.0.1.3680043.8.498.50146387142959002506...   \n",
              "30000             1  1.2.826.0.1.3680043.8.498.55109503616187115050...   \n",
              "30056             0  1.2.826.0.1.3680043.8.498.88232185276535677583...   \n",
              "30078             1  1.2.826.0.1.3680043.8.498.74257566841157531124...   \n",
              "\n",
              "                                                   image  \n",
              "11     [[26, 37, 78, 119, 130, 126, 122, 114, 89, 57,...  \n",
              "13     [[81, 87, 102, 113, 100, 72, 52, 48, 36, 31, 2...  \n",
              "66     [[0, 0, 0, 0, 0, 0, 0, 0, 0, 0, 0, 0, 0, 0, 0,...  \n",
              "67     [[10, 10, 10, 9, 9, 8, 8, 8, 6, 6, 6, 6, 6, 6,...  \n",
              "124    [[3, 4, 5, 6, 7, 7, 7, 7, 6, 6, 6, 6, 6, 6, 6,...  \n",
              "...                                                  ...  \n",
              "29978  [[0, 0, 0, 0, 0, 0, 0, 0, 0, 0, 0, 0, 0, 0, 0,...  \n",
              "29995  [[1, 1, 1, 1, 1, 1, 1, 1, 1, 1, 1, 1, 1, 1, 1,...  \n",
              "30000  [[0, 1, 1, 1, 2, 6, 12, 16, 13, 11, 9, 9, 11, ...  \n",
              "30056  [[3, 4, 6, 8, 9, 9, 8, 7, 5, 5, 6, 6, 6, 6, 5,...  \n",
              "30078  [[49, 55, 81, 105, 103, 97, 98, 97, 100, 97, 9...  \n",
              "\n",
              "[731 rows x 3 columns]"
            ]
          },
          "execution_count": 16,
          "metadata": {},
          "output_type": "execute_result"
        }
      ],
      "source": [
        "cvc_binary_test"
      ]
    },
    {
      "cell_type": "code",
      "execution_count": null,
      "metadata": {
        "id": "EB0uGcsjWSZy",
        "outputId": "17b1d9d2-cd0b-4706-acf6-399b523ce739"
      },
      "outputs": [
        {
          "data": {
            "text/plain": [
              "(1758, 1804)"
            ]
          },
          "execution_count": 17,
          "metadata": {},
          "output_type": "execute_result"
        }
      ],
      "source": [
        "shapes = []\n",
        "for i in range(len(cvc_binary_test)):\n",
        "  shapes.append(cvc_binary_test.iloc[i].iat[2].shape)\n",
        "min(shapes)"
      ]
    },
    {
      "cell_type": "code",
      "execution_count": null,
      "metadata": {
        "id": "FWboQ9PDWSZz"
      },
      "outputs": [],
      "source": [
        "new_cvc_binary = cvc_binary_test.copy()\n",
        "new_cvc_binary['image'] = new_cvc_binary['image'].apply(lambda x: np.resize(x, min(shapes)))\n",
        "flat_copy = new_cvc_binary.copy()\n",
        "flat_copy['image'] = flat_copy['image'].apply(lambda x: np.array(x).flatten())"
      ]
    },
    {
      "cell_type": "code",
      "execution_count": null,
      "metadata": {
        "id": "mKwkjWX4WSZ0",
        "outputId": "6ad69536-362d-4cc9-8552-44aa3fe8b80e"
      },
      "outputs": [
        {
          "name": "stdout",
          "output_type": "stream",
          "text": [
            "Accuracy of KMeans is 0.66\n"
          ]
        }
      ],
      "source": [
        "from sklearn.model_selection import train_test_split\n",
        "from sklearn.cluster import KMeans\n",
        "import numpy as np\n",
        "\n",
        "X = np.stack(flat_copy['image'].values)\n",
        "Y = flat_copy['CVC - Normal']\n",
        "\n",
        "# Split the dataset into training and testing sets\n",
        "X_train, X_test, y_train, y_test = train_test_split(X, Y, test_size=0.2, random_state=42)\n",
        "\n",
        "# Fit the K-Means model on the training data\n",
        "kmeans = KMeans(n_clusters=2)\n",
        "clusters = kmeans.fit(X_train)\n",
        "\n",
        "from sklearn.metrics import accuracy_score\n",
        "preds = kmeans.predict(X_test)\n",
        "print('Accuracy of KMeans is', np.round(accuracy_score(y_test, preds),3))"
      ]
    },
    {
      "cell_type": "code",
      "execution_count": null,
      "metadata": {
        "id": "9bccgu6OWSZ1",
        "outputId": "5e586ab6-604f-4886-95d3-6cf46cde2881"
      },
      "outputs": [
        {
          "data": {
            "image/png": "[encoded data removed]",
            "text/plain": [
              "<Figure size 576x432 with 1 Axes>"
            ]
          },
          "metadata": {
            "needs_background": "light"
          },
          "output_type": "display_data"
        }
      ],
      "source": [
        "import matplotlib.pyplot as plt\n",
        "from sklearn.metrics import confusion_matrix\n",
        "\n",
        "# Calculate the confusion matrix\n",
        "conf_matrix = confusion_matrix(y_test, preds)\n",
        "plt.figure(figsize=(8, 6))\n",
        "plt.imshow(conf_matrix, cmap='Blues')\n",
        "plt.xticks([0, 1], ['True', 'False'])\n",
        "plt.yticks([0, 1], ['True', 'False'])\n",
        "plt.title('Confusion Matrix')\n",
        "plt.xlabel('Predicted Labels')\n",
        "plt.ylabel('True Labels')\n",
        "\n",
        "# Display the annotations on the heatmap\n",
        "for i in range(len(conf_matrix)):\n",
        "    for j in range(len(conf_matrix[i])):\n",
        "        plt.text(j, i, str(conf_matrix[i, j]), ha='center', va='center', color='black')\n",
        "\n",
        "plt.show()"
      ]
    },
    {
      "cell_type": "code",
      "execution_count": null,
      "metadata": {
        "id": "sKtfmRiOWSZ2",
        "outputId": "03687ff6-2c7f-42ef-c1cb-97dfea54defd"
      },
      "outputs": [
        {
          "name": "stdout",
          "output_type": "stream",
          "text": [
            "Recall: 0.7706422018348624\n"
          ]
        }
      ],
      "source": [
        "from sklearn.metrics import recall_score\n",
        "\n",
        "recall = recall_score(y_test, preds)\n",
        "print(\"Recall:\", recall)"
      ]
    },
    {
      "cell_type": "markdown",
      "metadata": {
        "id": "QG1KPpKgWSZ3"
      },
      "source": [
        "## NGT Binary Test"
      ]
    },
    {
      "cell_type": "code",
      "execution_count": null,
      "metadata": {
        "id": "wxlvHV1SWSZ3",
        "outputId": "e1c64970-52e0-4622-c63b-b0a03e7b8105"
      },
      "outputs": [
        {
          "data": {
            "text/html": [
              "<div>\n",
              "<style scoped>\n",
              "    .dataframe tbody tr th:only-of-type {\n",
              "        vertical-align: middle;\n",
              "    }\n",
              "\n",
              "    .dataframe tbody tr th {\n",
              "        vertical-align: top;\n",
              "    }\n",
              "\n",
              "    .dataframe thead th {\n",
              "        text-align: right;\n",
              "    }\n",
              "</style>\n",
              "<table border=\"1\" class=\"dataframe\">\n",
              "  <thead>\n",
              "    <tr style=\"text-align: right;\">\n",
              "      <th></th>\n",
              "      <th>NGT - Normal</th>\n",
              "      <th>StudyInstanceUID</th>\n",
              "      <th>image</th>\n",
              "    </tr>\n",
              "  </thead>\n",
              "  <tbody>\n",
              "    <tr>\n",
              "      <th>66</th>\n",
              "      <td>1</td>\n",
              "      <td>1.2.826.0.1.3680043.8.498.33717345723466709327...</td>\n",
              "      <td>[[0, 0, 0, 0, 0, 0, 0, 0, 0, 0, 0, 0, 0, 0, 0,...</td>\n",
              "    </tr>\n",
              "    <tr>\n",
              "      <th>204</th>\n",
              "      <td>1</td>\n",
              "      <td>1.2.826.0.1.3680043.8.498.75289336873032144148...</td>\n",
              "      <td>[[2, 2, 2, 2, 2, 2, 2, 2, 2, 2, 2, 2, 2, 2, 2,...</td>\n",
              "    </tr>\n",
              "    <tr>\n",
              "      <th>363</th>\n",
              "      <td>1</td>\n",
              "      <td>1.2.826.0.1.3680043.8.498.36885100611708351610...</td>\n",
              "      <td>[[1, 1, 1, 1, 1, 1, 1, 1, 1, 1, 1, 1, 1, 1, 1,...</td>\n",
              "    </tr>\n",
              "    <tr>\n",
              "      <th>370</th>\n",
              "      <td>1</td>\n",
              "      <td>1.2.826.0.1.3680043.8.498.61214074150651249100...</td>\n",
              "      <td>[[2, 3, 4, 5, 5, 5, 5, 4, 3, 3, 3, 3, 3, 3, 3,...</td>\n",
              "    </tr>\n",
              "    <tr>\n",
              "      <th>592</th>\n",
              "      <td>1</td>\n",
              "      <td>1.2.826.0.1.3680043.8.498.12359997132910172428...</td>\n",
              "      <td>[[0, 0, 0, 0, 0, 0, 0, 0, 0, 0, 0, 0, 0, 0, 0,...</td>\n",
              "    </tr>\n",
              "    <tr>\n",
              "      <th>...</th>\n",
              "      <td>...</td>\n",
              "      <td>...</td>\n",
              "      <td>...</td>\n",
              "    </tr>\n",
              "    <tr>\n",
              "      <th>28983</th>\n",
              "      <td>1</td>\n",
              "      <td>1.2.826.0.1.3680043.8.498.10857088120653277268...</td>\n",
              "      <td>[[1, 1, 1, 1, 1, 1, 1, 1, 1, 1, 1, 1, 1, 1, 1,...</td>\n",
              "    </tr>\n",
              "    <tr>\n",
              "      <th>28990</th>\n",
              "      <td>1</td>\n",
              "      <td>1.2.826.0.1.3680043.8.498.12986665324618114238...</td>\n",
              "      <td>[[44, 44, 64, 83, 79, 73, 74, 72, 77, 76, 74, ...</td>\n",
              "    </tr>\n",
              "    <tr>\n",
              "      <th>29463</th>\n",
              "      <td>1</td>\n",
              "      <td>1.2.826.0.1.3680043.8.498.10888207831037764542...</td>\n",
              "      <td>[[48, 51, 72, 88, 87, 85, 87, 84, 86, 85, 84, ...</td>\n",
              "    </tr>\n",
              "    <tr>\n",
              "      <th>29648</th>\n",
              "      <td>1</td>\n",
              "      <td>1.2.826.0.1.3680043.8.498.75845332040565870699...</td>\n",
              "      <td>[[0, 0, 0, 1, 1, 2, 2, 2, 2, 2, 2, 2, 2, 2, 2,...</td>\n",
              "    </tr>\n",
              "    <tr>\n",
              "      <th>29744</th>\n",
              "      <td>0</td>\n",
              "      <td>1.2.826.0.1.3680043.8.498.75606523706735410120...</td>\n",
              "      <td>[[0, 2, 19, 46, 68, 84, 102, 119, 114, 114, 11...</td>\n",
              "    </tr>\n",
              "  </tbody>\n",
              "</table>\n",
              "<p>137 rows × 3 columns</p>\n",
              "</div>"
            ],
            "text/plain": [
              "       NGT - Normal                                   StudyInstanceUID  \\\n",
              "66                1  1.2.826.0.1.3680043.8.498.33717345723466709327...   \n",
              "204               1  1.2.826.0.1.3680043.8.498.75289336873032144148...   \n",
              "363               1  1.2.826.0.1.3680043.8.498.36885100611708351610...   \n",
              "370               1  1.2.826.0.1.3680043.8.498.61214074150651249100...   \n",
              "592               1  1.2.826.0.1.3680043.8.498.12359997132910172428...   \n",
              "...             ...                                                ...   \n",
              "28983             1  1.2.826.0.1.3680043.8.498.10857088120653277268...   \n",
              "28990             1  1.2.826.0.1.3680043.8.498.12986665324618114238...   \n",
              "29463             1  1.2.826.0.1.3680043.8.498.10888207831037764542...   \n",
              "29648             1  1.2.826.0.1.3680043.8.498.75845332040565870699...   \n",
              "29744             0  1.2.826.0.1.3680043.8.498.75606523706735410120...   \n",
              "\n",
              "                                                   image  \n",
              "66     [[0, 0, 0, 0, 0, 0, 0, 0, 0, 0, 0, 0, 0, 0, 0,...  \n",
              "204    [[2, 2, 2, 2, 2, 2, 2, 2, 2, 2, 2, 2, 2, 2, 2,...  \n",
              "363    [[1, 1, 1, 1, 1, 1, 1, 1, 1, 1, 1, 1, 1, 1, 1,...  \n",
              "370    [[2, 3, 4, 5, 5, 5, 5, 4, 3, 3, 3, 3, 3, 3, 3,...  \n",
              "592    [[0, 0, 0, 0, 0, 0, 0, 0, 0, 0, 0, 0, 0, 0, 0,...  \n",
              "...                                                  ...  \n",
              "28983  [[1, 1, 1, 1, 1, 1, 1, 1, 1, 1, 1, 1, 1, 1, 1,...  \n",
              "28990  [[44, 44, 64, 83, 79, 73, 74, 72, 77, 76, 74, ...  \n",
              "29463  [[48, 51, 72, 88, 87, 85, 87, 84, 86, 85, 84, ...  \n",
              "29648  [[0, 0, 0, 1, 1, 2, 2, 2, 2, 2, 2, 2, 2, 2, 2,...  \n",
              "29744  [[0, 2, 19, 46, 68, 84, 102, 119, 114, 114, 11...  \n",
              "\n",
              "[137 rows x 3 columns]"
            ]
          },
          "execution_count": 29,
          "metadata": {},
          "output_type": "execute_result"
        }
      ],
      "source": [
        "ngt_binary_test"
      ]
    },
    {
      "cell_type": "code",
      "execution_count": null,
      "metadata": {
        "id": "SztciV-aWSZ4",
        "outputId": "b62a0fd3-6a49-44ed-9e7c-fba9e3d8e610"
      },
      "outputs": [
        {
          "name": "stdout",
          "output_type": "stream",
          "text": [
            "Accuracy of KMeans is 0.643\n"
          ]
        }
      ],
      "source": [
        "shapes = []\n",
        "for i in range(len(ngt_binary_test)):\n",
        "  shapes.append(ngt_binary_test.iloc[i].iat[2].shape)\n",
        "min(shapes)\n",
        "\n",
        "new_ngt_binary = ngt_binary_test.copy()\n",
        "new_ngt_binary['image'] = new_ngt_binary['image'].apply(lambda x: np.resize(x, min(shapes)))\n",
        "flat_copy = new_ngt_binary.copy()\n",
        "flat_copy['image'] = flat_copy['image'].apply(lambda x: np.array(x).flatten())\n",
        "\n",
        "X = np.stack(flat_copy['image'].values)\n",
        "Y = flat_copy['NGT - Normal']\n",
        "\n",
        "# Split the dataset into training and testing sets\n",
        "X_train, X_test, y_train, y_test = train_test_split(X, Y, test_size=0.2, random_state=42)\n",
        "\n",
        "# Fit the K-Means model on the training data\n",
        "kmeans = KMeans(n_clusters=2)\n",
        "clusters = kmeans.fit(X_train)\n",
        "\n",
        "from sklearn.metrics import accuracy_score\n",
        "preds = kmeans.predict(X_test)\n",
        "print('Accuracy of KMeans is', np.round(accuracy_score(y_test, preds),3))"
      ]
    },
    {
      "cell_type": "code",
      "execution_count": null,
      "metadata": {
        "id": "cTOv5B7MWSZ5",
        "outputId": "d3c81339-7a06-44a7-8b9d-378e5555dd5b"
      },
      "outputs": [
        {
          "data": {
            "image/png": "[encoded data removed]",
            "text/plain": [
              "<Figure size 576x432 with 1 Axes>"
            ]
          },
          "metadata": {
            "needs_background": "light"
          },
          "output_type": "display_data"
        }
      ],
      "source": [
        "# Calculate the confusion matrix\n",
        "conf_matrix = confusion_matrix(y_test, preds)\n",
        "\n",
        "plt.figure(figsize=(8, 6))\n",
        "plt.imshow(conf_matrix, cmap='Blues')\n",
        "plt.xticks([0, 1], ['True', 'False'])\n",
        "plt.yticks([0, 1], ['True', 'False'])\n",
        "plt.title('Confusion Matrix')\n",
        "plt.xlabel('Predicted Labels')\n",
        "plt.ylabel('True Labels')\n",
        "\n",
        "# Display the annotations on the heatmap\n",
        "for i in range(len(conf_matrix)):\n",
        "    for j in range(len(conf_matrix[i])):\n",
        "        plt.text(j, i, str(conf_matrix[i, j]), ha='center', va='center', color='black')\n",
        "\n",
        "plt.show()"
      ]
    },
    {
      "cell_type": "code",
      "execution_count": null,
      "metadata": {
        "id": "1uR1i6XCWSZ6",
        "outputId": "f44d3996-e0a0-4424-b299-4894c9e7bcb3"
      },
      "outputs": [
        {
          "name": "stdout",
          "output_type": "stream",
          "text": [
            "Recall: 0.68\n"
          ]
        }
      ],
      "source": [
        "from sklearn.metrics import recall_score\n",
        "\n",
        "recall = recall_score(y_test, preds)\n",
        "print(\"Recall:\", recall)"
      ]
    },
    {
      "cell_type": "markdown",
      "metadata": {
        "id": "0Gnqy7CHWSZ7"
      },
      "source": [
        "## ETT Binary Test"
      ]
    },
    {
      "cell_type": "code",
      "execution_count": null,
      "metadata": {
        "id": "v9KeexEzWSZ7",
        "outputId": "abf49456-8487-4e3e-b7fe-deb94352e0fa"
      },
      "outputs": [
        {
          "data": {
            "text/html": [
              "<div>\n",
              "<style scoped>\n",
              "    .dataframe tbody tr th:only-of-type {\n",
              "        vertical-align: middle;\n",
              "    }\n",
              "\n",
              "    .dataframe tbody tr th {\n",
              "        vertical-align: top;\n",
              "    }\n",
              "\n",
              "    .dataframe thead th {\n",
              "        text-align: right;\n",
              "    }\n",
              "</style>\n",
              "<table border=\"1\" class=\"dataframe\">\n",
              "  <thead>\n",
              "    <tr style=\"text-align: right;\">\n",
              "      <th></th>\n",
              "      <th>ETT - Normal</th>\n",
              "      <th>StudyInstanceUID</th>\n",
              "      <th>image</th>\n",
              "    </tr>\n",
              "  </thead>\n",
              "  <tbody>\n",
              "    <tr>\n",
              "      <th>66</th>\n",
              "      <td>1</td>\n",
              "      <td>1.2.826.0.1.3680043.8.498.33717345723466709327...</td>\n",
              "      <td>[[0, 0, 0, 0, 0, 0, 0, 0, 0, 0, 0, 0, 0, 0, 0,...</td>\n",
              "    </tr>\n",
              "    <tr>\n",
              "      <th>204</th>\n",
              "      <td>0</td>\n",
              "      <td>1.2.826.0.1.3680043.8.498.75289336873032144148...</td>\n",
              "      <td>[[2, 2, 2, 2, 2, 2, 2, 2, 2, 2, 2, 2, 2, 2, 2,...</td>\n",
              "    </tr>\n",
              "    <tr>\n",
              "      <th>370</th>\n",
              "      <td>1</td>\n",
              "      <td>1.2.826.0.1.3680043.8.498.61214074150651249100...</td>\n",
              "      <td>[[2, 3, 4, 5, 5, 5, 5, 4, 3, 3, 3, 3, 3, 3, 3,...</td>\n",
              "    </tr>\n",
              "    <tr>\n",
              "      <th>642</th>\n",
              "      <td>1</td>\n",
              "      <td>1.2.826.0.1.3680043.8.498.22634208733796493768...</td>\n",
              "      <td>[[0, 0, 0, 0, 0, 0, 0, 0, 0, 0, 0, 0, 0, 0, 0,...</td>\n",
              "    </tr>\n",
              "    <tr>\n",
              "      <th>842</th>\n",
              "      <td>1</td>\n",
              "      <td>1.2.826.0.1.3680043.8.498.43451491315844703199...</td>\n",
              "      <td>[[6, 7, 10, 12, 12, 12, 10, 9, 7, 9, 10, 10, 9...</td>\n",
              "    </tr>\n",
              "    <tr>\n",
              "      <th>...</th>\n",
              "      <td>...</td>\n",
              "      <td>...</td>\n",
              "      <td>...</td>\n",
              "    </tr>\n",
              "    <tr>\n",
              "      <th>29632</th>\n",
              "      <td>1</td>\n",
              "      <td>1.2.826.0.1.3680043.8.498.41330452837238092982...</td>\n",
              "      <td>[[0, 0, 0, 0, 0, 0, 0, 0, 0, 0, 0, 0, 0, 0, 0,...</td>\n",
              "    </tr>\n",
              "    <tr>\n",
              "      <th>29648</th>\n",
              "      <td>1</td>\n",
              "      <td>1.2.826.0.1.3680043.8.498.75845332040565870699...</td>\n",
              "      <td>[[0, 0, 0, 1, 1, 2, 2, 2, 2, 2, 2, 2, 2, 2, 2,...</td>\n",
              "    </tr>\n",
              "    <tr>\n",
              "      <th>29704</th>\n",
              "      <td>1</td>\n",
              "      <td>1.2.826.0.1.3680043.8.498.88814869338673502733...</td>\n",
              "      <td>[[3, 4, 5, 6, 7, 7, 7, 7, 6, 5, 4, 4, 4, 4, 5,...</td>\n",
              "    </tr>\n",
              "    <tr>\n",
              "      <th>29744</th>\n",
              "      <td>1</td>\n",
              "      <td>1.2.826.0.1.3680043.8.498.75606523706735410120...</td>\n",
              "      <td>[[0, 2, 19, 46, 68, 84, 102, 119, 114, 114, 11...</td>\n",
              "    </tr>\n",
              "    <tr>\n",
              "      <th>30078</th>\n",
              "      <td>1</td>\n",
              "      <td>1.2.826.0.1.3680043.8.498.74257566841157531124...</td>\n",
              "      <td>[[49, 55, 81, 105, 103, 97, 98, 97, 100, 97, 9...</td>\n",
              "    </tr>\n",
              "  </tbody>\n",
              "</table>\n",
              "<p>190 rows × 3 columns</p>\n",
              "</div>"
            ],
            "text/plain": [
              "       ETT - Normal                                   StudyInstanceUID  \\\n",
              "66                1  1.2.826.0.1.3680043.8.498.33717345723466709327...   \n",
              "204               0  1.2.826.0.1.3680043.8.498.75289336873032144148...   \n",
              "370               1  1.2.826.0.1.3680043.8.498.61214074150651249100...   \n",
              "642               1  1.2.826.0.1.3680043.8.498.22634208733796493768...   \n",
              "842               1  1.2.826.0.1.3680043.8.498.43451491315844703199...   \n",
              "...             ...                                                ...   \n",
              "29632             1  1.2.826.0.1.3680043.8.498.41330452837238092982...   \n",
              "29648             1  1.2.826.0.1.3680043.8.498.75845332040565870699...   \n",
              "29704             1  1.2.826.0.1.3680043.8.498.88814869338673502733...   \n",
              "29744             1  1.2.826.0.1.3680043.8.498.75606523706735410120...   \n",
              "30078             1  1.2.826.0.1.3680043.8.498.74257566841157531124...   \n",
              "\n",
              "                                                   image  \n",
              "66     [[0, 0, 0, 0, 0, 0, 0, 0, 0, 0, 0, 0, 0, 0, 0,...  \n",
              "204    [[2, 2, 2, 2, 2, 2, 2, 2, 2, 2, 2, 2, 2, 2, 2,...  \n",
              "370    [[2, 3, 4, 5, 5, 5, 5, 4, 3, 3, 3, 3, 3, 3, 3,...  \n",
              "642    [[0, 0, 0, 0, 0, 0, 0, 0, 0, 0, 0, 0, 0, 0, 0,...  \n",
              "842    [[6, 7, 10, 12, 12, 12, 10, 9, 7, 9, 10, 10, 9...  \n",
              "...                                                  ...  \n",
              "29632  [[0, 0, 0, 0, 0, 0, 0, 0, 0, 0, 0, 0, 0, 0, 0,...  \n",
              "29648  [[0, 0, 0, 1, 1, 2, 2, 2, 2, 2, 2, 2, 2, 2, 2,...  \n",
              "29704  [[3, 4, 5, 6, 7, 7, 7, 7, 6, 5, 4, 4, 4, 4, 5,...  \n",
              "29744  [[0, 2, 19, 46, 68, 84, 102, 119, 114, 114, 11...  \n",
              "30078  [[49, 55, 81, 105, 103, 97, 98, 97, 100, 97, 9...  \n",
              "\n",
              "[190 rows x 3 columns]"
            ]
          },
          "execution_count": 28,
          "metadata": {},
          "output_type": "execute_result"
        }
      ],
      "source": [
        "ett_binary_test"
      ]
    },
    {
      "cell_type": "code",
      "execution_count": null,
      "metadata": {
        "id": "HgQCFFkeWSZ8",
        "outputId": "294e7054-b4a7-47e8-b453-483179650b0d"
      },
      "outputs": [
        {
          "name": "stdout",
          "output_type": "stream",
          "text": [
            "Accuracy of KMeans is 0.737\n"
          ]
        }
      ],
      "source": [
        "shapes = []\n",
        "for i in range(len(ett_binary_test)):\n",
        "  shapes.append(ett_binary_test.iloc[i].iat[2].shape)\n",
        "min(shapes)\n",
        "\n",
        "new_ett_binary = ett_binary_test.copy()\n",
        "new_ett_binary['image'] = new_ett_binary['image'].apply(lambda x: np.resize(x, min(shapes)))\n",
        "flat_copy = new_ett_binary.copy()\n",
        "flat_copy['image'] = flat_copy['image'].apply(lambda x: np.array(x).flatten())\n",
        "\n",
        "X = np.stack(flat_copy['image'].values)\n",
        "Y = flat_copy['ETT - Normal']\n",
        "\n",
        "# Split the dataset into training and testing sets\n",
        "X_train, X_test, y_train, y_test = train_test_split(X, Y, test_size=0.2, random_state=42)\n",
        "\n",
        "# Fit the K-Means model on the training data\n",
        "kmeans = KMeans(n_clusters=2)\n",
        "clusters = kmeans.fit(X_train)\n",
        "\n",
        "from sklearn.metrics import accuracy_score\n",
        "preds = kmeans.predict(X_test)\n",
        "print('Accuracy of KMeans is', np.round(accuracy_score(y_test, preds),3))"
      ]
    },
    {
      "cell_type": "code",
      "execution_count": null,
      "metadata": {
        "id": "LgdVC13lWSZ-",
        "outputId": "243269bd-bd95-4c8a-eac6-77a945b7a1ba"
      },
      "outputs": [
        {
          "data": {
            "image/png": "[encoded data removed]",
            "text/plain": [
              "<Figure size 576x432 with 1 Axes>"
            ]
          },
          "metadata": {
            "needs_background": "light"
          },
          "output_type": "display_data"
        }
      ],
      "source": [
        "# Calculate the confusion matrix\n",
        "conf_matrix = confusion_matrix(y_test, preds)\n",
        "\n",
        "plt.figure(figsize=(8, 6))\n",
        "plt.imshow(conf_matrix, cmap='Blues')\n",
        "plt.xticks([0, 1], ['True', 'False'])\n",
        "plt.yticks([0, 1], ['True', 'False'])\n",
        "plt.title('Confusion Matrix')\n",
        "plt.xlabel('Predicted Labels')\n",
        "plt.ylabel('True Labels')\n",
        "\n",
        "# Display the annotations on the heatmap\n",
        "for i in range(len(conf_matrix)):\n",
        "    for j in range(len(conf_matrix[i])):\n",
        "        plt.text(j, i, str(conf_matrix[i, j]), ha='center', va='center', color='black')\n",
        "\n",
        "plt.show()"
      ]
    },
    {
      "cell_type": "code",
      "execution_count": null,
      "metadata": {
        "id": "OrMcLNYWWSZ_",
        "outputId": "a60a7c45-4c29-4a05-c27f-ceae20fc9b1e"
      },
      "outputs": [
        {
          "name": "stdout",
          "output_type": "stream",
          "text": [
            "Recall: 0.8\n"
          ]
        }
      ],
      "source": [
        "from sklearn.metrics import recall_score\n",
        "\n",
        "recall = recall_score(y_test, preds)\n",
        "print(\"Recall:\", recall)"
      ]
    },
    {
      "cell_type": "code",
      "execution_count": null,
      "metadata": {
        "id": "R5E57o8FWSaA"
      },
      "outputs": [],
      "source": []
    }
  ],
  "metadata": {
    "kernelspec": {
      "display_name": "Python 3",
      "language": "python",
      "name": "python3"
    },
    "language_info": {
      "codemirror_mode": {
        "name": "ipython",
        "version": 3
      },
      "file_extension": ".py",
      "mimetype": "text/x-python",
      "name": "python",
      "nbconvert_exporter": "python",
      "pygments_lexer": "ipython3",
      "version": "3.6.9"
    },
    "colab": {
      "provenance": [],
      "include_colab_link": true
    }
  },
  "nbformat": 4,
  "nbformat_minor": 0
}