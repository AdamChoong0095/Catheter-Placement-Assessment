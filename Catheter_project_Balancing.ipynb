{
  "cells": [
    {
      "cell_type": "markdown",
      "metadata": {
        "id": "view-in-github",
        "colab_type": "text"
      },
      "source": [
        "<a href=\"https://colab.research.google.com/github/louisechilds/ADS2002-Catheter/blob/main/Catheter_project_Balancing.ipynb\" target=\"_parent\"><img src=\"https://colab.research.google.com/assets/colab-badge.svg\" alt=\"Open In Colab\"/></a>"
      ]
    },
    {
      "cell_type": "markdown",
      "metadata": {
        "id": "hfzGdcGZL5SX"
      },
      "source": [
        "# Catheter project (Balancing)\n",
        "\n",
        "Contributors:\n",
        "Adam Choong\n",
        "Louise Childs\n",
        "Isaac Woods\n",
        "Fengzhe Yang\n"
      ]
    },
    {
      "cell_type": "code",
      "execution_count": 80,
      "metadata": {
        "colab": {
          "base_uri": "https://localhost:8080/"
        },
        "id": "tONDez4yXNnt",
        "outputId": "f489d7fa-de5e-4b04-b6a5-66f826ffa749"
      },
      "outputs": [
        {
          "output_type": "stream",
          "name": "stdout",
          "text": [
            "Drive already mounted at /content/drive; to attempt to forcibly remount, call drive.mount(\"/content/drive\", force_remount=True).\n"
          ]
        }
      ],
      "source": [
        "from google.colab import drive\n",
        "drive.mount('/content/drive')"
      ]
    },
    {
      "cell_type": "code",
      "execution_count": 81,
      "metadata": {
        "id": "sUuFBBN2MtUD"
      },
      "outputs": [],
      "source": [
        "import pandas as pd\n",
        "RS=42#set random seed consistent\n",
        "train=pd.read_csv('/content/drive/MyDrive/ADS2002/ranzcr-clip-catheter-line-classification/train.csv')\n",
        "train_annot=pd.read_csv('/content/drive/MyDrive/ADS2002/ranzcr-clip-catheter-line-classification/train_annotations.csv')"
      ]
    },
    {
      "cell_type": "markdown",
      "source": [
        "## EDA and prelimary inspection\n",
        "We must spot any missing values and decide what to do with them if we find them. Next we do some research on definitions for our variables and generate visual representations of our data"
      ],
      "metadata": {
        "id": "fCeW2bneors6"
      }
    },
    {
      "cell_type": "code",
      "execution_count": 82,
      "metadata": {
        "colab": {
          "base_uri": "https://localhost:8080/"
        },
        "id": "L7BSskZAWuYo",
        "outputId": "f8e1d04a-cc45-4106-bcf2-1df9cf7a2e54"
      },
      "outputs": [
        {
          "output_type": "execute_result",
          "data": {
            "text/plain": [
              "(StudyInstanceUID              0\n",
              " ETT - Abnormal                0\n",
              " ETT - Borderline              0\n",
              " ETT - Normal                  0\n",
              " NGT - Abnormal                0\n",
              " NGT - Borderline              0\n",
              " NGT - Incompletely Imaged     0\n",
              " NGT - Normal                  0\n",
              " CVC - Abnormal                0\n",
              " CVC - Borderline              0\n",
              " CVC - Normal                  0\n",
              " Swan Ganz Catheter Present    0\n",
              " PatientID                     0\n",
              " dtype: int64,\n",
              " StudyInstanceUID    0\n",
              " label               0\n",
              " data                0\n",
              " dtype: int64)"
            ]
          },
          "metadata": {},
          "execution_count": 82
        }
      ],
      "source": [
        "train.isna().sum(),train_annot.isna().sum()"
      ]
    },
    {
      "cell_type": "markdown",
      "metadata": {
        "id": "8lK3eD0LXnkv"
      },
      "source": [
        "There are no missing values to impute in the training dataset. Now we complete standard exploratory data analysis and visualisation on the csv files:"
      ]
    },
    {
      "cell_type": "code",
      "execution_count": 83,
      "metadata": {
        "colab": {
          "base_uri": "https://localhost:8080/"
        },
        "id": "mwiiI4x9XnKr",
        "outputId": "20365908-2494-48f1-e1de-0024757a0f88"
      },
      "outputs": [
        {
          "output_type": "stream",
          "name": "stdout",
          "text": [
            "There are 3255 patients being examined in the data\n"
          ]
        }
      ],
      "source": [
        "total_pats=train['PatientID'].unique().shape[0]\n",
        "print(f\"There are {train['PatientID'].unique().shape[0]} patients being examined in the data\")"
      ]
    },
    {
      "cell_type": "code",
      "execution_count": 84,
      "metadata": {
        "colab": {
          "base_uri": "https://localhost:8080/",
          "height": 310
        },
        "id": "kgXTvSPQXYMo",
        "outputId": "fb796a57-ed55-4ec7-e6c0-4936763107aa"
      },
      "outputs": [
        {
          "output_type": "stream",
          "name": "stderr",
          "text": [
            "<ipython-input-84-9639944617e7>:2: FutureWarning: The default value of numeric_only in DataFrameGroupBy.sum is deprecated. In a future version, numeric_only will default to False. Either specify numeric_only or select only columns which should be valid for the function.\n",
            "  patients=train.groupby(['PatientID']).sum()\n"
          ]
        },
        {
          "output_type": "execute_result",
          "data": {
            "text/plain": [
              "           ETT - Abnormal  ETT - Borderline  ETT - Normal  NGT - Abnormal  \\\n",
              "PatientID                                                                   \n",
              "003e65ddb               0                 0             0               0   \n",
              "00757839e               0                 0             0               0   \n",
              "008d12164               0                 3             1               0   \n",
              "009cedf2b               0                 0             0               0   \n",
              "009de0875               0                 0             0               0   \n",
              "\n",
              "           NGT - Borderline  NGT - Incompletely Imaged  NGT - Normal  \\\n",
              "PatientID                                                              \n",
              "003e65ddb                 0                          0             0   \n",
              "00757839e                 0                          0             0   \n",
              "008d12164                 0                          3             6   \n",
              "009cedf2b                 0                          0             0   \n",
              "009de0875                 0                          0             0   \n",
              "\n",
              "           CVC - Abnormal  CVC - Borderline  CVC - Normal  \\\n",
              "PatientID                                                   \n",
              "003e65ddb               2                 0             1   \n",
              "00757839e               0                 2             2   \n",
              "008d12164               2                 6             7   \n",
              "009cedf2b               0                 1             2   \n",
              "009de0875               0                 0             9   \n",
              "\n",
              "           Swan Ganz Catheter Present  \n",
              "PatientID                              \n",
              "003e65ddb                           0  \n",
              "00757839e                           0  \n",
              "008d12164                           0  \n",
              "009cedf2b                           0  \n",
              "009de0875                           0  "
            ],
            "text/html": [
              "\n",
              "  <div id=\"df-08bab403-8ea9-48d1-8364-353c1abf2550\" class=\"colab-df-container\">\n",
              "    <div>\n",
              "<style scoped>\n",
              "    .dataframe tbody tr th:only-of-type {\n",
              "        vertical-align: middle;\n",
              "    }\n",
              "\n",
              "    .dataframe tbody tr th {\n",
              "        vertical-align: top;\n",
              "    }\n",
              "\n",
              "    .dataframe thead th {\n",
              "        text-align: right;\n",
              "    }\n",
              "</style>\n",
              "<table border=\"1\" class=\"dataframe\">\n",
              "  <thead>\n",
              "    <tr style=\"text-align: right;\">\n",
              "      <th></th>\n",
              "      <th>ETT - Abnormal</th>\n",
              "      <th>ETT - Borderline</th>\n",
              "      <th>ETT - Normal</th>\n",
              "      <th>NGT - Abnormal</th>\n",
              "      <th>NGT - Borderline</th>\n",
              "      <th>NGT - Incompletely Imaged</th>\n",
              "      <th>NGT - Normal</th>\n",
              "      <th>CVC - Abnormal</th>\n",
              "      <th>CVC - Borderline</th>\n",
              "      <th>CVC - Normal</th>\n",
              "      <th>Swan Ganz Catheter Present</th>\n",
              "    </tr>\n",
              "    <tr>\n",
              "      <th>PatientID</th>\n",
              "      <th></th>\n",
              "      <th></th>\n",
              "      <th></th>\n",
              "      <th></th>\n",
              "      <th></th>\n",
              "      <th></th>\n",
              "      <th></th>\n",
              "      <th></th>\n",
              "      <th></th>\n",
              "      <th></th>\n",
              "      <th></th>\n",
              "    </tr>\n",
              "  </thead>\n",
              "  <tbody>\n",
              "    <tr>\n",
              "      <th>003e65ddb</th>\n",
              "      <td>0</td>\n",
              "      <td>0</td>\n",
              "      <td>0</td>\n",
              "      <td>0</td>\n",
              "      <td>0</td>\n",
              "      <td>0</td>\n",
              "      <td>0</td>\n",
              "      <td>2</td>\n",
              "      <td>0</td>\n",
              "      <td>1</td>\n",
              "      <td>0</td>\n",
              "    </tr>\n",
              "    <tr>\n",
              "      <th>00757839e</th>\n",
              "      <td>0</td>\n",
              "      <td>0</td>\n",
              "      <td>0</td>\n",
              "      <td>0</td>\n",
              "      <td>0</td>\n",
              "      <td>0</td>\n",
              "      <td>0</td>\n",
              "      <td>0</td>\n",
              "      <td>2</td>\n",
              "      <td>2</td>\n",
              "      <td>0</td>\n",
              "    </tr>\n",
              "    <tr>\n",
              "      <th>008d12164</th>\n",
              "      <td>0</td>\n",
              "      <td>3</td>\n",
              "      <td>1</td>\n",
              "      <td>0</td>\n",
              "      <td>0</td>\n",
              "      <td>3</td>\n",
              "      <td>6</td>\n",
              "      <td>2</td>\n",
              "      <td>6</td>\n",
              "      <td>7</td>\n",
              "      <td>0</td>\n",
              "    </tr>\n",
              "    <tr>\n",
              "      <th>009cedf2b</th>\n",
              "      <td>0</td>\n",
              "      <td>0</td>\n",
              "      <td>0</td>\n",
              "      <td>0</td>\n",
              "      <td>0</td>\n",
              "      <td>0</td>\n",
              "      <td>0</td>\n",
              "      <td>0</td>\n",
              "      <td>1</td>\n",
              "      <td>2</td>\n",
              "      <td>0</td>\n",
              "    </tr>\n",
              "    <tr>\n",
              "      <th>009de0875</th>\n",
              "      <td>0</td>\n",
              "      <td>0</td>\n",
              "      <td>0</td>\n",
              "      <td>0</td>\n",
              "      <td>0</td>\n",
              "      <td>0</td>\n",
              "      <td>0</td>\n",
              "      <td>0</td>\n",
              "      <td>0</td>\n",
              "      <td>9</td>\n",
              "      <td>0</td>\n",
              "    </tr>\n",
              "  </tbody>\n",
              "</table>\n",
              "</div>\n",
              "    <div class=\"colab-df-buttons\">\n",
              "\n",
              "  <div class=\"colab-df-container\">\n",
              "    <button class=\"colab-df-convert\" onclick=\"convertToInteractive('df-08bab403-8ea9-48d1-8364-353c1abf2550')\"\n",
              "            title=\"Convert this dataframe to an interactive table.\"\n",
              "            style=\"display:none;\">\n",
              "\n",
              "  <svg xmlns=\"http://www.w3.org/2000/svg\" height=\"24px\" viewBox=\"0 -960 960 960\">\n",
              "    <path d=\"M120-120v-720h720v720H120Zm60-500h600v-160H180v160Zm220 220h160v-160H400v160Zm0 220h160v-160H400v160ZM180-400h160v-160H180v160Zm440 0h160v-160H620v160ZM180-180h160v-160H180v160Zm440 0h160v-160H620v160Z\"/>\n",
              "  </svg>\n",
              "    </button>\n",
              "\n",
              "  <style>\n",
              "    .colab-df-container {\n",
              "      display:flex;\n",
              "      gap: 12px;\n",
              "    }\n",
              "\n",
              "    .colab-df-convert {\n",
              "      background-color: #E8F0FE;\n",
              "      border: none;\n",
              "      border-radius: 50%;\n",
              "      cursor: pointer;\n",
              "      display: none;\n",
              "      fill: #1967D2;\n",
              "      height: 32px;\n",
              "      padding: 0 0 0 0;\n",
              "      width: 32px;\n",
              "    }\n",
              "\n",
              "    .colab-df-convert:hover {\n",
              "      background-color: #E2EBFA;\n",
              "      box-shadow: 0px 1px 2px rgba(60, 64, 67, 0.3), 0px 1px 3px 1px rgba(60, 64, 67, 0.15);\n",
              "      fill: #174EA6;\n",
              "    }\n",
              "\n",
              "    .colab-df-buttons div {\n",
              "      margin-bottom: 4px;\n",
              "    }\n",
              "\n",
              "    [theme=dark] .colab-df-convert {\n",
              "      background-color: #3B4455;\n",
              "      fill: #D2E3FC;\n",
              "    }\n",
              "\n",
              "    [theme=dark] .colab-df-convert:hover {\n",
              "      background-color: #434B5C;\n",
              "      box-shadow: 0px 1px 3px 1px rgba(0, 0, 0, 0.15);\n",
              "      filter: drop-shadow(0px 1px 2px rgba(0, 0, 0, 0.3));\n",
              "      fill: #FFFFFF;\n",
              "    }\n",
              "  </style>\n",
              "\n",
              "    <script>\n",
              "      const buttonEl =\n",
              "        document.querySelector('#df-08bab403-8ea9-48d1-8364-353c1abf2550 button.colab-df-convert');\n",
              "      buttonEl.style.display =\n",
              "        google.colab.kernel.accessAllowed ? 'block' : 'none';\n",
              "\n",
              "      async function convertToInteractive(key) {\n",
              "        const element = document.querySelector('#df-08bab403-8ea9-48d1-8364-353c1abf2550');\n",
              "        const dataTable =\n",
              "          await google.colab.kernel.invokeFunction('convertToInteractive',\n",
              "                                                    [key], {});\n",
              "        if (!dataTable) return;\n",
              "\n",
              "        const docLinkHtml = 'Like what you see? Visit the ' +\n",
              "          '<a target=\"_blank\" href=https://colab.research.google.com/notebooks/data_table.ipynb>data table notebook</a>'\n",
              "          + ' to learn more about interactive tables.';\n",
              "        element.innerHTML = '';\n",
              "        dataTable['output_type'] = 'display_data';\n",
              "        await google.colab.output.renderOutput(dataTable, element);\n",
              "        const docLink = document.createElement('div');\n",
              "        docLink.innerHTML = docLinkHtml;\n",
              "        element.appendChild(docLink);\n",
              "      }\n",
              "    </script>\n",
              "  </div>\n",
              "\n",
              "\n",
              "<div id=\"df-27789edc-1d6a-4b43-bef5-c142e6e87900\">\n",
              "  <button class=\"colab-df-quickchart\" onclick=\"quickchart('df-27789edc-1d6a-4b43-bef5-c142e6e87900')\"\n",
              "            title=\"Suggest charts.\"\n",
              "            style=\"display:none;\">\n",
              "\n",
              "<svg xmlns=\"http://www.w3.org/2000/svg\" height=\"24px\"viewBox=\"0 0 24 24\"\n",
              "     width=\"24px\">\n",
              "    <g>\n",
              "        <path d=\"M19 3H5c-1.1 0-2 .9-2 2v14c0 1.1.9 2 2 2h14c1.1 0 2-.9 2-2V5c0-1.1-.9-2-2-2zM9 17H7v-7h2v7zm4 0h-2V7h2v10zm4 0h-2v-4h2v4z\"/>\n",
              "    </g>\n",
              "</svg>\n",
              "  </button>\n",
              "\n",
              "<style>\n",
              "  .colab-df-quickchart {\n",
              "      --bg-color: #E8F0FE;\n",
              "      --fill-color: #1967D2;\n",
              "      --hover-bg-color: #E2EBFA;\n",
              "      --hover-fill-color: #174EA6;\n",
              "      --disabled-fill-color: #AAA;\n",
              "      --disabled-bg-color: #DDD;\n",
              "  }\n",
              "\n",
              "  [theme=dark] .colab-df-quickchart {\n",
              "      --bg-color: #3B4455;\n",
              "      --fill-color: #D2E3FC;\n",
              "      --hover-bg-color: #434B5C;\n",
              "      --hover-fill-color: #FFFFFF;\n",
              "      --disabled-bg-color: #3B4455;\n",
              "      --disabled-fill-color: #666;\n",
              "  }\n",
              "\n",
              "  .colab-df-quickchart {\n",
              "    background-color: var(--bg-color);\n",
              "    border: none;\n",
              "    border-radius: 50%;\n",
              "    cursor: pointer;\n",
              "    display: none;\n",
              "    fill: var(--fill-color);\n",
              "    height: 32px;\n",
              "    padding: 0;\n",
              "    width: 32px;\n",
              "  }\n",
              "\n",
              "  .colab-df-quickchart:hover {\n",
              "    background-color: var(--hover-bg-color);\n",
              "    box-shadow: 0 1px 2px rgba(60, 64, 67, 0.3), 0 1px 3px 1px rgba(60, 64, 67, 0.15);\n",
              "    fill: var(--button-hover-fill-color);\n",
              "  }\n",
              "\n",
              "  .colab-df-quickchart-complete:disabled,\n",
              "  .colab-df-quickchart-complete:disabled:hover {\n",
              "    background-color: var(--disabled-bg-color);\n",
              "    fill: var(--disabled-fill-color);\n",
              "    box-shadow: none;\n",
              "  }\n",
              "\n",
              "  .colab-df-spinner {\n",
              "    border: 2px solid var(--fill-color);\n",
              "    border-color: transparent;\n",
              "    border-bottom-color: var(--fill-color);\n",
              "    animation:\n",
              "      spin 1s steps(1) infinite;\n",
              "  }\n",
              "\n",
              "  @keyframes spin {\n",
              "    0% {\n",
              "      border-color: transparent;\n",
              "      border-bottom-color: var(--fill-color);\n",
              "      border-left-color: var(--fill-color);\n",
              "    }\n",
              "    20% {\n",
              "      border-color: transparent;\n",
              "      border-left-color: var(--fill-color);\n",
              "      border-top-color: var(--fill-color);\n",
              "    }\n",
              "    30% {\n",
              "      border-color: transparent;\n",
              "      border-left-color: var(--fill-color);\n",
              "      border-top-color: var(--fill-color);\n",
              "      border-right-color: var(--fill-color);\n",
              "    }\n",
              "    40% {\n",
              "      border-color: transparent;\n",
              "      border-right-color: var(--fill-color);\n",
              "      border-top-color: var(--fill-color);\n",
              "    }\n",
              "    60% {\n",
              "      border-color: transparent;\n",
              "      border-right-color: var(--fill-color);\n",
              "    }\n",
              "    80% {\n",
              "      border-color: transparent;\n",
              "      border-right-color: var(--fill-color);\n",
              "      border-bottom-color: var(--fill-color);\n",
              "    }\n",
              "    90% {\n",
              "      border-color: transparent;\n",
              "      border-bottom-color: var(--fill-color);\n",
              "    }\n",
              "  }\n",
              "</style>\n",
              "\n",
              "  <script>\n",
              "    async function quickchart(key) {\n",
              "      const quickchartButtonEl =\n",
              "        document.querySelector('#' + key + ' button');\n",
              "      quickchartButtonEl.disabled = true;  // To prevent multiple clicks.\n",
              "      quickchartButtonEl.classList.add('colab-df-spinner');\n",
              "      try {\n",
              "        const charts = await google.colab.kernel.invokeFunction(\n",
              "            'suggestCharts', [key], {});\n",
              "      } catch (error) {\n",
              "        console.error('Error during call to suggestCharts:', error);\n",
              "      }\n",
              "      quickchartButtonEl.classList.remove('colab-df-spinner');\n",
              "      quickchartButtonEl.classList.add('colab-df-quickchart-complete');\n",
              "    }\n",
              "    (() => {\n",
              "      let quickchartButtonEl =\n",
              "        document.querySelector('#df-27789edc-1d6a-4b43-bef5-c142e6e87900 button');\n",
              "      quickchartButtonEl.style.display =\n",
              "        google.colab.kernel.accessAllowed ? 'block' : 'none';\n",
              "    })();\n",
              "  </script>\n",
              "</div>\n",
              "    </div>\n",
              "  </div>\n"
            ]
          },
          "metadata": {},
          "execution_count": 84
        }
      ],
      "source": [
        "#group data by patients\n",
        "patients=train.groupby(['PatientID']).sum()\n",
        "patients.head()"
      ]
    },
    {
      "cell_type": "markdown",
      "metadata": {
        "id": "KwhhPDOm2tOK"
      },
      "source": [
        "Features and terms in the dataset\n",
        "\n",
        "* `ETT`: Endotrachael position describes the placement of the tube into the trachea that enables artificial ventilation. (assists with breathing)\n",
        "* `NGT`: Nasogastric tube positioning describes the placement of the tube through the nostril to the back of the throat and passing through the oesophagus to the stomach. The nasogastric tube assists with feeding food into the digestive system.\n",
        "* `CVC`: central venous catheater tube placement describes how the tube has been inserted into the heart through the inferior vena cava (a large vein). The purpose of the CVC tube is to pump drugs into circulation around the body.\n",
        "* Swam Ganz Catheter: a thin tube that passes through the arteries in the heart to the lungs. This tube monitors the heart's blood flow and pressure."
      ]
    },
    {
      "cell_type": "code",
      "execution_count": 85,
      "metadata": {
        "colab": {
          "base_uri": "https://localhost:8080/"
        },
        "id": "vuEQRyBjdhTJ",
        "outputId": "095d7d56-a097-4f61-aa7e-e2dd3bf424be"
      },
      "outputs": [
        {
          "output_type": "stream",
          "name": "stdout",
          "text": [
            "The are 30083 images\n",
            "The are 9095 annotations\n"
          ]
        }
      ],
      "source": [
        "print(f\"The are {train['StudyInstanceUID'].unique().shape[0]} images\")\n",
        "print(f\"The are {train_annot['StudyInstanceUID'].unique().shape[0]} annotations\")"
      ]
    },
    {
      "cell_type": "code",
      "execution_count": 86,
      "metadata": {
        "id": "3_VczCB5yxgz"
      },
      "outputs": [],
      "source": [
        "import matplotlib.pyplot as plt\n",
        "import numpy as np\n",
        "import seaborn as sns"
      ]
    },
    {
      "cell_type": "code",
      "source": [
        "sums=pd.DataFrame(patients.sum())\n",
        "sums\n",
        "graph_sums=pd.DataFrame({'ETT':[patients['ETT - Abnormal'].sum(),patients['ETT - Borderline'].sum(),patients['ETT - Normal'].sum(),0],\n",
        "                         'CVC':[patients['CVC - Abnormal'].sum(),patients['CVC - Borderline'].sum(),patients['CVC - Normal'].sum(),0],\n",
        "                         'NGT':[patients['NGT - Abnormal'].sum(),patients['NGT - Borderline'].sum(),patients['NGT - Normal'].sum(),patients['NGT - Incompletely Imaged'].sum()]})\n",
        "graph_sums=graph_sums.transpose()\n",
        "graph_sums=graph_sums.rename(columns={0:'Abnormal',1:'Borderline',2:'Normal',3:'Incompletely Imaged'})\n",
        "graph_sums.plot.bar(stacked=True,title='Levels of catheter placement by type')"
      ],
      "metadata": {
        "colab": {
          "base_uri": "https://localhost:8080/",
          "height": 484
        },
        "id": "HLrTsVBuN7lz",
        "outputId": "de7f021f-12ed-4bbc-f5be-676e787f0723"
      },
      "execution_count": 87,
      "outputs": [
        {
          "output_type": "execute_result",
          "data": {
            "text/plain": [
              "<Axes: title={'center': 'Levels of catheter placement by type'}>"
            ]
          },
          "metadata": {},
          "execution_count": 87
        },
        {
          "output_type": "display_data",
          "data": {
            "text/plain": [
              "<Figure size 640x480 with 1 Axes>"
            ],
            "image/png": "[encoded data removed]"
          },
          "metadata": {}
        }
      ]
    },
    {
      "cell_type": "markdown",
      "source": [
        "From this visual, there is an overwhelming presence of normally placed catheters as expected but this creates issues with bias and other imbalanced data related problems."
      ],
      "metadata": {
        "id": "Wf68AiaapLkV"
      }
    },
    {
      "cell_type": "markdown",
      "source": [
        "Our classifiication problem is of a binary nature to simplify the purpose of our investigation. More specifically, we want to detect anolmalies, but we do not want to pay attention to what type, initially. For this reason, we consider removing incompletely imaged instances from our training and testing sets.\n",
        "\n",
        "Furthermore, we must consider balancing the dataset using different sampling methods. This is to moderate our bias and variance in the data we are testing. This will be done during our sampling stage."
      ],
      "metadata": {
        "id": "_jVzDh2Ca4FR"
      }
    },
    {
      "cell_type": "markdown",
      "source": [
        "## Reading the data\n",
        "We need to manipulate our dataset so it fulfils the mentioned criteria\n",
        "* Binary labelling\n",
        "* Relevant outcomes only considered\n",
        "* Well balanced variations"
      ],
      "metadata": {
        "id": "6BhK7Qm88es2"
      }
    },
    {
      "cell_type": "markdown",
      "source": [
        "Since the entire dataset is too large and we need to be mindful of the RAM capacity, there needs to be a function in place to partially read a random sample of the dataset. We also need to organise the dataframes in such as way that it contains the images as the \"feature variable\" and the outcomes as the labels"
      ],
      "metadata": {
        "id": "f5Lwuh1_QLzQ"
      }
    },
    {
      "cell_type": "markdown",
      "source": [
        "### Image data preprocessing\n",
        "Our image data is not quite ready to be pipelined into our model. Thus, these steps will be performed:\n",
        "* Change the shape of our images to be the same as each other. The standardised distribution will be determined by the most popular dimensions across the data selected.\n",
        "* Compress into arrays so that PCA (principal component analysis) model can handle the data. We want to use PCA to compress the images for use in other models.\n",
        "We will be using the ComputerVision cv2 library and PCA to perform these tasks."
      ],
      "metadata": {
        "id": "DKscI09zploF"
      }
    },
    {
      "cell_type": "code",
      "source": [
        "#separate by normal or something else for each type of catheter\n",
        "test_CVC=train[['StudyInstanceUID','CVC - Abnormal','CVC - Normal','CVC - Borderline']]\n",
        "test_CVC=test_CVC.drop(test_CVC[(test_CVC['CVC - Abnormal'] == 0) & (test_CVC['CVC - Normal'] == 0) & (test_CVC['CVC - Borderline'] == 0)].index)\n",
        "test_ETT=train[['StudyInstanceUID','ETT - Abnormal','ETT - Normal','ETT - Borderline']]\n",
        "test_ETT=test_ETT.drop(test_ETT[(test_ETT['ETT - Abnormal'] == 0) & (test_ETT['ETT - Normal'] == 0) & (test_ETT['ETT - Borderline'] == 0)].index)\n",
        "test_NGT=train[['StudyInstanceUID','NGT - Abnormal','NGT - Normal','NGT - Borderline','NGT - Incompletely Imaged']]\n",
        "test_NGT=test_NGT.drop(test_NGT[(test_NGT['NGT - Abnormal'] == 0) & (test_NGT['NGT - Normal'] == 0) & (test_NGT['NGT - Borderline'] == 0) & (test_NGT['NGT - Incompletely Imaged']==0)].index)\n",
        "test_NGT=test_NGT.drop(test_NGT[(test_NGT['NGT - Incompletely Imaged']==1)].index)"
      ],
      "metadata": {
        "id": "Sag6DoySpfSR"
      },
      "execution_count": 88,
      "outputs": []
    },
    {
      "cell_type": "code",
      "source": [
        "import cv2\n",
        "import os\n",
        "directory_path='/content/drive/MyDrive/ADS2002/image_collection'"
      ],
      "metadata": {
        "id": "p__vBoCBp_Gn"
      },
      "execution_count": 89,
      "outputs": []
    },
    {
      "cell_type": "code",
      "source": [
        "#add array representation of image as the feature variables, acts as a substitute to reading images in bulk\n",
        "def add_feature(df,folder):\n",
        "  if 'image' not in df.columns:\n",
        "    df['image']=''\n",
        "  for i, row in df.iterrows():\n",
        "    filename=row['StudyInstanceUID']+'.jpg'\n",
        "    feature = cv2.imread(os.path.join(folder,filename), cv2.IMREAD_GRAYSCALE)\n",
        "    cv2.resize(feature,dsize=(300,300))#resize to manageable dimensions\n",
        "    df._set_value(i,'image',feature)\n",
        "  return df"
      ],
      "metadata": {
        "id": "If9P8z5Fr5WR"
      },
      "execution_count": 90,
      "outputs": []
    },
    {
      "cell_type": "code",
      "source": [
        "images = os.listdir(directory_path) # list of all the images\n",
        "n_test_images = int(len(images) * 0.1) # 10% of the total images\n",
        "\n",
        "subset_images = np.random.choice(images, size=n_test_images, replace=False)\n",
        "\n",
        "for i in range(len(subset_images)):\n",
        "  subset_images[i]=subset_images[i].removesuffix('.jpg')\n",
        "cvc_images_train=test_CVC.loc[train['StudyInstanceUID'].isin(subset_images)]\n",
        "ngt_images_train=test_NGT.loc[train['StudyInstanceUID'].isin(subset_images)]\n",
        "ett_images_train=test_ETT.loc[train['StudyInstanceUID'].isin(subset_images)]\n",
        "cvc=add_feature(cvc_images_train,directory_path)\n",
        "ngt=add_feature(ngt_images_train,directory_path)\n",
        "ett=add_feature(ett_images_train,directory_path)\n",
        "#convert to binary datasets\n",
        "cvc_binary_test=cvc[['CVC - Normal','StudyInstanceUID','image']]\n",
        "ngt_binary_test=ngt[['NGT - Normal','StudyInstanceUID','image']]\n",
        "ett_binary_test=ett[['ETT - Normal','StudyInstanceUID','image']]"
      ],
      "metadata": {
        "id": "BAIYqOdP5BHa",
        "outputId": "3148ffe4-69a5-4071-be91-d76823608091",
        "colab": {
          "base_uri": "https://localhost:8080/"
        }
      },
      "execution_count": 91,
      "outputs": [
        {
          "output_type": "stream",
          "name": "stderr",
          "text": [
            "<ipython-input-90-43fb40fafbc1>:4: SettingWithCopyWarning: \n",
            "A value is trying to be set on a copy of a slice from a DataFrame.\n",
            "Try using .loc[row_indexer,col_indexer] = value instead\n",
            "\n",
            "See the caveats in the documentation: https://pandas.pydata.org/pandas-docs/stable/user_guide/indexing.html#returning-a-view-versus-a-copy\n",
            "  df['image']=''\n",
            "<ipython-input-90-43fb40fafbc1>:4: SettingWithCopyWarning: \n",
            "A value is trying to be set on a copy of a slice from a DataFrame.\n",
            "Try using .loc[row_indexer,col_indexer] = value instead\n",
            "\n",
            "See the caveats in the documentation: https://pandas.pydata.org/pandas-docs/stable/user_guide/indexing.html#returning-a-view-versus-a-copy\n",
            "  df['image']=''\n",
            "<ipython-input-90-43fb40fafbc1>:4: SettingWithCopyWarning: \n",
            "A value is trying to be set on a copy of a slice from a DataFrame.\n",
            "Try using .loc[row_indexer,col_indexer] = value instead\n",
            "\n",
            "See the caveats in the documentation: https://pandas.pydata.org/pandas-docs/stable/user_guide/indexing.html#returning-a-view-versus-a-copy\n",
            "  df['image']=''\n"
          ]
        }
      ]
    },
    {
      "cell_type": "markdown",
      "source": [
        "The results of preprocessing are a label column and a column of array representations of the corresponding image. These arrays act as the feature variables that impact the outcome. As these arrays have high dimensions, they can be compacted using PCA."
      ],
      "metadata": {
        "id": "zgMX9518CohY"
      }
    },
    {
      "cell_type": "markdown",
      "source": [
        "### PCA on images\n",
        "We may need to compress the image data further to pipeline the data to other models too"
      ],
      "metadata": {
        "id": "LF09gId_8-eU"
      }
    },
    {
      "cell_type": "code",
      "source": [
        "#Isaac to do PCA here if necessary\n",
        "#ready to do since preprocessing done now"
      ],
      "metadata": {
        "id": "KmEEde7ha27r"
      },
      "execution_count": 92,
      "outputs": []
    },
    {
      "cell_type": "markdown",
      "source": [
        "## Samping and splitting\n",
        "\n",
        "Firstly, we need to split our training, validation and testing sets. Next we must decide on an effective sampling method. As shown in the visual above, there is a clear bias towards having normal catheters as expected otherwise an overwhelming and unacceptable amount of patients would have catheter-related problems and risks. Of all the sampling techniques, it seems that the most appropriate choices are either random undersampling or Adaptive synthetic sampling because given the nature of our data being image based, we cannot replicate minorities and image instances due to computing capacity purposes and the fact that images are visually unique cannot be treated quite the same as other forms of sample statistics. SMOTE can also be considered since it does not involve replication (ChatGPT)"
      ],
      "metadata": {
        "id": "PUgKPMGDkeyN"
      }
    },
    {
      "cell_type": "markdown",
      "source": [
        "## Kmeans: unsupervied method for image segmentation\n",
        "We are ready to apply our first unsupervised machine learning technique; k means. This method will identify segments of the image, which is quite useful for us because we want to identify the areas and regions of interest (i.e catheaters) for our deep learning models to work effectively."
      ],
      "metadata": {
        "id": "KeQOJ7GcEvyj"
      }
    },
    {
      "cell_type": "code",
      "source": [
        "#Isaac to do Kmeans here, include commentary on results\n",
        "#PCA required first before engaging\n",
        "cvc_binary_test.dtypes"
      ],
      "metadata": {
        "id": "IHplMqc6qcwh",
        "outputId": "f347593b-d797-45e8-a8ea-dcf5f85ecab9",
        "colab": {
          "base_uri": "https://localhost:8080/"
        }
      },
      "execution_count": 93,
      "outputs": [
        {
          "output_type": "execute_result",
          "data": {
            "text/plain": [
              "CVC - Normal         int64\n",
              "StudyInstanceUID    object\n",
              "image               object\n",
              "dtype: object"
            ]
          },
          "metadata": {},
          "execution_count": 93
        }
      ]
    },
    {
      "cell_type": "markdown",
      "source": [
        "First we check that the data is in the correct format."
      ],
      "metadata": {
        "id": "poNHO6IGe38f"
      }
    },
    {
      "cell_type": "code",
      "source": [
        "cvc_binary_test"
      ],
      "metadata": {
        "id": "7CxOqniqctj3",
        "outputId": "753a2bf9-4585-48be-ca60-5a0da68c0b97",
        "colab": {
          "base_uri": "https://localhost:8080/",
          "height": 1000
        }
      },
      "execution_count": 94,
      "outputs": [
        {
          "output_type": "execute_result",
          "data": {
            "text/plain": [
              "       CVC - Normal                                   StudyInstanceUID  \\\n",
              "575               1  1.2.826.0.1.3680043.8.498.98868688063682029179...   \n",
              "737               1  1.2.826.0.1.3680043.8.498.98311970012797959433...   \n",
              "771               1  1.2.826.0.1.3680043.8.498.96954713473231855718...   \n",
              "907               1  1.2.826.0.1.3680043.8.498.98610781732941210925...   \n",
              "1370              1  1.2.826.0.1.3680043.8.498.97077295886695881642...   \n",
              "1470              1  1.2.826.0.1.3680043.8.498.97608411246349275250...   \n",
              "1499              1  1.2.826.0.1.3680043.8.498.98883008008926824052...   \n",
              "2400              0  1.2.826.0.1.3680043.8.498.97576992904366052571...   \n",
              "2564              1  1.2.826.0.1.3680043.8.498.97065141260424680232...   \n",
              "4491              1  1.2.826.0.1.3680043.8.498.96858232333572510807...   \n",
              "5543              0  1.2.826.0.1.3680043.8.498.96895365323267339296...   \n",
              "5695              0  1.2.826.0.1.3680043.8.498.98435666695295522312...   \n",
              "7207              1  1.2.826.0.1.3680043.8.498.98558983022949394279...   \n",
              "7286              1  1.2.826.0.1.3680043.8.498.98077286322774436813...   \n",
              "8153              1  1.2.826.0.1.3680043.8.498.97524915718275250689...   \n",
              "8234              1  1.2.826.0.1.3680043.8.498.97898517431692420201...   \n",
              "8609              1  1.2.826.0.1.3680043.8.498.97150346937242949223...   \n",
              "8993              1  1.2.826.0.1.3680043.8.498.96529642344304388196...   \n",
              "9225              1  1.2.826.0.1.3680043.8.498.97037739001229262220...   \n",
              "9382              0  1.2.826.0.1.3680043.8.498.98186254843132838914...   \n",
              "10409             1  1.2.826.0.1.3680043.8.498.97727438097783635523...   \n",
              "10807             0  1.2.826.0.1.3680043.8.498.97766505139916741913...   \n",
              "10817             1  1.2.826.0.1.3680043.8.498.98159704892843040428...   \n",
              "11095             1  1.2.826.0.1.3680043.8.498.97041516719310280357...   \n",
              "11525             1  1.2.826.0.1.3680043.8.498.97225589399184444901...   \n",
              "11978             1  1.2.826.0.1.3680043.8.498.97061174192533614934...   \n",
              "12213             1  1.2.826.0.1.3680043.8.498.97947840494210380959...   \n",
              "13288             1  1.2.826.0.1.3680043.8.498.97405033445018642994...   \n",
              "13305             1  1.2.826.0.1.3680043.8.498.97729703711227561224...   \n",
              "14182             0  1.2.826.0.1.3680043.8.498.97504631906553367784...   \n",
              "17431             1  1.2.826.0.1.3680043.8.498.98035745160816803407...   \n",
              "19060             1  1.2.826.0.1.3680043.8.498.98012569672647456302...   \n",
              "19222             1  1.2.826.0.1.3680043.8.498.96892858606134122459...   \n",
              "20412             1  1.2.826.0.1.3680043.8.498.96960778080759593235...   \n",
              "20871             1  1.2.826.0.1.3680043.8.498.96906339125407454825...   \n",
              "22271             0  1.2.826.0.1.3680043.8.498.97158197538682738714...   \n",
              "22901             1  1.2.826.0.1.3680043.8.498.98375351416107229669...   \n",
              "24567             1  1.2.826.0.1.3680043.8.498.97365645031862188566...   \n",
              "24726             1  1.2.826.0.1.3680043.8.498.96606516131401602113...   \n",
              "24787             1  1.2.826.0.1.3680043.8.498.97871720350127684041...   \n",
              "25056             1  1.2.826.0.1.3680043.8.498.97371730576501176992...   \n",
              "25440             1  1.2.826.0.1.3680043.8.498.97783106692805679352...   \n",
              "25442             1  1.2.826.0.1.3680043.8.498.98035219717001662651...   \n",
              "26444             0  1.2.826.0.1.3680043.8.498.98237908730527176292...   \n",
              "26543             1  1.2.826.0.1.3680043.8.498.98036018217486617932...   \n",
              "26601             0  1.2.826.0.1.3680043.8.498.98641156893101333738...   \n",
              "27006             1  1.2.826.0.1.3680043.8.498.98425772863244371226...   \n",
              "27256             1  1.2.826.0.1.3680043.8.498.97406518558932615981...   \n",
              "29412             1  1.2.826.0.1.3680043.8.498.97016154829711225153...   \n",
              "\n",
              "                                                   image  \n",
              "575    [[255, 255, 255, 255, 255, 255, 255, 255, 255,...  \n",
              "737    [[3, 5, 9, 11, 12, 11, 9, 7, 8, 8, 8, 8, 7, 7,...  \n",
              "771    [[1, 1, 1, 1, 1, 1, 1, 1, 2, 2, 2, 2, 2, 2, 2,...  \n",
              "907    [[2, 2, 2, 3, 3, 4, 4, 4, 3, 3, 3, 3, 3, 3, 3,...  \n",
              "1370   [[7, 7, 7, 7, 7, 7, 7, 7, 7, 7, 7, 7, 7, 7, 7,...  \n",
              "1470   [[4, 4, 4, 4, 4, 4, 4, 4, 4, 4, 4, 4, 4, 4, 4,...  \n",
              "1499   [[0, 0, 0, 0, 0, 0, 0, 0, 0, 0, 0, 0, 0, 0, 0,...  \n",
              "2400   [[0, 0, 0, 1, 1, 2, 2, 2, 1, 1, 1, 1, 1, 1, 1,...  \n",
              "2564   [[42, 41, 59, 77, 74, 70, 73, 74, 80, 78, 73, ...  \n",
              "4491   [[0, 0, 0, 0, 0, 0, 0, 0, 0, 0, 0, 0, 0, 0, 0,...  \n",
              "5543   [[0, 0, 0, 1, 1, 2, 2, 2, 2, 2, 2, 2, 2, 2, 2,...  \n",
              "5695   [[17, 21, 30, 40, 42, 37, 35, 36, 34, 34, 34, ...  \n",
              "7207   [[2, 3, 4, 4, 5, 5, 4, 4, 4, 4, 5, 6, 6, 5, 4,...  \n",
              "7286   [[0, 0, 0, 0, 0, 0, 0, 0, 0, 0, 0, 0, 0, 0, 0,...  \n",
              "8153   [[198, 199, 199, 200, 200, 199, 199, 198, 198,...  \n",
              "8234   [[42, 44, 62, 77, 75, 73, 77, 74, 75, 74, 73, ...  \n",
              "8609   [[4, 5, 6, 6, 7, 7, 6, 6, 5, 5, 5, 5, 5, 5, 5,...  \n",
              "8993   [[1, 1, 1, 1, 1, 1, 1, 1, 1, 1, 1, 1, 1, 1, 1,...  \n",
              "9225   [[2, 2, 2, 2, 2, 2, 2, 2, 2, 2, 2, 1, 1, 0, 0,...  \n",
              "9382   [[0, 1, 39, 77, 114, 145, 164, 195, 188, 187, ...  \n",
              "10409  [[18, 22, 31, 40, 41, 35, 32, 33, 33, 33, 32, ...  \n",
              "10807  [[0, 0, 0, 0, 0, 0, 0, 0, 0, 0, 0, 0, 0, 0, 0,...  \n",
              "10817  [[2, 2, 2, 2, 2, 2, 2, 2, 2, 2, 2, 2, 2, 2, 2,...  \n",
              "11095  [[1, 1, 1, 2, 2, 3, 3, 3, 2, 2, 2, 2, 2, 2, 2,...  \n",
              "11525  [[81, 82, 89, 92, 74, 42, 21, 17, 11, 9, 7, 7,...  \n",
              "11978  [[61, 67, 93, 117, 116, 109, 110, 109, 109, 11...  \n",
              "12213  [[55, 59, 83, 104, 100, 93, 93, 93, 100, 98, 9...  \n",
              "13288  [[3, 5, 8, 10, 11, 11, 10, 9, 10, 10, 10, 10, ...  \n",
              "13305  [[2, 2, 3, 3, 4, 5, 6, 6, 5, 5, 5, 5, 5, 5, 5,...  \n",
              "14182  [[255, 255, 255, 255, 255, 255, 255, 255, 255,...  \n",
              "17431  [[250, 249, 247, 246, 245, 246, 247, 248, 251,...  \n",
              "19060  [[237, 238, 240, 242, 243, 243, 243, 242, 239,...  \n",
              "19222  [[9, 11, 14, 16, 17, 17, 16, 15, 14, 14, 14, 1...  \n",
              "20412  [[200, 200, 200, 200, 200, 200, 200, 201, 201,...  \n",
              "20871  [[1, 1, 1, 1, 1, 1, 1, 1, 1, 1, 1, 1, 1, 1, 1,...  \n",
              "22271  [[2, 3, 4, 5, 6, 6, 6, 6, 5, 5, 5, 5, 5, 5, 5,...  \n",
              "22901  [[1, 1, 1, 1, 1, 1, 1, 1, 1, 1, 1, 1, 1, 1, 1,...  \n",
              "24567  [[4, 4, 4, 4, 4, 4, 4, 4, 4, 4, 4, 4, 4, 4, 4,...  \n",
              "24726  [[0, 0, 0, 1, 2, 3, 4, 5, 5, 5, 5, 5, 5, 5, 5,...  \n",
              "24787  [[161, 161, 161, 160, 159, 158, 157, 156, 153,...  \n",
              "25056  [[1, 1, 1, 1, 1, 1, 1, 1, 1, 1, 1, 1, 1, 1, 1,...  \n",
              "25440  [[3, 2, 6, 16, 22, 23, 24, 26, 24, 24, 25, 25,...  \n",
              "25442  [[15, 18, 26, 34, 35, 30, 27, 29, 29, 29, 30, ...  \n",
              "26444  [[2, 2, 2, 3, 3, 4, 4, 4, 3, 3, 3, 3, 3, 3, 3,...  \n",
              "26543  [[114, 114, 113, 113, 113, 113, 112, 112, 115,...  \n",
              "26601  [[2, 2, 2, 3, 3, 4, 4, 4, 2, 2, 2, 2, 2, 2, 2,...  \n",
              "27006  [[52, 50, 46, 39, 31, 22, 15, 11, 11, 12, 12, ...  \n",
              "27256  [[221, 220, 219, 218, 216, 215, 214, 214, 210,...  \n",
              "29412  [[57, 60, 84, 105, 102, 96, 98, 98, 100, 100, ...  "
            ],
            "text/html": [
              "\n",
              "  <div id=\"df-f88489b8-f8b4-450d-8e20-c975d35acf59\" class=\"colab-df-container\">\n",
              "    <div>\n",
              "<style scoped>\n",
              "    .dataframe tbody tr th:only-of-type {\n",
              "        vertical-align: middle;\n",
              "    }\n",
              "\n",
              "    .dataframe tbody tr th {\n",
              "        vertical-align: top;\n",
              "    }\n",
              "\n",
              "    .dataframe thead th {\n",
              "        text-align: right;\n",
              "    }\n",
              "</style>\n",
              "<table border=\"1\" class=\"dataframe\">\n",
              "  <thead>\n",
              "    <tr style=\"text-align: right;\">\n",
              "      <th></th>\n",
              "      <th>CVC - Normal</th>\n",
              "      <th>StudyInstanceUID</th>\n",
              "      <th>image</th>\n",
              "    </tr>\n",
              "  </thead>\n",
              "  <tbody>\n",
              "    <tr>\n",
              "      <th>575</th>\n",
              "      <td>1</td>\n",
              "      <td>1.2.826.0.1.3680043.8.498.98868688063682029179...</td>\n",
              "      <td>[[255, 255, 255, 255, 255, 255, 255, 255, 255,...</td>\n",
              "    </tr>\n",
              "    <tr>\n",
              "      <th>737</th>\n",
              "      <td>1</td>\n",
              "      <td>1.2.826.0.1.3680043.8.498.98311970012797959433...</td>\n",
              "      <td>[[3, 5, 9, 11, 12, 11, 9, 7, 8, 8, 8, 8, 7, 7,...</td>\n",
              "    </tr>\n",
              "    <tr>\n",
              "      <th>771</th>\n",
              "      <td>1</td>\n",
              "      <td>1.2.826.0.1.3680043.8.498.96954713473231855718...</td>\n",
              "      <td>[[1, 1, 1, 1, 1, 1, 1, 1, 2, 2, 2, 2, 2, 2, 2,...</td>\n",
              "    </tr>\n",
              "    <tr>\n",
              "      <th>907</th>\n",
              "      <td>1</td>\n",
              "      <td>1.2.826.0.1.3680043.8.498.98610781732941210925...</td>\n",
              "      <td>[[2, 2, 2, 3, 3, 4, 4, 4, 3, 3, 3, 3, 3, 3, 3,...</td>\n",
              "    </tr>\n",
              "    <tr>\n",
              "      <th>1370</th>\n",
              "      <td>1</td>\n",
              "      <td>1.2.826.0.1.3680043.8.498.97077295886695881642...</td>\n",
              "      <td>[[7, 7, 7, 7, 7, 7, 7, 7, 7, 7, 7, 7, 7, 7, 7,...</td>\n",
              "    </tr>\n",
              "    <tr>\n",
              "      <th>1470</th>\n",
              "      <td>1</td>\n",
              "      <td>1.2.826.0.1.3680043.8.498.97608411246349275250...</td>\n",
              "      <td>[[4, 4, 4, 4, 4, 4, 4, 4, 4, 4, 4, 4, 4, 4, 4,...</td>\n",
              "    </tr>\n",
              "    <tr>\n",
              "      <th>1499</th>\n",
              "      <td>1</td>\n",
              "      <td>1.2.826.0.1.3680043.8.498.98883008008926824052...</td>\n",
              "      <td>[[0, 0, 0, 0, 0, 0, 0, 0, 0, 0, 0, 0, 0, 0, 0,...</td>\n",
              "    </tr>\n",
              "    <tr>\n",
              "      <th>2400</th>\n",
              "      <td>0</td>\n",
              "      <td>1.2.826.0.1.3680043.8.498.97576992904366052571...</td>\n",
              "      <td>[[0, 0, 0, 1, 1, 2, 2, 2, 1, 1, 1, 1, 1, 1, 1,...</td>\n",
              "    </tr>\n",
              "    <tr>\n",
              "      <th>2564</th>\n",
              "      <td>1</td>\n",
              "      <td>1.2.826.0.1.3680043.8.498.97065141260424680232...</td>\n",
              "      <td>[[42, 41, 59, 77, 74, 70, 73, 74, 80, 78, 73, ...</td>\n",
              "    </tr>\n",
              "    <tr>\n",
              "      <th>4491</th>\n",
              "      <td>1</td>\n",
              "      <td>1.2.826.0.1.3680043.8.498.96858232333572510807...</td>\n",
              "      <td>[[0, 0, 0, 0, 0, 0, 0, 0, 0, 0, 0, 0, 0, 0, 0,...</td>\n",
              "    </tr>\n",
              "    <tr>\n",
              "      <th>5543</th>\n",
              "      <td>0</td>\n",
              "      <td>1.2.826.0.1.3680043.8.498.96895365323267339296...</td>\n",
              "      <td>[[0, 0, 0, 1, 1, 2, 2, 2, 2, 2, 2, 2, 2, 2, 2,...</td>\n",
              "    </tr>\n",
              "    <tr>\n",
              "      <th>5695</th>\n",
              "      <td>0</td>\n",
              "      <td>1.2.826.0.1.3680043.8.498.98435666695295522312...</td>\n",
              "      <td>[[17, 21, 30, 40, 42, 37, 35, 36, 34, 34, 34, ...</td>\n",
              "    </tr>\n",
              "    <tr>\n",
              "      <th>7207</th>\n",
              "      <td>1</td>\n",
              "      <td>1.2.826.0.1.3680043.8.498.98558983022949394279...</td>\n",
              "      <td>[[2, 3, 4, 4, 5, 5, 4, 4, 4, 4, 5, 6, 6, 5, 4,...</td>\n",
              "    </tr>\n",
              "    <tr>\n",
              "      <th>7286</th>\n",
              "      <td>1</td>\n",
              "      <td>1.2.826.0.1.3680043.8.498.98077286322774436813...</td>\n",
              "      <td>[[0, 0, 0, 0, 0, 0, 0, 0, 0, 0, 0, 0, 0, 0, 0,...</td>\n",
              "    </tr>\n",
              "    <tr>\n",
              "      <th>8153</th>\n",
              "      <td>1</td>\n",
              "      <td>1.2.826.0.1.3680043.8.498.97524915718275250689...</td>\n",
              "      <td>[[198, 199, 199, 200, 200, 199, 199, 198, 198,...</td>\n",
              "    </tr>\n",
              "    <tr>\n",
              "      <th>8234</th>\n",
              "      <td>1</td>\n",
              "      <td>1.2.826.0.1.3680043.8.498.97898517431692420201...</td>\n",
              "      <td>[[42, 44, 62, 77, 75, 73, 77, 74, 75, 74, 73, ...</td>\n",
              "    </tr>\n",
              "    <tr>\n",
              "      <th>8609</th>\n",
              "      <td>1</td>\n",
              "      <td>1.2.826.0.1.3680043.8.498.97150346937242949223...</td>\n",
              "      <td>[[4, 5, 6, 6, 7, 7, 6, 6, 5, 5, 5, 5, 5, 5, 5,...</td>\n",
              "    </tr>\n",
              "    <tr>\n",
              "      <th>8993</th>\n",
              "      <td>1</td>\n",
              "      <td>1.2.826.0.1.3680043.8.498.96529642344304388196...</td>\n",
              "      <td>[[1, 1, 1, 1, 1, 1, 1, 1, 1, 1, 1, 1, 1, 1, 1,...</td>\n",
              "    </tr>\n",
              "    <tr>\n",
              "      <th>9225</th>\n",
              "      <td>1</td>\n",
              "      <td>1.2.826.0.1.3680043.8.498.97037739001229262220...</td>\n",
              "      <td>[[2, 2, 2, 2, 2, 2, 2, 2, 2, 2, 2, 1, 1, 0, 0,...</td>\n",
              "    </tr>\n",
              "    <tr>\n",
              "      <th>9382</th>\n",
              "      <td>0</td>\n",
              "      <td>1.2.826.0.1.3680043.8.498.98186254843132838914...</td>\n",
              "      <td>[[0, 1, 39, 77, 114, 145, 164, 195, 188, 187, ...</td>\n",
              "    </tr>\n",
              "    <tr>\n",
              "      <th>10409</th>\n",
              "      <td>1</td>\n",
              "      <td>1.2.826.0.1.3680043.8.498.97727438097783635523...</td>\n",
              "      <td>[[18, 22, 31, 40, 41, 35, 32, 33, 33, 33, 32, ...</td>\n",
              "    </tr>\n",
              "    <tr>\n",
              "      <th>10807</th>\n",
              "      <td>0</td>\n",
              "      <td>1.2.826.0.1.3680043.8.498.97766505139916741913...</td>\n",
              "      <td>[[0, 0, 0, 0, 0, 0, 0, 0, 0, 0, 0, 0, 0, 0, 0,...</td>\n",
              "    </tr>\n",
              "    <tr>\n",
              "      <th>10817</th>\n",
              "      <td>1</td>\n",
              "      <td>1.2.826.0.1.3680043.8.498.98159704892843040428...</td>\n",
              "      <td>[[2, 2, 2, 2, 2, 2, 2, 2, 2, 2, 2, 2, 2, 2, 2,...</td>\n",
              "    </tr>\n",
              "    <tr>\n",
              "      <th>11095</th>\n",
              "      <td>1</td>\n",
              "      <td>1.2.826.0.1.3680043.8.498.97041516719310280357...</td>\n",
              "      <td>[[1, 1, 1, 2, 2, 3, 3, 3, 2, 2, 2, 2, 2, 2, 2,...</td>\n",
              "    </tr>\n",
              "    <tr>\n",
              "      <th>11525</th>\n",
              "      <td>1</td>\n",
              "      <td>1.2.826.0.1.3680043.8.498.97225589399184444901...</td>\n",
              "      <td>[[81, 82, 89, 92, 74, 42, 21, 17, 11, 9, 7, 7,...</td>\n",
              "    </tr>\n",
              "    <tr>\n",
              "      <th>11978</th>\n",
              "      <td>1</td>\n",
              "      <td>1.2.826.0.1.3680043.8.498.97061174192533614934...</td>\n",
              "      <td>[[61, 67, 93, 117, 116, 109, 110, 109, 109, 11...</td>\n",
              "    </tr>\n",
              "    <tr>\n",
              "      <th>12213</th>\n",
              "      <td>1</td>\n",
              "      <td>1.2.826.0.1.3680043.8.498.97947840494210380959...</td>\n",
              "      <td>[[55, 59, 83, 104, 100, 93, 93, 93, 100, 98, 9...</td>\n",
              "    </tr>\n",
              "    <tr>\n",
              "      <th>13288</th>\n",
              "      <td>1</td>\n",
              "      <td>1.2.826.0.1.3680043.8.498.97405033445018642994...</td>\n",
              "      <td>[[3, 5, 8, 10, 11, 11, 10, 9, 10, 10, 10, 10, ...</td>\n",
              "    </tr>\n",
              "    <tr>\n",
              "      <th>13305</th>\n",
              "      <td>1</td>\n",
              "      <td>1.2.826.0.1.3680043.8.498.97729703711227561224...</td>\n",
              "      <td>[[2, 2, 3, 3, 4, 5, 6, 6, 5, 5, 5, 5, 5, 5, 5,...</td>\n",
              "    </tr>\n",
              "    <tr>\n",
              "      <th>14182</th>\n",
              "      <td>0</td>\n",
              "      <td>1.2.826.0.1.3680043.8.498.97504631906553367784...</td>\n",
              "      <td>[[255, 255, 255, 255, 255, 255, 255, 255, 255,...</td>\n",
              "    </tr>\n",
              "    <tr>\n",
              "      <th>17431</th>\n",
              "      <td>1</td>\n",
              "      <td>1.2.826.0.1.3680043.8.498.98035745160816803407...</td>\n",
              "      <td>[[250, 249, 247, 246, 245, 246, 247, 248, 251,...</td>\n",
              "    </tr>\n",
              "    <tr>\n",
              "      <th>19060</th>\n",
              "      <td>1</td>\n",
              "      <td>1.2.826.0.1.3680043.8.498.98012569672647456302...</td>\n",
              "      <td>[[237, 238, 240, 242, 243, 243, 243, 242, 239,...</td>\n",
              "    </tr>\n",
              "    <tr>\n",
              "      <th>19222</th>\n",
              "      <td>1</td>\n",
              "      <td>1.2.826.0.1.3680043.8.498.96892858606134122459...</td>\n",
              "      <td>[[9, 11, 14, 16, 17, 17, 16, 15, 14, 14, 14, 1...</td>\n",
              "    </tr>\n",
              "    <tr>\n",
              "      <th>20412</th>\n",
              "      <td>1</td>\n",
              "      <td>1.2.826.0.1.3680043.8.498.96960778080759593235...</td>\n",
              "      <td>[[200, 200, 200, 200, 200, 200, 200, 201, 201,...</td>\n",
              "    </tr>\n",
              "    <tr>\n",
              "      <th>20871</th>\n",
              "      <td>1</td>\n",
              "      <td>1.2.826.0.1.3680043.8.498.96906339125407454825...</td>\n",
              "      <td>[[1, 1, 1, 1, 1, 1, 1, 1, 1, 1, 1, 1, 1, 1, 1,...</td>\n",
              "    </tr>\n",
              "    <tr>\n",
              "      <th>22271</th>\n",
              "      <td>0</td>\n",
              "      <td>1.2.826.0.1.3680043.8.498.97158197538682738714...</td>\n",
              "      <td>[[2, 3, 4, 5, 6, 6, 6, 6, 5, 5, 5, 5, 5, 5, 5,...</td>\n",
              "    </tr>\n",
              "    <tr>\n",
              "      <th>22901</th>\n",
              "      <td>1</td>\n",
              "      <td>1.2.826.0.1.3680043.8.498.98375351416107229669...</td>\n",
              "      <td>[[1, 1, 1, 1, 1, 1, 1, 1, 1, 1, 1, 1, 1, 1, 1,...</td>\n",
              "    </tr>\n",
              "    <tr>\n",
              "      <th>24567</th>\n",
              "      <td>1</td>\n",
              "      <td>1.2.826.0.1.3680043.8.498.97365645031862188566...</td>\n",
              "      <td>[[4, 4, 4, 4, 4, 4, 4, 4, 4, 4, 4, 4, 4, 4, 4,...</td>\n",
              "    </tr>\n",
              "    <tr>\n",
              "      <th>24726</th>\n",
              "      <td>1</td>\n",
              "      <td>1.2.826.0.1.3680043.8.498.96606516131401602113...</td>\n",
              "      <td>[[0, 0, 0, 1, 2, 3, 4, 5, 5, 5, 5, 5, 5, 5, 5,...</td>\n",
              "    </tr>\n",
              "    <tr>\n",
              "      <th>24787</th>\n",
              "      <td>1</td>\n",
              "      <td>1.2.826.0.1.3680043.8.498.97871720350127684041...</td>\n",
              "      <td>[[161, 161, 161, 160, 159, 158, 157, 156, 153,...</td>\n",
              "    </tr>\n",
              "    <tr>\n",
              "      <th>25056</th>\n",
              "      <td>1</td>\n",
              "      <td>1.2.826.0.1.3680043.8.498.97371730576501176992...</td>\n",
              "      <td>[[1, 1, 1, 1, 1, 1, 1, 1, 1, 1, 1, 1, 1, 1, 1,...</td>\n",
              "    </tr>\n",
              "    <tr>\n",
              "      <th>25440</th>\n",
              "      <td>1</td>\n",
              "      <td>1.2.826.0.1.3680043.8.498.97783106692805679352...</td>\n",
              "      <td>[[3, 2, 6, 16, 22, 23, 24, 26, 24, 24, 25, 25,...</td>\n",
              "    </tr>\n",
              "    <tr>\n",
              "      <th>25442</th>\n",
              "      <td>1</td>\n",
              "      <td>1.2.826.0.1.3680043.8.498.98035219717001662651...</td>\n",
              "      <td>[[15, 18, 26, 34, 35, 30, 27, 29, 29, 29, 30, ...</td>\n",
              "    </tr>\n",
              "    <tr>\n",
              "      <th>26444</th>\n",
              "      <td>0</td>\n",
              "      <td>1.2.826.0.1.3680043.8.498.98237908730527176292...</td>\n",
              "      <td>[[2, 2, 2, 3, 3, 4, 4, 4, 3, 3, 3, 3, 3, 3, 3,...</td>\n",
              "    </tr>\n",
              "    <tr>\n",
              "      <th>26543</th>\n",
              "      <td>1</td>\n",
              "      <td>1.2.826.0.1.3680043.8.498.98036018217486617932...</td>\n",
              "      <td>[[114, 114, 113, 113, 113, 113, 112, 112, 115,...</td>\n",
              "    </tr>\n",
              "    <tr>\n",
              "      <th>26601</th>\n",
              "      <td>0</td>\n",
              "      <td>1.2.826.0.1.3680043.8.498.98641156893101333738...</td>\n",
              "      <td>[[2, 2, 2, 3, 3, 4, 4, 4, 2, 2, 2, 2, 2, 2, 2,...</td>\n",
              "    </tr>\n",
              "    <tr>\n",
              "      <th>27006</th>\n",
              "      <td>1</td>\n",
              "      <td>1.2.826.0.1.3680043.8.498.98425772863244371226...</td>\n",
              "      <td>[[52, 50, 46, 39, 31, 22, 15, 11, 11, 12, 12, ...</td>\n",
              "    </tr>\n",
              "    <tr>\n",
              "      <th>27256</th>\n",
              "      <td>1</td>\n",
              "      <td>1.2.826.0.1.3680043.8.498.97406518558932615981...</td>\n",
              "      <td>[[221, 220, 219, 218, 216, 215, 214, 214, 210,...</td>\n",
              "    </tr>\n",
              "    <tr>\n",
              "      <th>29412</th>\n",
              "      <td>1</td>\n",
              "      <td>1.2.826.0.1.3680043.8.498.97016154829711225153...</td>\n",
              "      <td>[[57, 60, 84, 105, 102, 96, 98, 98, 100, 100, ...</td>\n",
              "    </tr>\n",
              "  </tbody>\n",
              "</table>\n",
              "</div>\n",
              "    <div class=\"colab-df-buttons\">\n",
              "\n",
              "  <div class=\"colab-df-container\">\n",
              "    <button class=\"colab-df-convert\" onclick=\"convertToInteractive('df-f88489b8-f8b4-450d-8e20-c975d35acf59')\"\n",
              "            title=\"Convert this dataframe to an interactive table.\"\n",
              "            style=\"display:none;\">\n",
              "\n",
              "  <svg xmlns=\"http://www.w3.org/2000/svg\" height=\"24px\" viewBox=\"0 -960 960 960\">\n",
              "    <path d=\"M120-120v-720h720v720H120Zm60-500h600v-160H180v160Zm220 220h160v-160H400v160Zm0 220h160v-160H400v160ZM180-400h160v-160H180v160Zm440 0h160v-160H620v160ZM180-180h160v-160H180v160Zm440 0h160v-160H620v160Z\"/>\n",
              "  </svg>\n",
              "    </button>\n",
              "\n",
              "  <style>\n",
              "    .colab-df-container {\n",
              "      display:flex;\n",
              "      gap: 12px;\n",
              "    }\n",
              "\n",
              "    .colab-df-convert {\n",
              "      background-color: #E8F0FE;\n",
              "      border: none;\n",
              "      border-radius: 50%;\n",
              "      cursor: pointer;\n",
              "      display: none;\n",
              "      fill: #1967D2;\n",
              "      height: 32px;\n",
              "      padding: 0 0 0 0;\n",
              "      width: 32px;\n",
              "    }\n",
              "\n",
              "    .colab-df-convert:hover {\n",
              "      background-color: #E2EBFA;\n",
              "      box-shadow: 0px 1px 2px rgba(60, 64, 67, 0.3), 0px 1px 3px 1px rgba(60, 64, 67, 0.15);\n",
              "      fill: #174EA6;\n",
              "    }\n",
              "\n",
              "    .colab-df-buttons div {\n",
              "      margin-bottom: 4px;\n",
              "    }\n",
              "\n",
              "    [theme=dark] .colab-df-convert {\n",
              "      background-color: #3B4455;\n",
              "      fill: #D2E3FC;\n",
              "    }\n",
              "\n",
              "    [theme=dark] .colab-df-convert:hover {\n",
              "      background-color: #434B5C;\n",
              "      box-shadow: 0px 1px 3px 1px rgba(0, 0, 0, 0.15);\n",
              "      filter: drop-shadow(0px 1px 2px rgba(0, 0, 0, 0.3));\n",
              "      fill: #FFFFFF;\n",
              "    }\n",
              "  </style>\n",
              "\n",
              "    <script>\n",
              "      const buttonEl =\n",
              "        document.querySelector('#df-f88489b8-f8b4-450d-8e20-c975d35acf59 button.colab-df-convert');\n",
              "      buttonEl.style.display =\n",
              "        google.colab.kernel.accessAllowed ? 'block' : 'none';\n",
              "\n",
              "      async function convertToInteractive(key) {\n",
              "        const element = document.querySelector('#df-f88489b8-f8b4-450d-8e20-c975d35acf59');\n",
              "        const dataTable =\n",
              "          await google.colab.kernel.invokeFunction('convertToInteractive',\n",
              "                                                    [key], {});\n",
              "        if (!dataTable) return;\n",
              "\n",
              "        const docLinkHtml = 'Like what you see? Visit the ' +\n",
              "          '<a target=\"_blank\" href=https://colab.research.google.com/notebooks/data_table.ipynb>data table notebook</a>'\n",
              "          + ' to learn more about interactive tables.';\n",
              "        element.innerHTML = '';\n",
              "        dataTable['output_type'] = 'display_data';\n",
              "        await google.colab.output.renderOutput(dataTable, element);\n",
              "        const docLink = document.createElement('div');\n",
              "        docLink.innerHTML = docLinkHtml;\n",
              "        element.appendChild(docLink);\n",
              "      }\n",
              "    </script>\n",
              "  </div>\n",
              "\n",
              "\n",
              "<div id=\"df-45280861-a20d-4950-a444-3a1b20926c0a\">\n",
              "  <button class=\"colab-df-quickchart\" onclick=\"quickchart('df-45280861-a20d-4950-a444-3a1b20926c0a')\"\n",
              "            title=\"Suggest charts.\"\n",
              "            style=\"display:none;\">\n",
              "\n",
              "<svg xmlns=\"http://www.w3.org/2000/svg\" height=\"24px\"viewBox=\"0 0 24 24\"\n",
              "     width=\"24px\">\n",
              "    <g>\n",
              "        <path d=\"M19 3H5c-1.1 0-2 .9-2 2v14c0 1.1.9 2 2 2h14c1.1 0 2-.9 2-2V5c0-1.1-.9-2-2-2zM9 17H7v-7h2v7zm4 0h-2V7h2v10zm4 0h-2v-4h2v4z\"/>\n",
              "    </g>\n",
              "</svg>\n",
              "  </button>\n",
              "\n",
              "<style>\n",
              "  .colab-df-quickchart {\n",
              "      --bg-color: #E8F0FE;\n",
              "      --fill-color: #1967D2;\n",
              "      --hover-bg-color: #E2EBFA;\n",
              "      --hover-fill-color: #174EA6;\n",
              "      --disabled-fill-color: #AAA;\n",
              "      --disabled-bg-color: #DDD;\n",
              "  }\n",
              "\n",
              "  [theme=dark] .colab-df-quickchart {\n",
              "      --bg-color: #3B4455;\n",
              "      --fill-color: #D2E3FC;\n",
              "      --hover-bg-color: #434B5C;\n",
              "      --hover-fill-color: #FFFFFF;\n",
              "      --disabled-bg-color: #3B4455;\n",
              "      --disabled-fill-color: #666;\n",
              "  }\n",
              "\n",
              "  .colab-df-quickchart {\n",
              "    background-color: var(--bg-color);\n",
              "    border: none;\n",
              "    border-radius: 50%;\n",
              "    cursor: pointer;\n",
              "    display: none;\n",
              "    fill: var(--fill-color);\n",
              "    height: 32px;\n",
              "    padding: 0;\n",
              "    width: 32px;\n",
              "  }\n",
              "\n",
              "  .colab-df-quickchart:hover {\n",
              "    background-color: var(--hover-bg-color);\n",
              "    box-shadow: 0 1px 2px rgba(60, 64, 67, 0.3), 0 1px 3px 1px rgba(60, 64, 67, 0.15);\n",
              "    fill: var(--button-hover-fill-color);\n",
              "  }\n",
              "\n",
              "  .colab-df-quickchart-complete:disabled,\n",
              "  .colab-df-quickchart-complete:disabled:hover {\n",
              "    background-color: var(--disabled-bg-color);\n",
              "    fill: var(--disabled-fill-color);\n",
              "    box-shadow: none;\n",
              "  }\n",
              "\n",
              "  .colab-df-spinner {\n",
              "    border: 2px solid var(--fill-color);\n",
              "    border-color: transparent;\n",
              "    border-bottom-color: var(--fill-color);\n",
              "    animation:\n",
              "      spin 1s steps(1) infinite;\n",
              "  }\n",
              "\n",
              "  @keyframes spin {\n",
              "    0% {\n",
              "      border-color: transparent;\n",
              "      border-bottom-color: var(--fill-color);\n",
              "      border-left-color: var(--fill-color);\n",
              "    }\n",
              "    20% {\n",
              "      border-color: transparent;\n",
              "      border-left-color: var(--fill-color);\n",
              "      border-top-color: var(--fill-color);\n",
              "    }\n",
              "    30% {\n",
              "      border-color: transparent;\n",
              "      border-left-color: var(--fill-color);\n",
              "      border-top-color: var(--fill-color);\n",
              "      border-right-color: var(--fill-color);\n",
              "    }\n",
              "    40% {\n",
              "      border-color: transparent;\n",
              "      border-right-color: var(--fill-color);\n",
              "      border-top-color: var(--fill-color);\n",
              "    }\n",
              "    60% {\n",
              "      border-color: transparent;\n",
              "      border-right-color: var(--fill-color);\n",
              "    }\n",
              "    80% {\n",
              "      border-color: transparent;\n",
              "      border-right-color: var(--fill-color);\n",
              "      border-bottom-color: var(--fill-color);\n",
              "    }\n",
              "    90% {\n",
              "      border-color: transparent;\n",
              "      border-bottom-color: var(--fill-color);\n",
              "    }\n",
              "  }\n",
              "</style>\n",
              "\n",
              "  <script>\n",
              "    async function quickchart(key) {\n",
              "      const quickchartButtonEl =\n",
              "        document.querySelector('#' + key + ' button');\n",
              "      quickchartButtonEl.disabled = true;  // To prevent multiple clicks.\n",
              "      quickchartButtonEl.classList.add('colab-df-spinner');\n",
              "      try {\n",
              "        const charts = await google.colab.kernel.invokeFunction(\n",
              "            'suggestCharts', [key], {});\n",
              "      } catch (error) {\n",
              "        console.error('Error during call to suggestCharts:', error);\n",
              "      }\n",
              "      quickchartButtonEl.classList.remove('colab-df-spinner');\n",
              "      quickchartButtonEl.classList.add('colab-df-quickchart-complete');\n",
              "    }\n",
              "    (() => {\n",
              "      let quickchartButtonEl =\n",
              "        document.querySelector('#df-45280861-a20d-4950-a444-3a1b20926c0a button');\n",
              "      quickchartButtonEl.style.display =\n",
              "        google.colab.kernel.accessAllowed ? 'block' : 'none';\n",
              "    })();\n",
              "  </script>\n",
              "</div>\n",
              "    </div>\n",
              "  </div>\n"
            ]
          },
          "metadata": {},
          "execution_count": 94
        }
      ]
    },
    {
      "cell_type": "code",
      "source": [
        "img1 = cvc_binary_test.iloc[0].iat[2]\n",
        "plt.imshow(img1)"
      ],
      "metadata": {
        "id": "AX7OtIt_cijX",
        "outputId": "439a48dc-f199-470a-a52a-0116ff3c763f",
        "colab": {
          "base_uri": "https://localhost:8080/",
          "height": 452
        }
      },
      "execution_count": 95,
      "outputs": [
        {
          "output_type": "execute_result",
          "data": {
            "text/plain": [
              "<matplotlib.image.AxesImage at 0x7f41fe3db820>"
            ]
          },
          "metadata": {},
          "execution_count": 95
        },
        {
          "output_type": "display_data",
          "data": {
            "text/plain": [
              "<Figure size 640x480 with 1 Axes>"
            ],
            "image/png": "[encoded data removed]"
          },
          "metadata": {}
        }
      ]
    },
    {
      "cell_type": "code",
      "source": [
        "img1.shape"
      ],
      "metadata": {
        "id": "BvggS5IAcOEl",
        "outputId": "6ea59340-af8a-478a-c079-2fd5473a432a",
        "colab": {
          "base_uri": "https://localhost:8080/"
        }
      },
      "execution_count": 96,
      "outputs": [
        {
          "output_type": "execute_result",
          "data": {
            "text/plain": [
              "(2597, 2406)"
            ]
          },
          "metadata": {},
          "execution_count": 96
        }
      ]
    },
    {
      "cell_type": "code",
      "source": [
        "img1"
      ],
      "metadata": {
        "id": "aUYhLN9Sg9NZ",
        "outputId": "70519a5d-9d6c-4664-9f6a-c947c12a8428",
        "colab": {
          "base_uri": "https://localhost:8080/"
        }
      },
      "execution_count": 97,
      "outputs": [
        {
          "output_type": "execute_result",
          "data": {
            "text/plain": [
              "array([[255, 255, 255, ..., 208, 159, 150],\n",
              "       [255, 255, 255, ..., 208, 159, 150],\n",
              "       [255, 255, 255, ..., 208, 159, 150],\n",
              "       ...,\n",
              "       [ 17,  17,  16, ...,  17,  14,  11],\n",
              "       [ 17,  17,  16, ...,  17,  14,  11],\n",
              "       [ 17,  17,  16, ...,  17,  14,  11]], dtype=uint8)"
            ]
          },
          "metadata": {},
          "execution_count": 97
        }
      ]
    },
    {
      "cell_type": "code",
      "source": [
        "flat = img1.flatten()\n",
        "flat"
      ],
      "metadata": {
        "id": "AEb7mk73hRsO",
        "outputId": "fea9d383-77be-4cbd-9174-01457fc32de5",
        "colab": {
          "base_uri": "https://localhost:8080/"
        }
      },
      "execution_count": 98,
      "outputs": [
        {
          "output_type": "execute_result",
          "data": {
            "text/plain": [
              "array([255, 255, 255, ...,  17,  14,  11], dtype=uint8)"
            ]
          },
          "metadata": {},
          "execution_count": 98
        }
      ]
    },
    {
      "cell_type": "code",
      "source": [
        "cvc_binary_test.shape[0]"
      ],
      "metadata": {
        "id": "fYgmSayIqytN",
        "outputId": "ff1ed6ab-06fa-4eb6-82d0-5ca6b34bac8a",
        "colab": {
          "base_uri": "https://localhost:8080/"
        }
      },
      "execution_count": 99,
      "outputs": [
        {
          "output_type": "execute_result",
          "data": {
            "text/plain": [
              "49"
            ]
          },
          "metadata": {},
          "execution_count": 99
        }
      ]
    },
    {
      "cell_type": "code",
      "source": [
        "shapes = []\n",
        "for i in range(cvc_binary_test.shape[0]):\n",
        "  shapes.append(cvc_binary_test.iloc[i].iat[2].shape)\n",
        "\n",
        "min(shapes)"
      ],
      "metadata": {
        "id": "2xSGaIS_051H",
        "outputId": "6a7ac156-7d79-4a40-efe3-edf0759b5776",
        "colab": {
          "base_uri": "https://localhost:8080/"
        }
      },
      "execution_count": 100,
      "outputs": [
        {
          "output_type": "execute_result",
          "data": {
            "text/plain": [
              "(2048, 2500)"
            ]
          },
          "metadata": {},
          "execution_count": 100
        }
      ]
    },
    {
      "cell_type": "markdown",
      "source": [
        "The image vectors are not all the same shape so we need to change them. I am going to resize them all to the smallest value as this is easiest."
      ],
      "metadata": {
        "id": "o47qJY5L1ZMs"
      }
    },
    {
      "cell_type": "code",
      "source": [
        "new_cvc_binary = cvc_binary_test.copy()\n",
        "new_cvc_binary['image'] = new_cvc_binary['image'].apply(lambda x: cv2.resize(x, (2048, 2500)))"
      ],
      "metadata": {
        "id": "rf5_RT1Q1JRF"
      },
      "execution_count": 101,
      "outputs": []
    },
    {
      "cell_type": "code",
      "source": [
        "for i in range(cvc_binary_test.shape[0]):\n",
        "  print(new_cvc_binary.iloc[i].iat[2].shape)"
      ],
      "metadata": {
        "id": "pX1sEACA1v3-",
        "outputId": "09a68c00-076b-42ed-bd1e-fe6bd1dd5c3f",
        "colab": {
          "base_uri": "https://localhost:8080/"
        }
      },
      "execution_count": 102,
      "outputs": [
        {
          "output_type": "stream",
          "name": "stdout",
          "text": [
            "(2500, 2048)\n",
            "(2500, 2048)\n",
            "(2500, 2048)\n",
            "(2500, 2048)\n",
            "(2500, 2048)\n",
            "(2500, 2048)\n",
            "(2500, 2048)\n",
            "(2500, 2048)\n",
            "(2500, 2048)\n",
            "(2500, 2048)\n",
            "(2500, 2048)\n",
            "(2500, 2048)\n",
            "(2500, 2048)\n",
            "(2500, 2048)\n",
            "(2500, 2048)\n",
            "(2500, 2048)\n",
            "(2500, 2048)\n",
            "(2500, 2048)\n",
            "(2500, 2048)\n",
            "(2500, 2048)\n",
            "(2500, 2048)\n",
            "(2500, 2048)\n",
            "(2500, 2048)\n",
            "(2500, 2048)\n",
            "(2500, 2048)\n",
            "(2500, 2048)\n",
            "(2500, 2048)\n",
            "(2500, 2048)\n",
            "(2500, 2048)\n",
            "(2500, 2048)\n",
            "(2500, 2048)\n",
            "(2500, 2048)\n",
            "(2500, 2048)\n",
            "(2500, 2048)\n",
            "(2500, 2048)\n",
            "(2500, 2048)\n",
            "(2500, 2048)\n",
            "(2500, 2048)\n",
            "(2500, 2048)\n",
            "(2500, 2048)\n",
            "(2500, 2048)\n",
            "(2500, 2048)\n",
            "(2500, 2048)\n",
            "(2500, 2048)\n",
            "(2500, 2048)\n",
            "(2500, 2048)\n",
            "(2500, 2048)\n",
            "(2500, 2048)\n",
            "(2500, 2048)\n"
          ]
        }
      ]
    },
    {
      "cell_type": "markdown",
      "source": [
        "This is good. The image has only two dimensions as we imported it in grayscale getting rid of the third, RGB, dimension as this negatively effects the KMeans models. They are also all the same dimension for the model."
      ],
      "metadata": {
        "id": "rFHmk0Wue8Ft"
      }
    },
    {
      "cell_type": "markdown",
      "source": [
        "However we need to flatten each of the entries in 'image' right now as they are an array of arrays instead of just one array which KMeans doesn't like."
      ],
      "metadata": {
        "id": "jHIbF44DhXiA"
      }
    },
    {
      "cell_type": "code",
      "source": [
        "flat_copy = new_cvc_binary.copy()\n",
        "flat_copy['image'] = flat_copy['image'].apply(lambda x: np.array(x).flatten())"
      ],
      "metadata": {
        "id": "R_voaAHMjXXC"
      },
      "execution_count": 103,
      "outputs": []
    },
    {
      "cell_type": "code",
      "source": [
        "flat_copy"
      ],
      "metadata": {
        "id": "9cQT1dbaj0mQ",
        "outputId": "1176ba4a-35fc-402a-dfd2-81e500b47ab7",
        "colab": {
          "base_uri": "https://localhost:8080/",
          "height": 1000
        }
      },
      "execution_count": 104,
      "outputs": [
        {
          "output_type": "execute_result",
          "data": {
            "text/plain": [
              "       CVC - Normal                                   StudyInstanceUID  \\\n",
              "575               1  1.2.826.0.1.3680043.8.498.98868688063682029179...   \n",
              "737               1  1.2.826.0.1.3680043.8.498.98311970012797959433...   \n",
              "771               1  1.2.826.0.1.3680043.8.498.96954713473231855718...   \n",
              "907               1  1.2.826.0.1.3680043.8.498.98610781732941210925...   \n",
              "1370              1  1.2.826.0.1.3680043.8.498.97077295886695881642...   \n",
              "1470              1  1.2.826.0.1.3680043.8.498.97608411246349275250...   \n",
              "1499              1  1.2.826.0.1.3680043.8.498.98883008008926824052...   \n",
              "2400              0  1.2.826.0.1.3680043.8.498.97576992904366052571...   \n",
              "2564              1  1.2.826.0.1.3680043.8.498.97065141260424680232...   \n",
              "4491              1  1.2.826.0.1.3680043.8.498.96858232333572510807...   \n",
              "5543              0  1.2.826.0.1.3680043.8.498.96895365323267339296...   \n",
              "5695              0  1.2.826.0.1.3680043.8.498.98435666695295522312...   \n",
              "7207              1  1.2.826.0.1.3680043.8.498.98558983022949394279...   \n",
              "7286              1  1.2.826.0.1.3680043.8.498.98077286322774436813...   \n",
              "8153              1  1.2.826.0.1.3680043.8.498.97524915718275250689...   \n",
              "8234              1  1.2.826.0.1.3680043.8.498.97898517431692420201...   \n",
              "8609              1  1.2.826.0.1.3680043.8.498.97150346937242949223...   \n",
              "8993              1  1.2.826.0.1.3680043.8.498.96529642344304388196...   \n",
              "9225              1  1.2.826.0.1.3680043.8.498.97037739001229262220...   \n",
              "9382              0  1.2.826.0.1.3680043.8.498.98186254843132838914...   \n",
              "10409             1  1.2.826.0.1.3680043.8.498.97727438097783635523...   \n",
              "10807             0  1.2.826.0.1.3680043.8.498.97766505139916741913...   \n",
              "10817             1  1.2.826.0.1.3680043.8.498.98159704892843040428...   \n",
              "11095             1  1.2.826.0.1.3680043.8.498.97041516719310280357...   \n",
              "11525             1  1.2.826.0.1.3680043.8.498.97225589399184444901...   \n",
              "11978             1  1.2.826.0.1.3680043.8.498.97061174192533614934...   \n",
              "12213             1  1.2.826.0.1.3680043.8.498.97947840494210380959...   \n",
              "13288             1  1.2.826.0.1.3680043.8.498.97405033445018642994...   \n",
              "13305             1  1.2.826.0.1.3680043.8.498.97729703711227561224...   \n",
              "14182             0  1.2.826.0.1.3680043.8.498.97504631906553367784...   \n",
              "17431             1  1.2.826.0.1.3680043.8.498.98035745160816803407...   \n",
              "19060             1  1.2.826.0.1.3680043.8.498.98012569672647456302...   \n",
              "19222             1  1.2.826.0.1.3680043.8.498.96892858606134122459...   \n",
              "20412             1  1.2.826.0.1.3680043.8.498.96960778080759593235...   \n",
              "20871             1  1.2.826.0.1.3680043.8.498.96906339125407454825...   \n",
              "22271             0  1.2.826.0.1.3680043.8.498.97158197538682738714...   \n",
              "22901             1  1.2.826.0.1.3680043.8.498.98375351416107229669...   \n",
              "24567             1  1.2.826.0.1.3680043.8.498.97365645031862188566...   \n",
              "24726             1  1.2.826.0.1.3680043.8.498.96606516131401602113...   \n",
              "24787             1  1.2.826.0.1.3680043.8.498.97871720350127684041...   \n",
              "25056             1  1.2.826.0.1.3680043.8.498.97371730576501176992...   \n",
              "25440             1  1.2.826.0.1.3680043.8.498.97783106692805679352...   \n",
              "25442             1  1.2.826.0.1.3680043.8.498.98035219717001662651...   \n",
              "26444             0  1.2.826.0.1.3680043.8.498.98237908730527176292...   \n",
              "26543             1  1.2.826.0.1.3680043.8.498.98036018217486617932...   \n",
              "26601             0  1.2.826.0.1.3680043.8.498.98641156893101333738...   \n",
              "27006             1  1.2.826.0.1.3680043.8.498.98425772863244371226...   \n",
              "27256             1  1.2.826.0.1.3680043.8.498.97406518558932615981...   \n",
              "29412             1  1.2.826.0.1.3680043.8.498.97016154829711225153...   \n",
              "\n",
              "                                                   image  \n",
              "575    [255, 255, 255, 255, 255, 255, 255, 255, 255, ...  \n",
              "737    [3, 6, 10, 12, 11, 9, 7, 8, 8, 8, 7, 7, 7, 8, ...  \n",
              "771    [1, 1, 1, 1, 1, 1, 1, 2, 2, 2, 2, 2, 2, 1, 1, ...  \n",
              "907    [2, 2, 2, 3, 4, 4, 3, 3, 3, 3, 3, 3, 3, 4, 4, ...  \n",
              "1370   [7, 7, 7, 7, 7, 7, 7, 7, 7, 7, 7, 7, 7, 7, 7, ...  \n",
              "1470   [4, 4, 4, 4, 4, 4, 4, 4, 4, 4, 4, 4, 4, 4, 4, ...  \n",
              "1499   [0, 0, 0, 0, 0, 0, 0, 0, 0, 0, 0, 0, 0, 0, 0, ...  \n",
              "2400   [0, 0, 0, 1, 2, 2, 1, 1, 1, 1, 1, 1, 1, 1, 1, ...  \n",
              "2564   [42, 47, 69, 74, 70, 73, 76, 79, 73, 68, 63, 6...  \n",
              "4491   [0, 0, 0, 0, 0, 0, 0, 0, 0, 0, 0, 0, 0, 0, 0, ...  \n",
              "5543   [0, 0, 1, 2, 2, 2, 2, 2, 2, 2, 2, 2, 2, 2, 2, ...  \n",
              "5695   [17, 24, 35, 42, 37, 35, 35, 34, 34, 34, 34, 3...  \n",
              "7207   [2, 3, 4, 5, 5, 4, 4, 4, 5, 6, 6, 4, 4, 5, 5, ...  \n",
              "7286   [0, 0, 0, 0, 0, 0, 0, 0, 0, 0, 0, 0, 0, 0, 0, ...  \n",
              "8153   [198, 199, 200, 199, 199, 198, 197, 195, 194, ...  \n",
              "8234   [42, 50, 70, 75, 73, 76, 74, 74, 73, 75, 78, 7...  \n",
              "8609   [4, 5, 6, 7, 7, 6, 6, 5, 5, 5, 5, 5, 5, 4, 4, ...  \n",
              "8993   [1, 1, 1, 1, 1, 1, 1, 1, 1, 1, 1, 1, 1, 1, 1, ...  \n",
              "9225   [2, 2, 2, 2, 2, 2, 2, 2, 2, 1, 1, 0, 0, 1, 1, ...  \n",
              "9382   [0, 29, 86, 136, 171, 190, 187, 186, 186, 186,...  \n",
              "10409  [18, 25, 36, 41, 35, 32, 33, 33, 32, 31, 30, 3...  \n",
              "10807  [0, 0, 0, 0, 0, 0, 0, 0, 0, 0, 0, 0, 0, 0, 0, ...  \n",
              "10817  [2, 2, 2, 2, 2, 2, 2, 2, 2, 2, 2, 2, 2, 3, 3, ...  \n",
              "11095  [1, 1, 1, 2, 3, 3, 2, 2, 2, 2, 2, 2, 2, 2, 2, ...  \n",
              "11525  [81, 84, 90, 78, 42, 20, 14, 10, 7, 7, 9, 10, ...  \n",
              "11978  [62, 76, 106, 116, 109, 110, 109, 109, 110, 11...  \n",
              "12213  [55, 67, 95, 101, 93, 93, 96, 99, 95, 92, 90, ...  \n",
              "13288  [3, 6, 9, 11, 11, 10, 9, 10, 10, 10, 10, 10, 1...  \n",
              "13305  [2, 2, 3, 4, 5, 6, 6, 5, 5, 5, 5, 5, 5, 5, 5, ...  \n",
              "14182  [255, 255, 255, 255, 255, 255, 255, 255, 255, ...  \n",
              "17431  [250, 247, 246, 246, 247, 249, 250, 248, 245, ...  \n",
              "19060  [237, 239, 242, 243, 243, 240, 239, 238, 237, ...  \n",
              "19222  [9, 12, 15, 17, 17, 16, 14, 14, 14, 14, 14, 14...  \n",
              "20412  [200, 200, 200, 200, 200, 201, 201, 199, 197, ...  \n",
              "20871  [1, 1, 1, 1, 1, 1, 1, 1, 1, 1, 1, 1, 1, 1, 1, ...  \n",
              "22271  [2, 3, 4, 6, 6, 6, 6, 5, 5, 5, 5, 5, 5, 6, 6, ...  \n",
              "22901  [1, 1, 1, 1, 1, 1, 1, 1, 1, 1, 1, 1, 1, 1, 1, ...  \n",
              "24567  [4, 4, 4, 4, 4, 4, 4, 4, 4, 4, 4, 4, 4, 4, 4, ...  \n",
              "24726  [0, 0, 1, 3, 4, 5, 5, 5, 5, 5, 5, 5, 5, 5, 5, ...  \n",
              "24787  [161, 161, 160, 158, 157, 154, 152, 149, 144, ...  \n",
              "25056  [1, 1, 1, 1, 1, 1, 1, 1, 1, 1, 1, 1, 1, 1, 1, ...  \n",
              "25440  [3, 5, 17, 23, 24, 24, 24, 25, 26, 26, 26, 25,...  \n",
              "25442  [15, 21, 30, 35, 30, 27, 29, 29, 30, 30, 30, 2...  \n",
              "26444  [2, 2, 2, 3, 4, 4, 3, 3, 3, 3, 3, 3, 3, 4, 4, ...  \n",
              "26543  [114, 113, 113, 113, 112, 113, 114, 112, 110, ...  \n",
              "26601  [2, 2, 2, 3, 4, 4, 3, 2, 2, 2, 2, 2, 2, 2, 2, ...  \n",
              "27006  [52, 49, 42, 33, 22, 14, 11, 12, 12, 10, 7, 7,...  \n",
              "27256  [221, 219, 218, 216, 214, 214, 210, 208, 206, ...  \n",
              "29412  [57, 68, 95, 103, 96, 98, 99, 100, 100, 100, 1...  "
            ],
            "text/html": [
              "\n",
              "  <div id=\"df-b1fd8cdf-16e4-43d7-989a-fdbfbb906184\" class=\"colab-df-container\">\n",
              "    <div>\n",
              "<style scoped>\n",
              "    .dataframe tbody tr th:only-of-type {\n",
              "        vertical-align: middle;\n",
              "    }\n",
              "\n",
              "    .dataframe tbody tr th {\n",
              "        vertical-align: top;\n",
              "    }\n",
              "\n",
              "    .dataframe thead th {\n",
              "        text-align: right;\n",
              "    }\n",
              "</style>\n",
              "<table border=\"1\" class=\"dataframe\">\n",
              "  <thead>\n",
              "    <tr style=\"text-align: right;\">\n",
              "      <th></th>\n",
              "      <th>CVC - Normal</th>\n",
              "      <th>StudyInstanceUID</th>\n",
              "      <th>image</th>\n",
              "    </tr>\n",
              "  </thead>\n",
              "  <tbody>\n",
              "    <tr>\n",
              "      <th>575</th>\n",
              "      <td>1</td>\n",
              "      <td>1.2.826.0.1.3680043.8.498.98868688063682029179...</td>\n",
              "      <td>[255, 255, 255, 255, 255, 255, 255, 255, 255, ...</td>\n",
              "    </tr>\n",
              "    <tr>\n",
              "      <th>737</th>\n",
              "      <td>1</td>\n",
              "      <td>1.2.826.0.1.3680043.8.498.98311970012797959433...</td>\n",
              "      <td>[3, 6, 10, 12, 11, 9, 7, 8, 8, 8, 7, 7, 7, 8, ...</td>\n",
              "    </tr>\n",
              "    <tr>\n",
              "      <th>771</th>\n",
              "      <td>1</td>\n",
              "      <td>1.2.826.0.1.3680043.8.498.96954713473231855718...</td>\n",
              "      <td>[1, 1, 1, 1, 1, 1, 1, 2, 2, 2, 2, 2, 2, 1, 1, ...</td>\n",
              "    </tr>\n",
              "    <tr>\n",
              "      <th>907</th>\n",
              "      <td>1</td>\n",
              "      <td>1.2.826.0.1.3680043.8.498.98610781732941210925...</td>\n",
              "      <td>[2, 2, 2, 3, 4, 4, 3, 3, 3, 3, 3, 3, 3, 4, 4, ...</td>\n",
              "    </tr>\n",
              "    <tr>\n",
              "      <th>1370</th>\n",
              "      <td>1</td>\n",
              "      <td>1.2.826.0.1.3680043.8.498.97077295886695881642...</td>\n",
              "      <td>[7, 7, 7, 7, 7, 7, 7, 7, 7, 7, 7, 7, 7, 7, 7, ...</td>\n",
              "    </tr>\n",
              "    <tr>\n",
              "      <th>1470</th>\n",
              "      <td>1</td>\n",
              "      <td>1.2.826.0.1.3680043.8.498.97608411246349275250...</td>\n",
              "      <td>[4, 4, 4, 4, 4, 4, 4, 4, 4, 4, 4, 4, 4, 4, 4, ...</td>\n",
              "    </tr>\n",
              "    <tr>\n",
              "      <th>1499</th>\n",
              "      <td>1</td>\n",
              "      <td>1.2.826.0.1.3680043.8.498.98883008008926824052...</td>\n",
              "      <td>[0, 0, 0, 0, 0, 0, 0, 0, 0, 0, 0, 0, 0, 0, 0, ...</td>\n",
              "    </tr>\n",
              "    <tr>\n",
              "      <th>2400</th>\n",
              "      <td>0</td>\n",
              "      <td>1.2.826.0.1.3680043.8.498.97576992904366052571...</td>\n",
              "      <td>[0, 0, 0, 1, 2, 2, 1, 1, 1, 1, 1, 1, 1, 1, 1, ...</td>\n",
              "    </tr>\n",
              "    <tr>\n",
              "      <th>2564</th>\n",
              "      <td>1</td>\n",
              "      <td>1.2.826.0.1.3680043.8.498.97065141260424680232...</td>\n",
              "      <td>[42, 47, 69, 74, 70, 73, 76, 79, 73, 68, 63, 6...</td>\n",
              "    </tr>\n",
              "    <tr>\n",
              "      <th>4491</th>\n",
              "      <td>1</td>\n",
              "      <td>1.2.826.0.1.3680043.8.498.96858232333572510807...</td>\n",
              "      <td>[0, 0, 0, 0, 0, 0, 0, 0, 0, 0, 0, 0, 0, 0, 0, ...</td>\n",
              "    </tr>\n",
              "    <tr>\n",
              "      <th>5543</th>\n",
              "      <td>0</td>\n",
              "      <td>1.2.826.0.1.3680043.8.498.96895365323267339296...</td>\n",
              "      <td>[0, 0, 1, 2, 2, 2, 2, 2, 2, 2, 2, 2, 2, 2, 2, ...</td>\n",
              "    </tr>\n",
              "    <tr>\n",
              "      <th>5695</th>\n",
              "      <td>0</td>\n",
              "      <td>1.2.826.0.1.3680043.8.498.98435666695295522312...</td>\n",
              "      <td>[17, 24, 35, 42, 37, 35, 35, 34, 34, 34, 34, 3...</td>\n",
              "    </tr>\n",
              "    <tr>\n",
              "      <th>7207</th>\n",
              "      <td>1</td>\n",
              "      <td>1.2.826.0.1.3680043.8.498.98558983022949394279...</td>\n",
              "      <td>[2, 3, 4, 5, 5, 4, 4, 4, 5, 6, 6, 4, 4, 5, 5, ...</td>\n",
              "    </tr>\n",
              "    <tr>\n",
              "      <th>7286</th>\n",
              "      <td>1</td>\n",
              "      <td>1.2.826.0.1.3680043.8.498.98077286322774436813...</td>\n",
              "      <td>[0, 0, 0, 0, 0, 0, 0, 0, 0, 0, 0, 0, 0, 0, 0, ...</td>\n",
              "    </tr>\n",
              "    <tr>\n",
              "      <th>8153</th>\n",
              "      <td>1</td>\n",
              "      <td>1.2.826.0.1.3680043.8.498.97524915718275250689...</td>\n",
              "      <td>[198, 199, 200, 199, 199, 198, 197, 195, 194, ...</td>\n",
              "    </tr>\n",
              "    <tr>\n",
              "      <th>8234</th>\n",
              "      <td>1</td>\n",
              "      <td>1.2.826.0.1.3680043.8.498.97898517431692420201...</td>\n",
              "      <td>[42, 50, 70, 75, 73, 76, 74, 74, 73, 75, 78, 7...</td>\n",
              "    </tr>\n",
              "    <tr>\n",
              "      <th>8609</th>\n",
              "      <td>1</td>\n",
              "      <td>1.2.826.0.1.3680043.8.498.97150346937242949223...</td>\n",
              "      <td>[4, 5, 6, 7, 7, 6, 6, 5, 5, 5, 5, 5, 5, 4, 4, ...</td>\n",
              "    </tr>\n",
              "    <tr>\n",
              "      <th>8993</th>\n",
              "      <td>1</td>\n",
              "      <td>1.2.826.0.1.3680043.8.498.96529642344304388196...</td>\n",
              "      <td>[1, 1, 1, 1, 1, 1, 1, 1, 1, 1, 1, 1, 1, 1, 1, ...</td>\n",
              "    </tr>\n",
              "    <tr>\n",
              "      <th>9225</th>\n",
              "      <td>1</td>\n",
              "      <td>1.2.826.0.1.3680043.8.498.97037739001229262220...</td>\n",
              "      <td>[2, 2, 2, 2, 2, 2, 2, 2, 2, 1, 1, 0, 0, 1, 1, ...</td>\n",
              "    </tr>\n",
              "    <tr>\n",
              "      <th>9382</th>\n",
              "      <td>0</td>\n",
              "      <td>1.2.826.0.1.3680043.8.498.98186254843132838914...</td>\n",
              "      <td>[0, 29, 86, 136, 171, 190, 187, 186, 186, 186,...</td>\n",
              "    </tr>\n",
              "    <tr>\n",
              "      <th>10409</th>\n",
              "      <td>1</td>\n",
              "      <td>1.2.826.0.1.3680043.8.498.97727438097783635523...</td>\n",
              "      <td>[18, 25, 36, 41, 35, 32, 33, 33, 32, 31, 30, 3...</td>\n",
              "    </tr>\n",
              "    <tr>\n",
              "      <th>10807</th>\n",
              "      <td>0</td>\n",
              "      <td>1.2.826.0.1.3680043.8.498.97766505139916741913...</td>\n",
              "      <td>[0, 0, 0, 0, 0, 0, 0, 0, 0, 0, 0, 0, 0, 0, 0, ...</td>\n",
              "    </tr>\n",
              "    <tr>\n",
              "      <th>10817</th>\n",
              "      <td>1</td>\n",
              "      <td>1.2.826.0.1.3680043.8.498.98159704892843040428...</td>\n",
              "      <td>[2, 2, 2, 2, 2, 2, 2, 2, 2, 2, 2, 2, 2, 3, 3, ...</td>\n",
              "    </tr>\n",
              "    <tr>\n",
              "      <th>11095</th>\n",
              "      <td>1</td>\n",
              "      <td>1.2.826.0.1.3680043.8.498.97041516719310280357...</td>\n",
              "      <td>[1, 1, 1, 2, 3, 3, 2, 2, 2, 2, 2, 2, 2, 2, 2, ...</td>\n",
              "    </tr>\n",
              "    <tr>\n",
              "      <th>11525</th>\n",
              "      <td>1</td>\n",
              "      <td>1.2.826.0.1.3680043.8.498.97225589399184444901...</td>\n",
              "      <td>[81, 84, 90, 78, 42, 20, 14, 10, 7, 7, 9, 10, ...</td>\n",
              "    </tr>\n",
              "    <tr>\n",
              "      <th>11978</th>\n",
              "      <td>1</td>\n",
              "      <td>1.2.826.0.1.3680043.8.498.97061174192533614934...</td>\n",
              "      <td>[62, 76, 106, 116, 109, 110, 109, 109, 110, 11...</td>\n",
              "    </tr>\n",
              "    <tr>\n",
              "      <th>12213</th>\n",
              "      <td>1</td>\n",
              "      <td>1.2.826.0.1.3680043.8.498.97947840494210380959...</td>\n",
              "      <td>[55, 67, 95, 101, 93, 93, 96, 99, 95, 92, 90, ...</td>\n",
              "    </tr>\n",
              "    <tr>\n",
              "      <th>13288</th>\n",
              "      <td>1</td>\n",
              "      <td>1.2.826.0.1.3680043.8.498.97405033445018642994...</td>\n",
              "      <td>[3, 6, 9, 11, 11, 10, 9, 10, 10, 10, 10, 10, 1...</td>\n",
              "    </tr>\n",
              "    <tr>\n",
              "      <th>13305</th>\n",
              "      <td>1</td>\n",
              "      <td>1.2.826.0.1.3680043.8.498.97729703711227561224...</td>\n",
              "      <td>[2, 2, 3, 4, 5, 6, 6, 5, 5, 5, 5, 5, 5, 5, 5, ...</td>\n",
              "    </tr>\n",
              "    <tr>\n",
              "      <th>14182</th>\n",
              "      <td>0</td>\n",
              "      <td>1.2.826.0.1.3680043.8.498.97504631906553367784...</td>\n",
              "      <td>[255, 255, 255, 255, 255, 255, 255, 255, 255, ...</td>\n",
              "    </tr>\n",
              "    <tr>\n",
              "      <th>17431</th>\n",
              "      <td>1</td>\n",
              "      <td>1.2.826.0.1.3680043.8.498.98035745160816803407...</td>\n",
              "      <td>[250, 247, 246, 246, 247, 249, 250, 248, 245, ...</td>\n",
              "    </tr>\n",
              "    <tr>\n",
              "      <th>19060</th>\n",
              "      <td>1</td>\n",
              "      <td>1.2.826.0.1.3680043.8.498.98012569672647456302...</td>\n",
              "      <td>[237, 239, 242, 243, 243, 240, 239, 238, 237, ...</td>\n",
              "    </tr>\n",
              "    <tr>\n",
              "      <th>19222</th>\n",
              "      <td>1</td>\n",
              "      <td>1.2.826.0.1.3680043.8.498.96892858606134122459...</td>\n",
              "      <td>[9, 12, 15, 17, 17, 16, 14, 14, 14, 14, 14, 14...</td>\n",
              "    </tr>\n",
              "    <tr>\n",
              "      <th>20412</th>\n",
              "      <td>1</td>\n",
              "      <td>1.2.826.0.1.3680043.8.498.96960778080759593235...</td>\n",
              "      <td>[200, 200, 200, 200, 200, 201, 201, 199, 197, ...</td>\n",
              "    </tr>\n",
              "    <tr>\n",
              "      <th>20871</th>\n",
              "      <td>1</td>\n",
              "      <td>1.2.826.0.1.3680043.8.498.96906339125407454825...</td>\n",
              "      <td>[1, 1, 1, 1, 1, 1, 1, 1, 1, 1, 1, 1, 1, 1, 1, ...</td>\n",
              "    </tr>\n",
              "    <tr>\n",
              "      <th>22271</th>\n",
              "      <td>0</td>\n",
              "      <td>1.2.826.0.1.3680043.8.498.97158197538682738714...</td>\n",
              "      <td>[2, 3, 4, 6, 6, 6, 6, 5, 5, 5, 5, 5, 5, 6, 6, ...</td>\n",
              "    </tr>\n",
              "    <tr>\n",
              "      <th>22901</th>\n",
              "      <td>1</td>\n",
              "      <td>1.2.826.0.1.3680043.8.498.98375351416107229669...</td>\n",
              "      <td>[1, 1, 1, 1, 1, 1, 1, 1, 1, 1, 1, 1, 1, 1, 1, ...</td>\n",
              "    </tr>\n",
              "    <tr>\n",
              "      <th>24567</th>\n",
              "      <td>1</td>\n",
              "      <td>1.2.826.0.1.3680043.8.498.97365645031862188566...</td>\n",
              "      <td>[4, 4, 4, 4, 4, 4, 4, 4, 4, 4, 4, 4, 4, 4, 4, ...</td>\n",
              "    </tr>\n",
              "    <tr>\n",
              "      <th>24726</th>\n",
              "      <td>1</td>\n",
              "      <td>1.2.826.0.1.3680043.8.498.96606516131401602113...</td>\n",
              "      <td>[0, 0, 1, 3, 4, 5, 5, 5, 5, 5, 5, 5, 5, 5, 5, ...</td>\n",
              "    </tr>\n",
              "    <tr>\n",
              "      <th>24787</th>\n",
              "      <td>1</td>\n",
              "      <td>1.2.826.0.1.3680043.8.498.97871720350127684041...</td>\n",
              "      <td>[161, 161, 160, 158, 157, 154, 152, 149, 144, ...</td>\n",
              "    </tr>\n",
              "    <tr>\n",
              "      <th>25056</th>\n",
              "      <td>1</td>\n",
              "      <td>1.2.826.0.1.3680043.8.498.97371730576501176992...</td>\n",
              "      <td>[1, 1, 1, 1, 1, 1, 1, 1, 1, 1, 1, 1, 1, 1, 1, ...</td>\n",
              "    </tr>\n",
              "    <tr>\n",
              "      <th>25440</th>\n",
              "      <td>1</td>\n",
              "      <td>1.2.826.0.1.3680043.8.498.97783106692805679352...</td>\n",
              "      <td>[3, 5, 17, 23, 24, 24, 24, 25, 26, 26, 26, 25,...</td>\n",
              "    </tr>\n",
              "    <tr>\n",
              "      <th>25442</th>\n",
              "      <td>1</td>\n",
              "      <td>1.2.826.0.1.3680043.8.498.98035219717001662651...</td>\n",
              "      <td>[15, 21, 30, 35, 30, 27, 29, 29, 30, 30, 30, 2...</td>\n",
              "    </tr>\n",
              "    <tr>\n",
              "      <th>26444</th>\n",
              "      <td>0</td>\n",
              "      <td>1.2.826.0.1.3680043.8.498.98237908730527176292...</td>\n",
              "      <td>[2, 2, 2, 3, 4, 4, 3, 3, 3, 3, 3, 3, 3, 4, 4, ...</td>\n",
              "    </tr>\n",
              "    <tr>\n",
              "      <th>26543</th>\n",
              "      <td>1</td>\n",
              "      <td>1.2.826.0.1.3680043.8.498.98036018217486617932...</td>\n",
              "      <td>[114, 113, 113, 113, 112, 113, 114, 112, 110, ...</td>\n",
              "    </tr>\n",
              "    <tr>\n",
              "      <th>26601</th>\n",
              "      <td>0</td>\n",
              "      <td>1.2.826.0.1.3680043.8.498.98641156893101333738...</td>\n",
              "      <td>[2, 2, 2, 3, 4, 4, 3, 2, 2, 2, 2, 2, 2, 2, 2, ...</td>\n",
              "    </tr>\n",
              "    <tr>\n",
              "      <th>27006</th>\n",
              "      <td>1</td>\n",
              "      <td>1.2.826.0.1.3680043.8.498.98425772863244371226...</td>\n",
              "      <td>[52, 49, 42, 33, 22, 14, 11, 12, 12, 10, 7, 7,...</td>\n",
              "    </tr>\n",
              "    <tr>\n",
              "      <th>27256</th>\n",
              "      <td>1</td>\n",
              "      <td>1.2.826.0.1.3680043.8.498.97406518558932615981...</td>\n",
              "      <td>[221, 219, 218, 216, 214, 214, 210, 208, 206, ...</td>\n",
              "    </tr>\n",
              "    <tr>\n",
              "      <th>29412</th>\n",
              "      <td>1</td>\n",
              "      <td>1.2.826.0.1.3680043.8.498.97016154829711225153...</td>\n",
              "      <td>[57, 68, 95, 103, 96, 98, 99, 100, 100, 100, 1...</td>\n",
              "    </tr>\n",
              "  </tbody>\n",
              "</table>\n",
              "</div>\n",
              "    <div class=\"colab-df-buttons\">\n",
              "\n",
              "  <div class=\"colab-df-container\">\n",
              "    <button class=\"colab-df-convert\" onclick=\"convertToInteractive('df-b1fd8cdf-16e4-43d7-989a-fdbfbb906184')\"\n",
              "            title=\"Convert this dataframe to an interactive table.\"\n",
              "            style=\"display:none;\">\n",
              "\n",
              "  <svg xmlns=\"http://www.w3.org/2000/svg\" height=\"24px\" viewBox=\"0 -960 960 960\">\n",
              "    <path d=\"M120-120v-720h720v720H120Zm60-500h600v-160H180v160Zm220 220h160v-160H400v160Zm0 220h160v-160H400v160ZM180-400h160v-160H180v160Zm440 0h160v-160H620v160ZM180-180h160v-160H180v160Zm440 0h160v-160H620v160Z\"/>\n",
              "  </svg>\n",
              "    </button>\n",
              "\n",
              "  <style>\n",
              "    .colab-df-container {\n",
              "      display:flex;\n",
              "      gap: 12px;\n",
              "    }\n",
              "\n",
              "    .colab-df-convert {\n",
              "      background-color: #E8F0FE;\n",
              "      border: none;\n",
              "      border-radius: 50%;\n",
              "      cursor: pointer;\n",
              "      display: none;\n",
              "      fill: #1967D2;\n",
              "      height: 32px;\n",
              "      padding: 0 0 0 0;\n",
              "      width: 32px;\n",
              "    }\n",
              "\n",
              "    .colab-df-convert:hover {\n",
              "      background-color: #E2EBFA;\n",
              "      box-shadow: 0px 1px 2px rgba(60, 64, 67, 0.3), 0px 1px 3px 1px rgba(60, 64, 67, 0.15);\n",
              "      fill: #174EA6;\n",
              "    }\n",
              "\n",
              "    .colab-df-buttons div {\n",
              "      margin-bottom: 4px;\n",
              "    }\n",
              "\n",
              "    [theme=dark] .colab-df-convert {\n",
              "      background-color: #3B4455;\n",
              "      fill: #D2E3FC;\n",
              "    }\n",
              "\n",
              "    [theme=dark] .colab-df-convert:hover {\n",
              "      background-color: #434B5C;\n",
              "      box-shadow: 0px 1px 3px 1px rgba(0, 0, 0, 0.15);\n",
              "      filter: drop-shadow(0px 1px 2px rgba(0, 0, 0, 0.3));\n",
              "      fill: #FFFFFF;\n",
              "    }\n",
              "  </style>\n",
              "\n",
              "    <script>\n",
              "      const buttonEl =\n",
              "        document.querySelector('#df-b1fd8cdf-16e4-43d7-989a-fdbfbb906184 button.colab-df-convert');\n",
              "      buttonEl.style.display =\n",
              "        google.colab.kernel.accessAllowed ? 'block' : 'none';\n",
              "\n",
              "      async function convertToInteractive(key) {\n",
              "        const element = document.querySelector('#df-b1fd8cdf-16e4-43d7-989a-fdbfbb906184');\n",
              "        const dataTable =\n",
              "          await google.colab.kernel.invokeFunction('convertToInteractive',\n",
              "                                                    [key], {});\n",
              "        if (!dataTable) return;\n",
              "\n",
              "        const docLinkHtml = 'Like what you see? Visit the ' +\n",
              "          '<a target=\"_blank\" href=https://colab.research.google.com/notebooks/data_table.ipynb>data table notebook</a>'\n",
              "          + ' to learn more about interactive tables.';\n",
              "        element.innerHTML = '';\n",
              "        dataTable['output_type'] = 'display_data';\n",
              "        await google.colab.output.renderOutput(dataTable, element);\n",
              "        const docLink = document.createElement('div');\n",
              "        docLink.innerHTML = docLinkHtml;\n",
              "        element.appendChild(docLink);\n",
              "      }\n",
              "    </script>\n",
              "  </div>\n",
              "\n",
              "\n",
              "<div id=\"df-2b7f99d6-aff6-400c-942d-8d2040abb22b\">\n",
              "  <button class=\"colab-df-quickchart\" onclick=\"quickchart('df-2b7f99d6-aff6-400c-942d-8d2040abb22b')\"\n",
              "            title=\"Suggest charts.\"\n",
              "            style=\"display:none;\">\n",
              "\n",
              "<svg xmlns=\"http://www.w3.org/2000/svg\" height=\"24px\"viewBox=\"0 0 24 24\"\n",
              "     width=\"24px\">\n",
              "    <g>\n",
              "        <path d=\"M19 3H5c-1.1 0-2 .9-2 2v14c0 1.1.9 2 2 2h14c1.1 0 2-.9 2-2V5c0-1.1-.9-2-2-2zM9 17H7v-7h2v7zm4 0h-2V7h2v10zm4 0h-2v-4h2v4z\"/>\n",
              "    </g>\n",
              "</svg>\n",
              "  </button>\n",
              "\n",
              "<style>\n",
              "  .colab-df-quickchart {\n",
              "      --bg-color: #E8F0FE;\n",
              "      --fill-color: #1967D2;\n",
              "      --hover-bg-color: #E2EBFA;\n",
              "      --hover-fill-color: #174EA6;\n",
              "      --disabled-fill-color: #AAA;\n",
              "      --disabled-bg-color: #DDD;\n",
              "  }\n",
              "\n",
              "  [theme=dark] .colab-df-quickchart {\n",
              "      --bg-color: #3B4455;\n",
              "      --fill-color: #D2E3FC;\n",
              "      --hover-bg-color: #434B5C;\n",
              "      --hover-fill-color: #FFFFFF;\n",
              "      --disabled-bg-color: #3B4455;\n",
              "      --disabled-fill-color: #666;\n",
              "  }\n",
              "\n",
              "  .colab-df-quickchart {\n",
              "    background-color: var(--bg-color);\n",
              "    border: none;\n",
              "    border-radius: 50%;\n",
              "    cursor: pointer;\n",
              "    display: none;\n",
              "    fill: var(--fill-color);\n",
              "    height: 32px;\n",
              "    padding: 0;\n",
              "    width: 32px;\n",
              "  }\n",
              "\n",
              "  .colab-df-quickchart:hover {\n",
              "    background-color: var(--hover-bg-color);\n",
              "    box-shadow: 0 1px 2px rgba(60, 64, 67, 0.3), 0 1px 3px 1px rgba(60, 64, 67, 0.15);\n",
              "    fill: var(--button-hover-fill-color);\n",
              "  }\n",
              "\n",
              "  .colab-df-quickchart-complete:disabled,\n",
              "  .colab-df-quickchart-complete:disabled:hover {\n",
              "    background-color: var(--disabled-bg-color);\n",
              "    fill: var(--disabled-fill-color);\n",
              "    box-shadow: none;\n",
              "  }\n",
              "\n",
              "  .colab-df-spinner {\n",
              "    border: 2px solid var(--fill-color);\n",
              "    border-color: transparent;\n",
              "    border-bottom-color: var(--fill-color);\n",
              "    animation:\n",
              "      spin 1s steps(1) infinite;\n",
              "  }\n",
              "\n",
              "  @keyframes spin {\n",
              "    0% {\n",
              "      border-color: transparent;\n",
              "      border-bottom-color: var(--fill-color);\n",
              "      border-left-color: var(--fill-color);\n",
              "    }\n",
              "    20% {\n",
              "      border-color: transparent;\n",
              "      border-left-color: var(--fill-color);\n",
              "      border-top-color: var(--fill-color);\n",
              "    }\n",
              "    30% {\n",
              "      border-color: transparent;\n",
              "      border-left-color: var(--fill-color);\n",
              "      border-top-color: var(--fill-color);\n",
              "      border-right-color: var(--fill-color);\n",
              "    }\n",
              "    40% {\n",
              "      border-color: transparent;\n",
              "      border-right-color: var(--fill-color);\n",
              "      border-top-color: var(--fill-color);\n",
              "    }\n",
              "    60% {\n",
              "      border-color: transparent;\n",
              "      border-right-color: var(--fill-color);\n",
              "    }\n",
              "    80% {\n",
              "      border-color: transparent;\n",
              "      border-right-color: var(--fill-color);\n",
              "      border-bottom-color: var(--fill-color);\n",
              "    }\n",
              "    90% {\n",
              "      border-color: transparent;\n",
              "      border-bottom-color: var(--fill-color);\n",
              "    }\n",
              "  }\n",
              "</style>\n",
              "\n",
              "  <script>\n",
              "    async function quickchart(key) {\n",
              "      const quickchartButtonEl =\n",
              "        document.querySelector('#' + key + ' button');\n",
              "      quickchartButtonEl.disabled = true;  // To prevent multiple clicks.\n",
              "      quickchartButtonEl.classList.add('colab-df-spinner');\n",
              "      try {\n",
              "        const charts = await google.colab.kernel.invokeFunction(\n",
              "            'suggestCharts', [key], {});\n",
              "      } catch (error) {\n",
              "        console.error('Error during call to suggestCharts:', error);\n",
              "      }\n",
              "      quickchartButtonEl.classList.remove('colab-df-spinner');\n",
              "      quickchartButtonEl.classList.add('colab-df-quickchart-complete');\n",
              "    }\n",
              "    (() => {\n",
              "      let quickchartButtonEl =\n",
              "        document.querySelector('#df-2b7f99d6-aff6-400c-942d-8d2040abb22b button');\n",
              "      quickchartButtonEl.style.display =\n",
              "        google.colab.kernel.accessAllowed ? 'block' : 'none';\n",
              "    })();\n",
              "  </script>\n",
              "</div>\n",
              "    </div>\n",
              "  </div>\n"
            ]
          },
          "metadata": {},
          "execution_count": 104
        }
      ]
    },
    {
      "cell_type": "code",
      "source": [
        "X = np.stack(flat_copy['image'].values)\n",
        "Y = flat_copy['CVC - Normal']"
      ],
      "metadata": {
        "id": "dGliWWUqbN8Q"
      },
      "execution_count": 105,
      "outputs": []
    },
    {
      "cell_type": "code",
      "source": [
        "from sklearn.model_selection import train_test_split\n",
        "from sklearn.cluster import KMeans\n",
        "\n",
        "# Split the dataset into training and testing sets\n",
        "X_train, X_test, y_train, y_test = train_test_split(X, Y, test_size=0.2, random_state=42)\n",
        "\n",
        "# Fit the K-Means model on the training data\n",
        "kmeans = KMeans(n_clusters=2)\n",
        "clusters = kmeans.fit(X_train)"
      ],
      "metadata": {
        "id": "QMBOyfppaoP-",
        "outputId": "45dba8ef-bfd4-474c-c9bb-368e789ce2ec",
        "colab": {
          "base_uri": "https://localhost:8080/"
        }
      },
      "execution_count": 106,
      "outputs": [
        {
          "output_type": "stream",
          "name": "stderr",
          "text": [
            "/usr/local/lib/python3.10/dist-packages/sklearn/cluster/_kmeans.py:870: FutureWarning: The default value of `n_init` will change from 10 to 'auto' in 1.4. Set the value of `n_init` explicitly to suppress the warning\n",
            "  warnings.warn(\n"
          ]
        }
      ]
    },
    {
      "cell_type": "markdown",
      "source": [
        "Now we can see how accurate this model is."
      ],
      "metadata": {
        "id": "yeFdUtYn6pPi"
      }
    },
    {
      "cell_type": "code",
      "source": [
        "from sklearn.metrics import accuracy_score\n",
        "preds = kmeans.predict(X_test)\n",
        "print('Accuracy of KMeans is', np.round(accuracy_score(y_test, preds),3))"
      ],
      "metadata": {
        "id": "45JbUuTu7gNG",
        "outputId": "ad9bb49e-edb6-433a-d125-d951f1aab4b0",
        "colab": {
          "base_uri": "https://localhost:8080/"
        }
      },
      "execution_count": 107,
      "outputs": [
        {
          "output_type": "stream",
          "name": "stdout",
          "text": [
            "Accuracy of KMeans is 0.6\n"
          ]
        }
      ]
    },
    {
      "cell_type": "markdown",
      "source": [
        "This gives an accuracy of 0.75 for our binary classification model which actually isn't too bad for an initial model."
      ],
      "metadata": {
        "id": "GQTP7k_J8Jru"
      }
    },
    {
      "cell_type": "code",
      "source": [
        "import matplotlib.pyplot as plt\n",
        "import seaborn as sns\n",
        "from sklearn.metrics import confusion_matrix\n",
        "\n",
        "# Calculate the confusion matrix\n",
        "conf_matrix = confusion_matrix(y_test, preds)\n",
        "\n",
        "# Create a heatmap\n",
        "plt.figure(figsize=(8, 6))\n",
        "sns.heatmap(conf_matrix, annot=True, fmt='d', cmap='Blues', cbar=False)\n",
        "\n",
        "# Set axis labels and title\n",
        "plt.xlabel('Predicted Labels')\n",
        "plt.ylabel('True Labels')\n",
        "plt.title('Confusion Matrix')\n",
        "\n",
        "plt.show()\n"
      ],
      "metadata": {
        "id": "lcZNn-SD9ima",
        "outputId": "6c6ef484-334b-454a-9d1c-7a11c6a66a41",
        "colab": {
          "base_uri": "https://localhost:8080/",
          "height": 564
        }
      },
      "execution_count": 108,
      "outputs": [
        {
          "output_type": "display_data",
          "data": {
            "text/plain": [
              "<Figure size 800x600 with 1 Axes>"
            ],
            "image/png": "[encoded data removed]"
          },
          "metadata": {}
        }
      ]
    },
    {
      "cell_type": "markdown",
      "source": [
        "We can see that just from this trial it was pretty good at predicting normal catheters accurately but had a little trouble with false negatives, predicting an abnormal catheter when it should have beena normal one."
      ],
      "metadata": {
        "id": "NdNH6c7R93Cg"
      }
    },
    {
      "cell_type": "markdown",
      "source": [
        " ## Balancing the Data\n",
        "\n",
        " Data imbalances are solved using SMOTE"
      ],
      "metadata": {
        "id": "GDYZvLH0EVX5"
      }
    },
    {
      "cell_type": "markdown",
      "source": [
        "Create a baseline model from kMeans analysis\n",
        "so we have a benchmark for the performance and can investigate improvements after balancing the data"
      ],
      "metadata": {
        "id": "dCbdRg7gEdCr"
      }
    },
    {
      "cell_type": "code",
      "source": [
        "from sklearn.metrics import confusion_matrix\n",
        "tn, fp, fn, tp = confusion_matrix(y_test, preds).ravel()\n",
        "print('True negatives: ', tn, '\\nFalse positives: ', fp, '\\nFalse negatives: ', fn, '\\nTrue Positives: ', tp)"
      ],
      "metadata": {
        "id": "91js3yK8EsI6",
        "outputId": "c992625a-670f-48fa-b643-c0ba3e3e823d",
        "colab": {
          "base_uri": "https://localhost:8080/"
        }
      },
      "execution_count": 109,
      "outputs": [
        {
          "output_type": "stream",
          "name": "stdout",
          "text": [
            "True negatives:  0 \n",
            "False positives:  2 \n",
            "False negatives:  2 \n",
            "True Positives:  6\n"
          ]
        }
      ]
    },
    {
      "cell_type": "code",
      "source": [
        "from sklearn.metrics import classification_report\n",
        "print(classification_report(y_test, preds))"
      ],
      "metadata": {
        "id": "y6Rgtu44EueA",
        "outputId": "50af241e-a411-4379-dbd6-10b2f1af1650",
        "colab": {
          "base_uri": "https://localhost:8080/"
        }
      },
      "execution_count": 110,
      "outputs": [
        {
          "output_type": "stream",
          "name": "stdout",
          "text": [
            "              precision    recall  f1-score   support\n",
            "\n",
            "           0       0.00      0.00      0.00         2\n",
            "           1       0.75      0.75      0.75         8\n",
            "\n",
            "    accuracy                           0.60        10\n",
            "   macro avg       0.38      0.38      0.38        10\n",
            "weighted avg       0.60      0.60      0.60        10\n",
            "\n"
          ]
        }
      ]
    },
    {
      "cell_type": "markdown",
      "source": [
        "####CVC"
      ],
      "metadata": {
        "id": "1tMUFHzctEUe"
      }
    },
    {
      "cell_type": "code",
      "source": [
        "cvc_binary_test.dtypes"
      ],
      "metadata": {
        "id": "NJDMp15VtM6J",
        "outputId": "f3795e47-b4a1-4a94-b87b-243408001cae",
        "colab": {
          "base_uri": "https://localhost:8080/"
        }
      },
      "execution_count": 111,
      "outputs": [
        {
          "output_type": "execute_result",
          "data": {
            "text/plain": [
              "CVC - Normal         int64\n",
              "StudyInstanceUID    object\n",
              "image               object\n",
              "dtype: object"
            ]
          },
          "metadata": {},
          "execution_count": 111
        }
      ]
    },
    {
      "cell_type": "code",
      "source": [
        "cvc_binary_test"
      ],
      "metadata": {
        "id": "pDmYkiyFfdQL",
        "outputId": "d2b901a3-d708-495e-ebee-524eac160ebe",
        "colab": {
          "base_uri": "https://localhost:8080/",
          "height": 1000
        }
      },
      "execution_count": 112,
      "outputs": [
        {
          "output_type": "execute_result",
          "data": {
            "text/plain": [
              "       CVC - Normal                                   StudyInstanceUID  \\\n",
              "575               1  1.2.826.0.1.3680043.8.498.98868688063682029179...   \n",
              "737               1  1.2.826.0.1.3680043.8.498.98311970012797959433...   \n",
              "771               1  1.2.826.0.1.3680043.8.498.96954713473231855718...   \n",
              "907               1  1.2.826.0.1.3680043.8.498.98610781732941210925...   \n",
              "1370              1  1.2.826.0.1.3680043.8.498.97077295886695881642...   \n",
              "1470              1  1.2.826.0.1.3680043.8.498.97608411246349275250...   \n",
              "1499              1  1.2.826.0.1.3680043.8.498.98883008008926824052...   \n",
              "2400              0  1.2.826.0.1.3680043.8.498.97576992904366052571...   \n",
              "2564              1  1.2.826.0.1.3680043.8.498.97065141260424680232...   \n",
              "4491              1  1.2.826.0.1.3680043.8.498.96858232333572510807...   \n",
              "5543              0  1.2.826.0.1.3680043.8.498.96895365323267339296...   \n",
              "5695              0  1.2.826.0.1.3680043.8.498.98435666695295522312...   \n",
              "7207              1  1.2.826.0.1.3680043.8.498.98558983022949394279...   \n",
              "7286              1  1.2.826.0.1.3680043.8.498.98077286322774436813...   \n",
              "8153              1  1.2.826.0.1.3680043.8.498.97524915718275250689...   \n",
              "8234              1  1.2.826.0.1.3680043.8.498.97898517431692420201...   \n",
              "8609              1  1.2.826.0.1.3680043.8.498.97150346937242949223...   \n",
              "8993              1  1.2.826.0.1.3680043.8.498.96529642344304388196...   \n",
              "9225              1  1.2.826.0.1.3680043.8.498.97037739001229262220...   \n",
              "9382              0  1.2.826.0.1.3680043.8.498.98186254843132838914...   \n",
              "10409             1  1.2.826.0.1.3680043.8.498.97727438097783635523...   \n",
              "10807             0  1.2.826.0.1.3680043.8.498.97766505139916741913...   \n",
              "10817             1  1.2.826.0.1.3680043.8.498.98159704892843040428...   \n",
              "11095             1  1.2.826.0.1.3680043.8.498.97041516719310280357...   \n",
              "11525             1  1.2.826.0.1.3680043.8.498.97225589399184444901...   \n",
              "11978             1  1.2.826.0.1.3680043.8.498.97061174192533614934...   \n",
              "12213             1  1.2.826.0.1.3680043.8.498.97947840494210380959...   \n",
              "13288             1  1.2.826.0.1.3680043.8.498.97405033445018642994...   \n",
              "13305             1  1.2.826.0.1.3680043.8.498.97729703711227561224...   \n",
              "14182             0  1.2.826.0.1.3680043.8.498.97504631906553367784...   \n",
              "17431             1  1.2.826.0.1.3680043.8.498.98035745160816803407...   \n",
              "19060             1  1.2.826.0.1.3680043.8.498.98012569672647456302...   \n",
              "19222             1  1.2.826.0.1.3680043.8.498.96892858606134122459...   \n",
              "20412             1  1.2.826.0.1.3680043.8.498.96960778080759593235...   \n",
              "20871             1  1.2.826.0.1.3680043.8.498.96906339125407454825...   \n",
              "22271             0  1.2.826.0.1.3680043.8.498.97158197538682738714...   \n",
              "22901             1  1.2.826.0.1.3680043.8.498.98375351416107229669...   \n",
              "24567             1  1.2.826.0.1.3680043.8.498.97365645031862188566...   \n",
              "24726             1  1.2.826.0.1.3680043.8.498.96606516131401602113...   \n",
              "24787             1  1.2.826.0.1.3680043.8.498.97871720350127684041...   \n",
              "25056             1  1.2.826.0.1.3680043.8.498.97371730576501176992...   \n",
              "25440             1  1.2.826.0.1.3680043.8.498.97783106692805679352...   \n",
              "25442             1  1.2.826.0.1.3680043.8.498.98035219717001662651...   \n",
              "26444             0  1.2.826.0.1.3680043.8.498.98237908730527176292...   \n",
              "26543             1  1.2.826.0.1.3680043.8.498.98036018217486617932...   \n",
              "26601             0  1.2.826.0.1.3680043.8.498.98641156893101333738...   \n",
              "27006             1  1.2.826.0.1.3680043.8.498.98425772863244371226...   \n",
              "27256             1  1.2.826.0.1.3680043.8.498.97406518558932615981...   \n",
              "29412             1  1.2.826.0.1.3680043.8.498.97016154829711225153...   \n",
              "\n",
              "                                                   image  \n",
              "575    [[255, 255, 255, 255, 255, 255, 255, 255, 255,...  \n",
              "737    [[3, 5, 9, 11, 12, 11, 9, 7, 8, 8, 8, 8, 7, 7,...  \n",
              "771    [[1, 1, 1, 1, 1, 1, 1, 1, 2, 2, 2, 2, 2, 2, 2,...  \n",
              "907    [[2, 2, 2, 3, 3, 4, 4, 4, 3, 3, 3, 3, 3, 3, 3,...  \n",
              "1370   [[7, 7, 7, 7, 7, 7, 7, 7, 7, 7, 7, 7, 7, 7, 7,...  \n",
              "1470   [[4, 4, 4, 4, 4, 4, 4, 4, 4, 4, 4, 4, 4, 4, 4,...  \n",
              "1499   [[0, 0, 0, 0, 0, 0, 0, 0, 0, 0, 0, 0, 0, 0, 0,...  \n",
              "2400   [[0, 0, 0, 1, 1, 2, 2, 2, 1, 1, 1, 1, 1, 1, 1,...  \n",
              "2564   [[42, 41, 59, 77, 74, 70, 73, 74, 80, 78, 73, ...  \n",
              "4491   [[0, 0, 0, 0, 0, 0, 0, 0, 0, 0, 0, 0, 0, 0, 0,...  \n",
              "5543   [[0, 0, 0, 1, 1, 2, 2, 2, 2, 2, 2, 2, 2, 2, 2,...  \n",
              "5695   [[17, 21, 30, 40, 42, 37, 35, 36, 34, 34, 34, ...  \n",
              "7207   [[2, 3, 4, 4, 5, 5, 4, 4, 4, 4, 5, 6, 6, 5, 4,...  \n",
              "7286   [[0, 0, 0, 0, 0, 0, 0, 0, 0, 0, 0, 0, 0, 0, 0,...  \n",
              "8153   [[198, 199, 199, 200, 200, 199, 199, 198, 198,...  \n",
              "8234   [[42, 44, 62, 77, 75, 73, 77, 74, 75, 74, 73, ...  \n",
              "8609   [[4, 5, 6, 6, 7, 7, 6, 6, 5, 5, 5, 5, 5, 5, 5,...  \n",
              "8993   [[1, 1, 1, 1, 1, 1, 1, 1, 1, 1, 1, 1, 1, 1, 1,...  \n",
              "9225   [[2, 2, 2, 2, 2, 2, 2, 2, 2, 2, 2, 1, 1, 0, 0,...  \n",
              "9382   [[0, 1, 39, 77, 114, 145, 164, 195, 188, 187, ...  \n",
              "10409  [[18, 22, 31, 40, 41, 35, 32, 33, 33, 33, 32, ...  \n",
              "10807  [[0, 0, 0, 0, 0, 0, 0, 0, 0, 0, 0, 0, 0, 0, 0,...  \n",
              "10817  [[2, 2, 2, 2, 2, 2, 2, 2, 2, 2, 2, 2, 2, 2, 2,...  \n",
              "11095  [[1, 1, 1, 2, 2, 3, 3, 3, 2, 2, 2, 2, 2, 2, 2,...  \n",
              "11525  [[81, 82, 89, 92, 74, 42, 21, 17, 11, 9, 7, 7,...  \n",
              "11978  [[61, 67, 93, 117, 116, 109, 110, 109, 109, 11...  \n",
              "12213  [[55, 59, 83, 104, 100, 93, 93, 93, 100, 98, 9...  \n",
              "13288  [[3, 5, 8, 10, 11, 11, 10, 9, 10, 10, 10, 10, ...  \n",
              "13305  [[2, 2, 3, 3, 4, 5, 6, 6, 5, 5, 5, 5, 5, 5, 5,...  \n",
              "14182  [[255, 255, 255, 255, 255, 255, 255, 255, 255,...  \n",
              "17431  [[250, 249, 247, 246, 245, 246, 247, 248, 251,...  \n",
              "19060  [[237, 238, 240, 242, 243, 243, 243, 242, 239,...  \n",
              "19222  [[9, 11, 14, 16, 17, 17, 16, 15, 14, 14, 14, 1...  \n",
              "20412  [[200, 200, 200, 200, 200, 200, 200, 201, 201,...  \n",
              "20871  [[1, 1, 1, 1, 1, 1, 1, 1, 1, 1, 1, 1, 1, 1, 1,...  \n",
              "22271  [[2, 3, 4, 5, 6, 6, 6, 6, 5, 5, 5, 5, 5, 5, 5,...  \n",
              "22901  [[1, 1, 1, 1, 1, 1, 1, 1, 1, 1, 1, 1, 1, 1, 1,...  \n",
              "24567  [[4, 4, 4, 4, 4, 4, 4, 4, 4, 4, 4, 4, 4, 4, 4,...  \n",
              "24726  [[0, 0, 0, 1, 2, 3, 4, 5, 5, 5, 5, 5, 5, 5, 5,...  \n",
              "24787  [[161, 161, 161, 160, 159, 158, 157, 156, 153,...  \n",
              "25056  [[1, 1, 1, 1, 1, 1, 1, 1, 1, 1, 1, 1, 1, 1, 1,...  \n",
              "25440  [[3, 2, 6, 16, 22, 23, 24, 26, 24, 24, 25, 25,...  \n",
              "25442  [[15, 18, 26, 34, 35, 30, 27, 29, 29, 29, 30, ...  \n",
              "26444  [[2, 2, 2, 3, 3, 4, 4, 4, 3, 3, 3, 3, 3, 3, 3,...  \n",
              "26543  [[114, 114, 113, 113, 113, 113, 112, 112, 115,...  \n",
              "26601  [[2, 2, 2, 3, 3, 4, 4, 4, 2, 2, 2, 2, 2, 2, 2,...  \n",
              "27006  [[52, 50, 46, 39, 31, 22, 15, 11, 11, 12, 12, ...  \n",
              "27256  [[221, 220, 219, 218, 216, 215, 214, 214, 210,...  \n",
              "29412  [[57, 60, 84, 105, 102, 96, 98, 98, 100, 100, ...  "
            ],
            "text/html": [
              "\n",
              "  <div id=\"df-cdb156c6-11f3-4b8b-bf4c-d8f61643ad7b\" class=\"colab-df-container\">\n",
              "    <div>\n",
              "<style scoped>\n",
              "    .dataframe tbody tr th:only-of-type {\n",
              "        vertical-align: middle;\n",
              "    }\n",
              "\n",
              "    .dataframe tbody tr th {\n",
              "        vertical-align: top;\n",
              "    }\n",
              "\n",
              "    .dataframe thead th {\n",
              "        text-align: right;\n",
              "    }\n",
              "</style>\n",
              "<table border=\"1\" class=\"dataframe\">\n",
              "  <thead>\n",
              "    <tr style=\"text-align: right;\">\n",
              "      <th></th>\n",
              "      <th>CVC - Normal</th>\n",
              "      <th>StudyInstanceUID</th>\n",
              "      <th>image</th>\n",
              "    </tr>\n",
              "  </thead>\n",
              "  <tbody>\n",
              "    <tr>\n",
              "      <th>575</th>\n",
              "      <td>1</td>\n",
              "      <td>1.2.826.0.1.3680043.8.498.98868688063682029179...</td>\n",
              "      <td>[[255, 255, 255, 255, 255, 255, 255, 255, 255,...</td>\n",
              "    </tr>\n",
              "    <tr>\n",
              "      <th>737</th>\n",
              "      <td>1</td>\n",
              "      <td>1.2.826.0.1.3680043.8.498.98311970012797959433...</td>\n",
              "      <td>[[3, 5, 9, 11, 12, 11, 9, 7, 8, 8, 8, 8, 7, 7,...</td>\n",
              "    </tr>\n",
              "    <tr>\n",
              "      <th>771</th>\n",
              "      <td>1</td>\n",
              "      <td>1.2.826.0.1.3680043.8.498.96954713473231855718...</td>\n",
              "      <td>[[1, 1, 1, 1, 1, 1, 1, 1, 2, 2, 2, 2, 2, 2, 2,...</td>\n",
              "    </tr>\n",
              "    <tr>\n",
              "      <th>907</th>\n",
              "      <td>1</td>\n",
              "      <td>1.2.826.0.1.3680043.8.498.98610781732941210925...</td>\n",
              "      <td>[[2, 2, 2, 3, 3, 4, 4, 4, 3, 3, 3, 3, 3, 3, 3,...</td>\n",
              "    </tr>\n",
              "    <tr>\n",
              "      <th>1370</th>\n",
              "      <td>1</td>\n",
              "      <td>1.2.826.0.1.3680043.8.498.97077295886695881642...</td>\n",
              "      <td>[[7, 7, 7, 7, 7, 7, 7, 7, 7, 7, 7, 7, 7, 7, 7,...</td>\n",
              "    </tr>\n",
              "    <tr>\n",
              "      <th>1470</th>\n",
              "      <td>1</td>\n",
              "      <td>1.2.826.0.1.3680043.8.498.97608411246349275250...</td>\n",
              "      <td>[[4, 4, 4, 4, 4, 4, 4, 4, 4, 4, 4, 4, 4, 4, 4,...</td>\n",
              "    </tr>\n",
              "    <tr>\n",
              "      <th>1499</th>\n",
              "      <td>1</td>\n",
              "      <td>1.2.826.0.1.3680043.8.498.98883008008926824052...</td>\n",
              "      <td>[[0, 0, 0, 0, 0, 0, 0, 0, 0, 0, 0, 0, 0, 0, 0,...</td>\n",
              "    </tr>\n",
              "    <tr>\n",
              "      <th>2400</th>\n",
              "      <td>0</td>\n",
              "      <td>1.2.826.0.1.3680043.8.498.97576992904366052571...</td>\n",
              "      <td>[[0, 0, 0, 1, 1, 2, 2, 2, 1, 1, 1, 1, 1, 1, 1,...</td>\n",
              "    </tr>\n",
              "    <tr>\n",
              "      <th>2564</th>\n",
              "      <td>1</td>\n",
              "      <td>1.2.826.0.1.3680043.8.498.97065141260424680232...</td>\n",
              "      <td>[[42, 41, 59, 77, 74, 70, 73, 74, 80, 78, 73, ...</td>\n",
              "    </tr>\n",
              "    <tr>\n",
              "      <th>4491</th>\n",
              "      <td>1</td>\n",
              "      <td>1.2.826.0.1.3680043.8.498.96858232333572510807...</td>\n",
              "      <td>[[0, 0, 0, 0, 0, 0, 0, 0, 0, 0, 0, 0, 0, 0, 0,...</td>\n",
              "    </tr>\n",
              "    <tr>\n",
              "      <th>5543</th>\n",
              "      <td>0</td>\n",
              "      <td>1.2.826.0.1.3680043.8.498.96895365323267339296...</td>\n",
              "      <td>[[0, 0, 0, 1, 1, 2, 2, 2, 2, 2, 2, 2, 2, 2, 2,...</td>\n",
              "    </tr>\n",
              "    <tr>\n",
              "      <th>5695</th>\n",
              "      <td>0</td>\n",
              "      <td>1.2.826.0.1.3680043.8.498.98435666695295522312...</td>\n",
              "      <td>[[17, 21, 30, 40, 42, 37, 35, 36, 34, 34, 34, ...</td>\n",
              "    </tr>\n",
              "    <tr>\n",
              "      <th>7207</th>\n",
              "      <td>1</td>\n",
              "      <td>1.2.826.0.1.3680043.8.498.98558983022949394279...</td>\n",
              "      <td>[[2, 3, 4, 4, 5, 5, 4, 4, 4, 4, 5, 6, 6, 5, 4,...</td>\n",
              "    </tr>\n",
              "    <tr>\n",
              "      <th>7286</th>\n",
              "      <td>1</td>\n",
              "      <td>1.2.826.0.1.3680043.8.498.98077286322774436813...</td>\n",
              "      <td>[[0, 0, 0, 0, 0, 0, 0, 0, 0, 0, 0, 0, 0, 0, 0,...</td>\n",
              "    </tr>\n",
              "    <tr>\n",
              "      <th>8153</th>\n",
              "      <td>1</td>\n",
              "      <td>1.2.826.0.1.3680043.8.498.97524915718275250689...</td>\n",
              "      <td>[[198, 199, 199, 200, 200, 199, 199, 198, 198,...</td>\n",
              "    </tr>\n",
              "    <tr>\n",
              "      <th>8234</th>\n",
              "      <td>1</td>\n",
              "      <td>1.2.826.0.1.3680043.8.498.97898517431692420201...</td>\n",
              "      <td>[[42, 44, 62, 77, 75, 73, 77, 74, 75, 74, 73, ...</td>\n",
              "    </tr>\n",
              "    <tr>\n",
              "      <th>8609</th>\n",
              "      <td>1</td>\n",
              "      <td>1.2.826.0.1.3680043.8.498.97150346937242949223...</td>\n",
              "      <td>[[4, 5, 6, 6, 7, 7, 6, 6, 5, 5, 5, 5, 5, 5, 5,...</td>\n",
              "    </tr>\n",
              "    <tr>\n",
              "      <th>8993</th>\n",
              "      <td>1</td>\n",
              "      <td>1.2.826.0.1.3680043.8.498.96529642344304388196...</td>\n",
              "      <td>[[1, 1, 1, 1, 1, 1, 1, 1, 1, 1, 1, 1, 1, 1, 1,...</td>\n",
              "    </tr>\n",
              "    <tr>\n",
              "      <th>9225</th>\n",
              "      <td>1</td>\n",
              "      <td>1.2.826.0.1.3680043.8.498.97037739001229262220...</td>\n",
              "      <td>[[2, 2, 2, 2, 2, 2, 2, 2, 2, 2, 2, 1, 1, 0, 0,...</td>\n",
              "    </tr>\n",
              "    <tr>\n",
              "      <th>9382</th>\n",
              "      <td>0</td>\n",
              "      <td>1.2.826.0.1.3680043.8.498.98186254843132838914...</td>\n",
              "      <td>[[0, 1, 39, 77, 114, 145, 164, 195, 188, 187, ...</td>\n",
              "    </tr>\n",
              "    <tr>\n",
              "      <th>10409</th>\n",
              "      <td>1</td>\n",
              "      <td>1.2.826.0.1.3680043.8.498.97727438097783635523...</td>\n",
              "      <td>[[18, 22, 31, 40, 41, 35, 32, 33, 33, 33, 32, ...</td>\n",
              "    </tr>\n",
              "    <tr>\n",
              "      <th>10807</th>\n",
              "      <td>0</td>\n",
              "      <td>1.2.826.0.1.3680043.8.498.97766505139916741913...</td>\n",
              "      <td>[[0, 0, 0, 0, 0, 0, 0, 0, 0, 0, 0, 0, 0, 0, 0,...</td>\n",
              "    </tr>\n",
              "    <tr>\n",
              "      <th>10817</th>\n",
              "      <td>1</td>\n",
              "      <td>1.2.826.0.1.3680043.8.498.98159704892843040428...</td>\n",
              "      <td>[[2, 2, 2, 2, 2, 2, 2, 2, 2, 2, 2, 2, 2, 2, 2,...</td>\n",
              "    </tr>\n",
              "    <tr>\n",
              "      <th>11095</th>\n",
              "      <td>1</td>\n",
              "      <td>1.2.826.0.1.3680043.8.498.97041516719310280357...</td>\n",
              "      <td>[[1, 1, 1, 2, 2, 3, 3, 3, 2, 2, 2, 2, 2, 2, 2,...</td>\n",
              "    </tr>\n",
              "    <tr>\n",
              "      <th>11525</th>\n",
              "      <td>1</td>\n",
              "      <td>1.2.826.0.1.3680043.8.498.97225589399184444901...</td>\n",
              "      <td>[[81, 82, 89, 92, 74, 42, 21, 17, 11, 9, 7, 7,...</td>\n",
              "    </tr>\n",
              "    <tr>\n",
              "      <th>11978</th>\n",
              "      <td>1</td>\n",
              "      <td>1.2.826.0.1.3680043.8.498.97061174192533614934...</td>\n",
              "      <td>[[61, 67, 93, 117, 116, 109, 110, 109, 109, 11...</td>\n",
              "    </tr>\n",
              "    <tr>\n",
              "      <th>12213</th>\n",
              "      <td>1</td>\n",
              "      <td>1.2.826.0.1.3680043.8.498.97947840494210380959...</td>\n",
              "      <td>[[55, 59, 83, 104, 100, 93, 93, 93, 100, 98, 9...</td>\n",
              "    </tr>\n",
              "    <tr>\n",
              "      <th>13288</th>\n",
              "      <td>1</td>\n",
              "      <td>1.2.826.0.1.3680043.8.498.97405033445018642994...</td>\n",
              "      <td>[[3, 5, 8, 10, 11, 11, 10, 9, 10, 10, 10, 10, ...</td>\n",
              "    </tr>\n",
              "    <tr>\n",
              "      <th>13305</th>\n",
              "      <td>1</td>\n",
              "      <td>1.2.826.0.1.3680043.8.498.97729703711227561224...</td>\n",
              "      <td>[[2, 2, 3, 3, 4, 5, 6, 6, 5, 5, 5, 5, 5, 5, 5,...</td>\n",
              "    </tr>\n",
              "    <tr>\n",
              "      <th>14182</th>\n",
              "      <td>0</td>\n",
              "      <td>1.2.826.0.1.3680043.8.498.97504631906553367784...</td>\n",
              "      <td>[[255, 255, 255, 255, 255, 255, 255, 255, 255,...</td>\n",
              "    </tr>\n",
              "    <tr>\n",
              "      <th>17431</th>\n",
              "      <td>1</td>\n",
              "      <td>1.2.826.0.1.3680043.8.498.98035745160816803407...</td>\n",
              "      <td>[[250, 249, 247, 246, 245, 246, 247, 248, 251,...</td>\n",
              "    </tr>\n",
              "    <tr>\n",
              "      <th>19060</th>\n",
              "      <td>1</td>\n",
              "      <td>1.2.826.0.1.3680043.8.498.98012569672647456302...</td>\n",
              "      <td>[[237, 238, 240, 242, 243, 243, 243, 242, 239,...</td>\n",
              "    </tr>\n",
              "    <tr>\n",
              "      <th>19222</th>\n",
              "      <td>1</td>\n",
              "      <td>1.2.826.0.1.3680043.8.498.96892858606134122459...</td>\n",
              "      <td>[[9, 11, 14, 16, 17, 17, 16, 15, 14, 14, 14, 1...</td>\n",
              "    </tr>\n",
              "    <tr>\n",
              "      <th>20412</th>\n",
              "      <td>1</td>\n",
              "      <td>1.2.826.0.1.3680043.8.498.96960778080759593235...</td>\n",
              "      <td>[[200, 200, 200, 200, 200, 200, 200, 201, 201,...</td>\n",
              "    </tr>\n",
              "    <tr>\n",
              "      <th>20871</th>\n",
              "      <td>1</td>\n",
              "      <td>1.2.826.0.1.3680043.8.498.96906339125407454825...</td>\n",
              "      <td>[[1, 1, 1, 1, 1, 1, 1, 1, 1, 1, 1, 1, 1, 1, 1,...</td>\n",
              "    </tr>\n",
              "    <tr>\n",
              "      <th>22271</th>\n",
              "      <td>0</td>\n",
              "      <td>1.2.826.0.1.3680043.8.498.97158197538682738714...</td>\n",
              "      <td>[[2, 3, 4, 5, 6, 6, 6, 6, 5, 5, 5, 5, 5, 5, 5,...</td>\n",
              "    </tr>\n",
              "    <tr>\n",
              "      <th>22901</th>\n",
              "      <td>1</td>\n",
              "      <td>1.2.826.0.1.3680043.8.498.98375351416107229669...</td>\n",
              "      <td>[[1, 1, 1, 1, 1, 1, 1, 1, 1, 1, 1, 1, 1, 1, 1,...</td>\n",
              "    </tr>\n",
              "    <tr>\n",
              "      <th>24567</th>\n",
              "      <td>1</td>\n",
              "      <td>1.2.826.0.1.3680043.8.498.97365645031862188566...</td>\n",
              "      <td>[[4, 4, 4, 4, 4, 4, 4, 4, 4, 4, 4, 4, 4, 4, 4,...</td>\n",
              "    </tr>\n",
              "    <tr>\n",
              "      <th>24726</th>\n",
              "      <td>1</td>\n",
              "      <td>1.2.826.0.1.3680043.8.498.96606516131401602113...</td>\n",
              "      <td>[[0, 0, 0, 1, 2, 3, 4, 5, 5, 5, 5, 5, 5, 5, 5,...</td>\n",
              "    </tr>\n",
              "    <tr>\n",
              "      <th>24787</th>\n",
              "      <td>1</td>\n",
              "      <td>1.2.826.0.1.3680043.8.498.97871720350127684041...</td>\n",
              "      <td>[[161, 161, 161, 160, 159, 158, 157, 156, 153,...</td>\n",
              "    </tr>\n",
              "    <tr>\n",
              "      <th>25056</th>\n",
              "      <td>1</td>\n",
              "      <td>1.2.826.0.1.3680043.8.498.97371730576501176992...</td>\n",
              "      <td>[[1, 1, 1, 1, 1, 1, 1, 1, 1, 1, 1, 1, 1, 1, 1,...</td>\n",
              "    </tr>\n",
              "    <tr>\n",
              "      <th>25440</th>\n",
              "      <td>1</td>\n",
              "      <td>1.2.826.0.1.3680043.8.498.97783106692805679352...</td>\n",
              "      <td>[[3, 2, 6, 16, 22, 23, 24, 26, 24, 24, 25, 25,...</td>\n",
              "    </tr>\n",
              "    <tr>\n",
              "      <th>25442</th>\n",
              "      <td>1</td>\n",
              "      <td>1.2.826.0.1.3680043.8.498.98035219717001662651...</td>\n",
              "      <td>[[15, 18, 26, 34, 35, 30, 27, 29, 29, 29, 30, ...</td>\n",
              "    </tr>\n",
              "    <tr>\n",
              "      <th>26444</th>\n",
              "      <td>0</td>\n",
              "      <td>1.2.826.0.1.3680043.8.498.98237908730527176292...</td>\n",
              "      <td>[[2, 2, 2, 3, 3, 4, 4, 4, 3, 3, 3, 3, 3, 3, 3,...</td>\n",
              "    </tr>\n",
              "    <tr>\n",
              "      <th>26543</th>\n",
              "      <td>1</td>\n",
              "      <td>1.2.826.0.1.3680043.8.498.98036018217486617932...</td>\n",
              "      <td>[[114, 114, 113, 113, 113, 113, 112, 112, 115,...</td>\n",
              "    </tr>\n",
              "    <tr>\n",
              "      <th>26601</th>\n",
              "      <td>0</td>\n",
              "      <td>1.2.826.0.1.3680043.8.498.98641156893101333738...</td>\n",
              "      <td>[[2, 2, 2, 3, 3, 4, 4, 4, 2, 2, 2, 2, 2, 2, 2,...</td>\n",
              "    </tr>\n",
              "    <tr>\n",
              "      <th>27006</th>\n",
              "      <td>1</td>\n",
              "      <td>1.2.826.0.1.3680043.8.498.98425772863244371226...</td>\n",
              "      <td>[[52, 50, 46, 39, 31, 22, 15, 11, 11, 12, 12, ...</td>\n",
              "    </tr>\n",
              "    <tr>\n",
              "      <th>27256</th>\n",
              "      <td>1</td>\n",
              "      <td>1.2.826.0.1.3680043.8.498.97406518558932615981...</td>\n",
              "      <td>[[221, 220, 219, 218, 216, 215, 214, 214, 210,...</td>\n",
              "    </tr>\n",
              "    <tr>\n",
              "      <th>29412</th>\n",
              "      <td>1</td>\n",
              "      <td>1.2.826.0.1.3680043.8.498.97016154829711225153...</td>\n",
              "      <td>[[57, 60, 84, 105, 102, 96, 98, 98, 100, 100, ...</td>\n",
              "    </tr>\n",
              "  </tbody>\n",
              "</table>\n",
              "</div>\n",
              "    <div class=\"colab-df-buttons\">\n",
              "\n",
              "  <div class=\"colab-df-container\">\n",
              "    <button class=\"colab-df-convert\" onclick=\"convertToInteractive('df-cdb156c6-11f3-4b8b-bf4c-d8f61643ad7b')\"\n",
              "            title=\"Convert this dataframe to an interactive table.\"\n",
              "            style=\"display:none;\">\n",
              "\n",
              "  <svg xmlns=\"http://www.w3.org/2000/svg\" height=\"24px\" viewBox=\"0 -960 960 960\">\n",
              "    <path d=\"M120-120v-720h720v720H120Zm60-500h600v-160H180v160Zm220 220h160v-160H400v160Zm0 220h160v-160H400v160ZM180-400h160v-160H180v160Zm440 0h160v-160H620v160ZM180-180h160v-160H180v160Zm440 0h160v-160H620v160Z\"/>\n",
              "  </svg>\n",
              "    </button>\n",
              "\n",
              "  <style>\n",
              "    .colab-df-container {\n",
              "      display:flex;\n",
              "      gap: 12px;\n",
              "    }\n",
              "\n",
              "    .colab-df-convert {\n",
              "      background-color: #E8F0FE;\n",
              "      border: none;\n",
              "      border-radius: 50%;\n",
              "      cursor: pointer;\n",
              "      display: none;\n",
              "      fill: #1967D2;\n",
              "      height: 32px;\n",
              "      padding: 0 0 0 0;\n",
              "      width: 32px;\n",
              "    }\n",
              "\n",
              "    .colab-df-convert:hover {\n",
              "      background-color: #E2EBFA;\n",
              "      box-shadow: 0px 1px 2px rgba(60, 64, 67, 0.3), 0px 1px 3px 1px rgba(60, 64, 67, 0.15);\n",
              "      fill: #174EA6;\n",
              "    }\n",
              "\n",
              "    .colab-df-buttons div {\n",
              "      margin-bottom: 4px;\n",
              "    }\n",
              "\n",
              "    [theme=dark] .colab-df-convert {\n",
              "      background-color: #3B4455;\n",
              "      fill: #D2E3FC;\n",
              "    }\n",
              "\n",
              "    [theme=dark] .colab-df-convert:hover {\n",
              "      background-color: #434B5C;\n",
              "      box-shadow: 0px 1px 3px 1px rgba(0, 0, 0, 0.15);\n",
              "      filter: drop-shadow(0px 1px 2px rgba(0, 0, 0, 0.3));\n",
              "      fill: #FFFFFF;\n",
              "    }\n",
              "  </style>\n",
              "\n",
              "    <script>\n",
              "      const buttonEl =\n",
              "        document.querySelector('#df-cdb156c6-11f3-4b8b-bf4c-d8f61643ad7b button.colab-df-convert');\n",
              "      buttonEl.style.display =\n",
              "        google.colab.kernel.accessAllowed ? 'block' : 'none';\n",
              "\n",
              "      async function convertToInteractive(key) {\n",
              "        const element = document.querySelector('#df-cdb156c6-11f3-4b8b-bf4c-d8f61643ad7b');\n",
              "        const dataTable =\n",
              "          await google.colab.kernel.invokeFunction('convertToInteractive',\n",
              "                                                    [key], {});\n",
              "        if (!dataTable) return;\n",
              "\n",
              "        const docLinkHtml = 'Like what you see? Visit the ' +\n",
              "          '<a target=\"_blank\" href=https://colab.research.google.com/notebooks/data_table.ipynb>data table notebook</a>'\n",
              "          + ' to learn more about interactive tables.';\n",
              "        element.innerHTML = '';\n",
              "        dataTable['output_type'] = 'display_data';\n",
              "        await google.colab.output.renderOutput(dataTable, element);\n",
              "        const docLink = document.createElement('div');\n",
              "        docLink.innerHTML = docLinkHtml;\n",
              "        element.appendChild(docLink);\n",
              "      }\n",
              "    </script>\n",
              "  </div>\n",
              "\n",
              "\n",
              "<div id=\"df-f42c412e-6f45-47b3-ba09-a3c6a74eb0c5\">\n",
              "  <button class=\"colab-df-quickchart\" onclick=\"quickchart('df-f42c412e-6f45-47b3-ba09-a3c6a74eb0c5')\"\n",
              "            title=\"Suggest charts.\"\n",
              "            style=\"display:none;\">\n",
              "\n",
              "<svg xmlns=\"http://www.w3.org/2000/svg\" height=\"24px\"viewBox=\"0 0 24 24\"\n",
              "     width=\"24px\">\n",
              "    <g>\n",
              "        <path d=\"M19 3H5c-1.1 0-2 .9-2 2v14c0 1.1.9 2 2 2h14c1.1 0 2-.9 2-2V5c0-1.1-.9-2-2-2zM9 17H7v-7h2v7zm4 0h-2V7h2v10zm4 0h-2v-4h2v4z\"/>\n",
              "    </g>\n",
              "</svg>\n",
              "  </button>\n",
              "\n",
              "<style>\n",
              "  .colab-df-quickchart {\n",
              "      --bg-color: #E8F0FE;\n",
              "      --fill-color: #1967D2;\n",
              "      --hover-bg-color: #E2EBFA;\n",
              "      --hover-fill-color: #174EA6;\n",
              "      --disabled-fill-color: #AAA;\n",
              "      --disabled-bg-color: #DDD;\n",
              "  }\n",
              "\n",
              "  [theme=dark] .colab-df-quickchart {\n",
              "      --bg-color: #3B4455;\n",
              "      --fill-color: #D2E3FC;\n",
              "      --hover-bg-color: #434B5C;\n",
              "      --hover-fill-color: #FFFFFF;\n",
              "      --disabled-bg-color: #3B4455;\n",
              "      --disabled-fill-color: #666;\n",
              "  }\n",
              "\n",
              "  .colab-df-quickchart {\n",
              "    background-color: var(--bg-color);\n",
              "    border: none;\n",
              "    border-radius: 50%;\n",
              "    cursor: pointer;\n",
              "    display: none;\n",
              "    fill: var(--fill-color);\n",
              "    height: 32px;\n",
              "    padding: 0;\n",
              "    width: 32px;\n",
              "  }\n",
              "\n",
              "  .colab-df-quickchart:hover {\n",
              "    background-color: var(--hover-bg-color);\n",
              "    box-shadow: 0 1px 2px rgba(60, 64, 67, 0.3), 0 1px 3px 1px rgba(60, 64, 67, 0.15);\n",
              "    fill: var(--button-hover-fill-color);\n",
              "  }\n",
              "\n",
              "  .colab-df-quickchart-complete:disabled,\n",
              "  .colab-df-quickchart-complete:disabled:hover {\n",
              "    background-color: var(--disabled-bg-color);\n",
              "    fill: var(--disabled-fill-color);\n",
              "    box-shadow: none;\n",
              "  }\n",
              "\n",
              "  .colab-df-spinner {\n",
              "    border: 2px solid var(--fill-color);\n",
              "    border-color: transparent;\n",
              "    border-bottom-color: var(--fill-color);\n",
              "    animation:\n",
              "      spin 1s steps(1) infinite;\n",
              "  }\n",
              "\n",
              "  @keyframes spin {\n",
              "    0% {\n",
              "      border-color: transparent;\n",
              "      border-bottom-color: var(--fill-color);\n",
              "      border-left-color: var(--fill-color);\n",
              "    }\n",
              "    20% {\n",
              "      border-color: transparent;\n",
              "      border-left-color: var(--fill-color);\n",
              "      border-top-color: var(--fill-color);\n",
              "    }\n",
              "    30% {\n",
              "      border-color: transparent;\n",
              "      border-left-color: var(--fill-color);\n",
              "      border-top-color: var(--fill-color);\n",
              "      border-right-color: var(--fill-color);\n",
              "    }\n",
              "    40% {\n",
              "      border-color: transparent;\n",
              "      border-right-color: var(--fill-color);\n",
              "      border-top-color: var(--fill-color);\n",
              "    }\n",
              "    60% {\n",
              "      border-color: transparent;\n",
              "      border-right-color: var(--fill-color);\n",
              "    }\n",
              "    80% {\n",
              "      border-color: transparent;\n",
              "      border-right-color: var(--fill-color);\n",
              "      border-bottom-color: var(--fill-color);\n",
              "    }\n",
              "    90% {\n",
              "      border-color: transparent;\n",
              "      border-bottom-color: var(--fill-color);\n",
              "    }\n",
              "  }\n",
              "</style>\n",
              "\n",
              "  <script>\n",
              "    async function quickchart(key) {\n",
              "      const quickchartButtonEl =\n",
              "        document.querySelector('#' + key + ' button');\n",
              "      quickchartButtonEl.disabled = true;  // To prevent multiple clicks.\n",
              "      quickchartButtonEl.classList.add('colab-df-spinner');\n",
              "      try {\n",
              "        const charts = await google.colab.kernel.invokeFunction(\n",
              "            'suggestCharts', [key], {});\n",
              "      } catch (error) {\n",
              "        console.error('Error during call to suggestCharts:', error);\n",
              "      }\n",
              "      quickchartButtonEl.classList.remove('colab-df-spinner');\n",
              "      quickchartButtonEl.classList.add('colab-df-quickchart-complete');\n",
              "    }\n",
              "    (() => {\n",
              "      let quickchartButtonEl =\n",
              "        document.querySelector('#df-f42c412e-6f45-47b3-ba09-a3c6a74eb0c5 button');\n",
              "      quickchartButtonEl.style.display =\n",
              "        google.colab.kernel.accessAllowed ? 'block' : 'none';\n",
              "    })();\n",
              "  </script>\n",
              "</div>\n",
              "    </div>\n",
              "  </div>\n"
            ]
          },
          "metadata": {},
          "execution_count": 112
        }
      ]
    },
    {
      "cell_type": "code",
      "source": [
        "shapes = []\n",
        "for i in range(cvc_binary_test.shape[0]):\n",
        "  shapes.append(cvc_binary_test.iloc[i].iat[2].shape)\n",
        "\n",
        "min(shapes)"
      ],
      "metadata": {
        "id": "149F-XtFtVY1",
        "outputId": "91dd611b-2ab0-4103-a675-35f8b2815fa6",
        "colab": {
          "base_uri": "https://localhost:8080/"
        }
      },
      "execution_count": 113,
      "outputs": [
        {
          "output_type": "execute_result",
          "data": {
            "text/plain": [
              "(2048, 2500)"
            ]
          },
          "metadata": {},
          "execution_count": 113
        }
      ]
    },
    {
      "cell_type": "code",
      "source": [
        "new_cvc_binary = cvc_binary_test.copy()\n",
        "new_cvc_binary['image'] = new_cvc_binary['image'].apply(lambda x: cv2.resize(x, (2048, 2500)))"
      ],
      "metadata": {
        "id": "BgPgIcjZtaOf"
      },
      "execution_count": 114,
      "outputs": []
    },
    {
      "cell_type": "code",
      "source": [
        "for i in range(cvc_binary_test.shape[0]):\n",
        "  print(new_cvc_binary.iloc[i].iat[2].shape)"
      ],
      "metadata": {
        "id": "jDdXP5FQteyy",
        "outputId": "bbf880ce-d83a-44fd-acd9-721a08a0da17",
        "colab": {
          "base_uri": "https://localhost:8080/"
        }
      },
      "execution_count": 115,
      "outputs": [
        {
          "output_type": "stream",
          "name": "stdout",
          "text": [
            "(2500, 2048)\n",
            "(2500, 2048)\n",
            "(2500, 2048)\n",
            "(2500, 2048)\n",
            "(2500, 2048)\n",
            "(2500, 2048)\n",
            "(2500, 2048)\n",
            "(2500, 2048)\n",
            "(2500, 2048)\n",
            "(2500, 2048)\n",
            "(2500, 2048)\n",
            "(2500, 2048)\n",
            "(2500, 2048)\n",
            "(2500, 2048)\n",
            "(2500, 2048)\n",
            "(2500, 2048)\n",
            "(2500, 2048)\n",
            "(2500, 2048)\n",
            "(2500, 2048)\n",
            "(2500, 2048)\n",
            "(2500, 2048)\n",
            "(2500, 2048)\n",
            "(2500, 2048)\n",
            "(2500, 2048)\n",
            "(2500, 2048)\n",
            "(2500, 2048)\n",
            "(2500, 2048)\n",
            "(2500, 2048)\n",
            "(2500, 2048)\n",
            "(2500, 2048)\n",
            "(2500, 2048)\n",
            "(2500, 2048)\n",
            "(2500, 2048)\n",
            "(2500, 2048)\n",
            "(2500, 2048)\n",
            "(2500, 2048)\n",
            "(2500, 2048)\n",
            "(2500, 2048)\n",
            "(2500, 2048)\n",
            "(2500, 2048)\n",
            "(2500, 2048)\n",
            "(2500, 2048)\n",
            "(2500, 2048)\n",
            "(2500, 2048)\n",
            "(2500, 2048)\n",
            "(2500, 2048)\n",
            "(2500, 2048)\n",
            "(2500, 2048)\n",
            "(2500, 2048)\n"
          ]
        }
      ]
    },
    {
      "cell_type": "code",
      "source": [
        "flat_copy_cvc = new_cvc_binary.copy()\n",
        "flat_copy_cvc['image'] = flat_copy_cvc['image'].apply(lambda x: np.array(x).flatten())"
      ],
      "metadata": {
        "id": "jwVgAp73tiJa"
      },
      "execution_count": 116,
      "outputs": []
    },
    {
      "cell_type": "code",
      "source": [
        "X_cvc = np.stack(flat_copy_cvc['image'].values)\n",
        "Y_cvc = flat_copy_cvc['CVC - Normal']"
      ],
      "metadata": {
        "id": "3XsAU5i2toqN"
      },
      "execution_count": 117,
      "outputs": []
    },
    {
      "cell_type": "code",
      "source": [
        "# Split the dataset into training and testing sets\n",
        "X_cvc_train, X_cvc_test, y_cvc_train, y_cvc_test = train_test_split(X_cvc, Y_cvc, test_size=0.2, random_state=42)\n",
        "\n",
        "# Fit the K-Means model on the training data\n",
        "kmeans_cvc = KMeans(n_clusters=2)\n",
        "clusters_cvc = kmeans_cvc.fit(X_cvc_train)"
      ],
      "metadata": {
        "id": "4yEvUG0LtwYi",
        "outputId": "09a9322e-e8e0-46b5-a029-4fbe8aba42c2",
        "colab": {
          "base_uri": "https://localhost:8080/"
        }
      },
      "execution_count": 118,
      "outputs": [
        {
          "output_type": "stream",
          "name": "stderr",
          "text": [
            "/usr/local/lib/python3.10/dist-packages/sklearn/cluster/_kmeans.py:870: FutureWarning: The default value of `n_init` will change from 10 to 'auto' in 1.4. Set the value of `n_init` explicitly to suppress the warning\n",
            "  warnings.warn(\n"
          ]
        }
      ]
    },
    {
      "cell_type": "code",
      "source": [
        "preds_cvc = kmeans_cvc.predict(X_cvc_test)\n",
        "print('Accuracy of KMeans is', np.round(accuracy_score(y_cvc_test, preds_cvc),3))"
      ],
      "metadata": {
        "id": "tnbFQ6NWvN3Q",
        "outputId": "6eea7e75-fda1-4120-8a05-99bee53d72ad",
        "colab": {
          "base_uri": "https://localhost:8080/"
        }
      },
      "execution_count": 119,
      "outputs": [
        {
          "output_type": "stream",
          "name": "stdout",
          "text": [
            "Accuracy of KMeans is 0.6\n"
          ]
        }
      ]
    },
    {
      "cell_type": "code",
      "source": [
        "from sklearn.metrics import confusion_matrix\n",
        "tn, fp, fn, tp = confusion_matrix(y_cvc_test, preds_cvc).ravel()\n",
        "print('True negatives: ', tn, '\\nFalse positives: ', fp, '\\nFalse negatives: ', fn, '\\nTrue Positives: ', tp)"
      ],
      "metadata": {
        "id": "CT_WC_ZNbROs",
        "outputId": "e5bc2d06-9739-48e1-e92a-9a8b389268e5",
        "colab": {
          "base_uri": "https://localhost:8080/"
        }
      },
      "execution_count": 120,
      "outputs": [
        {
          "output_type": "stream",
          "name": "stdout",
          "text": [
            "True negatives:  0 \n",
            "False positives:  2 \n",
            "False negatives:  2 \n",
            "True Positives:  6\n"
          ]
        }
      ]
    },
    {
      "cell_type": "code",
      "source": [
        "from sklearn.metrics import classification_report\n",
        "print(classification_report(y_cvc_test, preds_cvc))"
      ],
      "metadata": {
        "id": "LpdBrEOcbVXU",
        "outputId": "aecbc374-1273-4276-a8e2-3ab114c65178",
        "colab": {
          "base_uri": "https://localhost:8080/"
        }
      },
      "execution_count": 121,
      "outputs": [
        {
          "output_type": "stream",
          "name": "stdout",
          "text": [
            "              precision    recall  f1-score   support\n",
            "\n",
            "           0       0.00      0.00      0.00         2\n",
            "           1       0.75      0.75      0.75         8\n",
            "\n",
            "    accuracy                           0.60        10\n",
            "   macro avg       0.38      0.38      0.38        10\n",
            "weighted avg       0.60      0.60      0.60        10\n",
            "\n"
          ]
        }
      ]
    },
    {
      "cell_type": "markdown",
      "source": [
        "### Redoing initial analysis using SMOTE"
      ],
      "metadata": {
        "id": "zLQWMN1_EvHx"
      }
    },
    {
      "cell_type": "markdown",
      "source": [
        "#####CVC\n"
      ],
      "metadata": {
        "id": "6DHaDkOPcHTy"
      }
    },
    {
      "cell_type": "code",
      "source": [
        "from imblearn.over_sampling import SMOTE\n",
        "X_cvc_resampled, y_cvc_resampled = SMOTE().fit_resample(X_cvc_train, y_cvc_train)\n",
        "\n",
        "kmeans_cvc = KMeans(n_clusters=2)\n",
        "clusters_cvc = kmeans_cvc.fit(X_cvc_resampled)\n",
        "\n",
        "preds_cvc2 = kmeans_cvc.predict(X_cvc_test)\n",
        "print('Accuracy of KMeans is', np.round(accuracy_score(y_cvc_test, preds_cvc2),3))"
      ],
      "metadata": {
        "id": "VR5Jl5CtcQOe",
        "outputId": "891ebaf0-8754-4fbb-ba8f-6d26aaa87e6c",
        "colab": {
          "base_uri": "https://localhost:8080/"
        }
      },
      "execution_count": 122,
      "outputs": [
        {
          "output_type": "stream",
          "name": "stderr",
          "text": [
            "/usr/local/lib/python3.10/dist-packages/sklearn/cluster/_kmeans.py:870: FutureWarning: The default value of `n_init` will change from 10 to 'auto' in 1.4. Set the value of `n_init` explicitly to suppress the warning\n",
            "  warnings.warn(\n"
          ]
        },
        {
          "output_type": "stream",
          "name": "stdout",
          "text": [
            "Accuracy of KMeans is 0.2\n"
          ]
        }
      ]
    },
    {
      "cell_type": "code",
      "source": [
        "from sklearn.metrics import confusion_matrix\n",
        "tn, fp, fn, tp = confusion_matrix(y_test, preds_cvc2).ravel()\n",
        "print('True negatives: ', tn, '\\nFalse positives: ', fp, '\\nFalse negatives: ', fn, '\\nTrue Positives: ', tp)"
      ],
      "metadata": {
        "id": "cyFre4_0co5w",
        "outputId": "0b576e5c-92ea-47b3-f88b-dc0d2092aad6",
        "colab": {
          "base_uri": "https://localhost:8080/"
        }
      },
      "execution_count": 123,
      "outputs": [
        {
          "output_type": "stream",
          "name": "stdout",
          "text": [
            "True negatives:  2 \n",
            "False positives:  0 \n",
            "False negatives:  8 \n",
            "True Positives:  0\n"
          ]
        }
      ]
    },
    {
      "cell_type": "code",
      "source": [
        "from sklearn.metrics import classification_report\n",
        "print(classification_report(y_cvc_test, preds_cvc2))"
      ],
      "metadata": {
        "id": "dCtKzQJ_cu1y",
        "outputId": "4751ff43-92e2-40b7-f3c9-f364e4c43685",
        "colab": {
          "base_uri": "https://localhost:8080/"
        }
      },
      "execution_count": 124,
      "outputs": [
        {
          "output_type": "stream",
          "name": "stdout",
          "text": [
            "              precision    recall  f1-score   support\n",
            "\n",
            "           0       0.20      1.00      0.33         2\n",
            "           1       0.00      0.00      0.00         8\n",
            "\n",
            "    accuracy                           0.20        10\n",
            "   macro avg       0.10      0.50      0.17        10\n",
            "weighted avg       0.04      0.20      0.07        10\n",
            "\n"
          ]
        },
        {
          "output_type": "stream",
          "name": "stderr",
          "text": [
            "/usr/local/lib/python3.10/dist-packages/sklearn/metrics/_classification.py:1344: UndefinedMetricWarning: Precision and F-score are ill-defined and being set to 0.0 in labels with no predicted samples. Use `zero_division` parameter to control this behavior.\n",
            "  _warn_prf(average, modifier, msg_start, len(result))\n",
            "/usr/local/lib/python3.10/dist-packages/sklearn/metrics/_classification.py:1344: UndefinedMetricWarning: Precision and F-score are ill-defined and being set to 0.0 in labels with no predicted samples. Use `zero_division` parameter to control this behavior.\n",
            "  _warn_prf(average, modifier, msg_start, len(result))\n",
            "/usr/local/lib/python3.10/dist-packages/sklearn/metrics/_classification.py:1344: UndefinedMetricWarning: Precision and F-score are ill-defined and being set to 0.0 in labels with no predicted samples. Use `zero_division` parameter to control this behavior.\n",
            "  _warn_prf(average, modifier, msg_start, len(result))\n"
          ]
        }
      ]
    }
  ],
  "metadata": {
    "colab": {
      "provenance": [],
      "toc_visible": true,
      "include_colab_link": true
    },
    "kernelspec": {
      "display_name": "Python 3",
      "name": "python3"
    },
    "language_info": {
      "name": "python"
    }
  },
  "nbformat": 4,
  "nbformat_minor": 0
}