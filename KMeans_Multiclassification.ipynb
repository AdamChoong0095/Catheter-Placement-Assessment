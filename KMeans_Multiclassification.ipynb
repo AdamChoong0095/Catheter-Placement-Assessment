{
  "cells": [
    {
      "cell_type": "markdown",
      "metadata": {
        "id": "view-in-github",
        "colab_type": "text"
      },
      "source": [
        "<a href=\"https://colab.research.google.com/github/louisechilds/ADS2002-Catheter/blob/main/KMeans_Multiclassification.ipynb\" target=\"_parent\"><img src=\"https://colab.research.google.com/assets/colab-badge.svg\" alt=\"Open In Colab\"/></a>"
      ]
    },
    {
      "cell_type": "markdown",
      "metadata": {
        "id": "Pll0T_W3IHoW"
      },
      "source": [
        "# KMeans Multiclassification of Catheters"
      ]
    },
    {
      "cell_type": "markdown",
      "metadata": {
        "id": "7Rb4TzUdIHoc"
      },
      "source": [
        "If they are normal, abnormal or borderline."
      ]
    },
    {
      "cell_type": "markdown",
      "metadata": {
        "id": "g_3Fiag1IHod"
      },
      "source": [
        "As some of them have multiple catheters and the output from the kmeans model only defines it in one of the categories, it is still defined as a negative if they have a normal and an abnormal or borderline catheter."
      ]
    },
    {
      "cell_type": "markdown",
      "metadata": {
        "id": "vu92_IDlIHoe"
      },
      "source": [
        "## Setting things up"
      ]
    },
    {
      "cell_type": "code",
      "execution_count": null,
      "metadata": {
        "id": "tTJw2hm9IHof"
      },
      "outputs": [],
      "source": [
        "import pandas as pd\n",
        "import numpy as np\n",
        "import os\n",
        "import shutil\n",
        "from PIL import Image\n",
        "import matplotlib.pyplot as plt\n",
        "from sklearn.metrics import confusion_matrix\n",
        "from sklearn.model_selection import train_test_split\n",
        "from sklearn.cluster import KMeans\n",
        "from sklearn.metrics import recall_score\n",
        "from sklearn.metrics import adjusted_rand_score\n",
        "\n",
        "from sklearn.metrics import silhouette_score\n",
        "\n",
        "from sklearn.cluster import DBSCAN\n",
        "from sklearn.preprocessing import StandardScaler\n",
        "\n",
        "train=pd.read_csv('train.csv')\n",
        "train_annot=pd.read_csv('train_annotations.csv')"
      ]
    },
    {
      "cell_type": "code",
      "execution_count": null,
      "metadata": {
        "id": "6-DYnibfIHoi"
      },
      "outputs": [],
      "source": [
        "directory_path='/projects/sc73/ranzcr-clip-catheter-line-classification/train'"
      ]
    },
    {
      "cell_type": "code",
      "execution_count": null,
      "metadata": {
        "id": "UYIfQJPRIHoj"
      },
      "outputs": [],
      "source": [
        "#separate by normal or something else for each type of catheter\n",
        "test_CVC=train[['StudyInstanceUID','CVC - Abnormal','CVC - Normal','CVC - Borderline']]\n",
        "test_CVC=test_CVC.drop(test_CVC[(test_CVC['CVC - Abnormal'] == 0) & (test_CVC['CVC - Normal'] == 0) & (test_CVC['CVC - Borderline'] == 0)].index)\n",
        "test_ETT=train[['StudyInstanceUID','ETT - Abnormal','ETT - Normal','ETT - Borderline']]\n",
        "test_ETT=test_ETT.drop(test_ETT[(test_ETT['ETT - Abnormal'] == 0) & (test_ETT['ETT - Normal'] == 0) & (test_ETT['ETT - Borderline'] == 0)].index)\n",
        "test_NGT=train[['StudyInstanceUID','NGT - Abnormal','NGT - Normal','NGT - Borderline','NGT - Incompletely Imaged']]\n",
        "test_NGT=test_NGT.drop(test_NGT[(test_NGT['NGT - Abnormal'] == 0) & (test_NGT['NGT - Normal'] == 0) & (test_NGT['NGT - Borderline'] == 0) & (test_NGT['NGT - Incompletely Imaged']==0)].index)\n",
        "test_NGT=test_NGT.drop(test_NGT[(test_NGT['NGT - Incompletely Imaged']==1)].index)"
      ]
    },
    {
      "cell_type": "code",
      "execution_count": null,
      "metadata": {
        "id": "wtqWiztfIHok"
      },
      "outputs": [],
      "source": [
        "def add_feature(df, folder):\n",
        "    if 'image' not in df.columns:\n",
        "        df['image'] = ''\n",
        "\n",
        "    for i, row in df.iterrows():\n",
        "        filename = row['StudyInstanceUID'] + '.jpg'\n",
        "        image_path = os.path.join(folder, filename)\n",
        "        image = Image.open(image_path).convert('L')  # Open and convert to grayscale\n",
        "        image = np.array(image)\n",
        "       #image = image.resize((300, 300))  # Resize to manageable dimensions\n",
        "        df.at[i, 'image'] = image  # Set the 'image' column with the Pillow Image object\n",
        "\n",
        "    return df"
      ]
    },
    {
      "cell_type": "code",
      "execution_count": null,
      "metadata": {
        "id": "dOXA2rt1IHol"
      },
      "outputs": [],
      "source": [
        "def remove_suffix(text, suffix):\n",
        "    \"\"\"Remove the specified suffix from the given text.\"\"\"\n",
        "    if text.endswith(suffix):\n",
        "        return text[:-len(suffix)]\n",
        "    return text"
      ]
    },
    {
      "cell_type": "code",
      "execution_count": null,
      "metadata": {
        "id": "lR0-QcbfIHom"
      },
      "outputs": [],
      "source": [
        "from PIL import Image"
      ]
    },
    {
      "cell_type": "markdown",
      "metadata": {
        "id": "JmL2c3hWIHom"
      },
      "source": [
        "Using just the first 750 images"
      ]
    },
    {
      "cell_type": "code",
      "execution_count": null,
      "metadata": {
        "id": "TEC_zAz4IHon",
        "outputId": "b13bf477-96e1-4e10-814f-bd6bd2792eaa"
      },
      "outputs": [
        {
          "name": "stderr",
          "output_type": "stream",
          "text": [
            "/usr/local/lib/python3.6/dist-packages/ipykernel_launcher.py:3: SettingWithCopyWarning: \n",
            "A value is trying to be set on a copy of a slice from a DataFrame.\n",
            "Try using .loc[row_indexer,col_indexer] = value instead\n",
            "\n",
            "See the caveats in the documentation: https://pandas.pydata.org/pandas-docs/stable/user_guide/indexing.html#returning-a-view-versus-a-copy\n",
            "  This is separate from the ipykernel package so we can avoid doing imports until\n"
          ]
        }
      ],
      "source": [
        "directory_files = os.listdir(directory_path)\n",
        "for i in range(750):\n",
        "    directory_files[i]=remove_suffix(directory_files[i], '.jpg')\n",
        "\n",
        "cvc_images_train=test_CVC.loc[train['StudyInstanceUID'].isin(directory_files)]\n",
        "ngt_images_train=test_NGT.loc[train['StudyInstanceUID'].isin(directory_files)]\n",
        "ett_images_train=test_ETT.loc[train['StudyInstanceUID'].isin(directory_files)]\n",
        "cvc=add_feature(cvc_images_train,directory_path)\n",
        "ngt=add_feature(ngt_images_train,directory_path)\n",
        "ett=add_feature(ett_images_train,directory_path)"
      ]
    },
    {
      "cell_type": "markdown",
      "metadata": {
        "id": "LnDxKGByIHoq"
      },
      "source": [
        "## CVC Multiclassification"
      ]
    },
    {
      "cell_type": "code",
      "execution_count": null,
      "metadata": {
        "id": "rmWJ-hCPIHor",
        "outputId": "e7197a70-4d92-482b-ffc5-cdb3f72817a2"
      },
      "outputs": [
        {
          "data": {
            "text/html": [
              "<div>\n",
              "<style scoped>\n",
              "    .dataframe tbody tr th:only-of-type {\n",
              "        vertical-align: middle;\n",
              "    }\n",
              "\n",
              "    .dataframe tbody tr th {\n",
              "        vertical-align: top;\n",
              "    }\n",
              "\n",
              "    .dataframe thead th {\n",
              "        text-align: right;\n",
              "    }\n",
              "</style>\n",
              "<table border=\"1\" class=\"dataframe\">\n",
              "  <thead>\n",
              "    <tr style=\"text-align: right;\">\n",
              "      <th></th>\n",
              "      <th>StudyInstanceUID</th>\n",
              "      <th>CVC - Abnormal</th>\n",
              "      <th>CVC - Normal</th>\n",
              "      <th>CVC - Borderline</th>\n",
              "      <th>image</th>\n",
              "    </tr>\n",
              "  </thead>\n",
              "  <tbody>\n",
              "    <tr>\n",
              "      <th>11</th>\n",
              "      <td>1.2.826.0.1.3680043.8.498.84472839875948876829...</td>\n",
              "      <td>0</td>\n",
              "      <td>1</td>\n",
              "      <td>0</td>\n",
              "      <td>[[26, 37, 78, 119, 130, 126, 122, 114, 89, 57,...</td>\n",
              "    </tr>\n",
              "    <tr>\n",
              "      <th>13</th>\n",
              "      <td>1.2.826.0.1.3680043.8.498.71008408169501434503...</td>\n",
              "      <td>0</td>\n",
              "      <td>1</td>\n",
              "      <td>0</td>\n",
              "      <td>[[81, 87, 102, 113, 100, 72, 52, 48, 36, 31, 2...</td>\n",
              "    </tr>\n",
              "    <tr>\n",
              "      <th>66</th>\n",
              "      <td>1.2.826.0.1.3680043.8.498.33717345723466709327...</td>\n",
              "      <td>0</td>\n",
              "      <td>1</td>\n",
              "      <td>0</td>\n",
              "      <td>[[0, 0, 0, 0, 0, 0, 0, 0, 0, 0, 0, 0, 0, 0, 0,...</td>\n",
              "    </tr>\n",
              "    <tr>\n",
              "      <th>67</th>\n",
              "      <td>1.2.826.0.1.3680043.8.498.26255946920569788246...</td>\n",
              "      <td>0</td>\n",
              "      <td>1</td>\n",
              "      <td>0</td>\n",
              "      <td>[[10, 10, 10, 9, 9, 8, 8, 8, 6, 6, 6, 6, 6, 6,...</td>\n",
              "    </tr>\n",
              "    <tr>\n",
              "      <th>124</th>\n",
              "      <td>1.2.826.0.1.3680043.8.498.41219045795159738970...</td>\n",
              "      <td>0</td>\n",
              "      <td>1</td>\n",
              "      <td>0</td>\n",
              "      <td>[[3, 4, 5, 6, 7, 7, 7, 7, 6, 6, 6, 6, 6, 6, 6,...</td>\n",
              "    </tr>\n",
              "  </tbody>\n",
              "</table>\n",
              "</div>"
            ],
            "text/plain": [
              "                                      StudyInstanceUID  CVC - Abnormal  \\\n",
              "11   1.2.826.0.1.3680043.8.498.84472839875948876829...               0   \n",
              "13   1.2.826.0.1.3680043.8.498.71008408169501434503...               0   \n",
              "66   1.2.826.0.1.3680043.8.498.33717345723466709327...               0   \n",
              "67   1.2.826.0.1.3680043.8.498.26255946920569788246...               0   \n",
              "124  1.2.826.0.1.3680043.8.498.41219045795159738970...               0   \n",
              "\n",
              "     CVC - Normal  CVC - Borderline  \\\n",
              "11              1                 0   \n",
              "13              1                 0   \n",
              "66              1                 0   \n",
              "67              1                 0   \n",
              "124             1                 0   \n",
              "\n",
              "                                                 image  \n",
              "11   [[26, 37, 78, 119, 130, 126, 122, 114, 89, 57,...  \n",
              "13   [[81, 87, 102, 113, 100, 72, 52, 48, 36, 31, 2...  \n",
              "66   [[0, 0, 0, 0, 0, 0, 0, 0, 0, 0, 0, 0, 0, 0, 0,...  \n",
              "67   [[10, 10, 10, 9, 9, 8, 8, 8, 6, 6, 6, 6, 6, 6,...  \n",
              "124  [[3, 4, 5, 6, 7, 7, 7, 7, 6, 6, 6, 6, 6, 6, 6,...  "
            ]
          },
          "execution_count": 9,
          "metadata": {},
          "output_type": "execute_result"
        }
      ],
      "source": [
        "cvc.head()"
      ]
    },
    {
      "cell_type": "code",
      "execution_count": null,
      "metadata": {
        "id": "PDJIf4jpIHot",
        "outputId": "f1f1210b-58d4-418a-fd48-5b81cde1947a"
      },
      "outputs": [
        {
          "data": {
            "text/plain": [
              "731"
            ]
          },
          "execution_count": 10,
          "metadata": {},
          "output_type": "execute_result"
        }
      ],
      "source": [
        "len(cvc)"
      ]
    },
    {
      "cell_type": "code",
      "execution_count": null,
      "metadata": {
        "id": "lUeqsJVGIHou"
      },
      "outputs": [],
      "source": [
        "shapes = []\n",
        "for i in range(len(cvc)):\n",
        "  shapes.append(cvc.iloc[i].iat[4].shape)\n",
        "min(shapes)\n",
        "\n",
        "new_cvc = cvc.copy()\n",
        "new_cvc['image'] = new_cvc['image'].apply(lambda x: np.resize(x, min(shapes)))\n",
        "flat_copy = new_cvc.copy()\n",
        "flat_copy['image'] = flat_copy['image'].apply(lambda x: np.array(x).flatten())"
      ]
    },
    {
      "cell_type": "code",
      "execution_count": null,
      "metadata": {
        "id": "_LmRzrllIHov",
        "outputId": "a237fa8d-173c-455e-c32f-e66c118afe05"
      },
      "outputs": [
        {
          "name": "stdout",
          "output_type": "stream",
          "text": [
            "CVC Accuracy: 0.361\n"
          ]
        }
      ],
      "source": [
        "X = np.stack(flat_copy['image'].values)\n",
        "Y = flat_copy[['CVC - Normal', 'CVC - Abnormal', 'CVC - Borderline']]\n",
        "\n",
        "# Split the dataset into training and testing sets\n",
        "X_train, X_test, y_train, y_test = train_test_split(X, Y, test_size=0.2, random_state=42)\n",
        "\n",
        "# Fit the K-Means model on the training data\n",
        "cvc_kmeans = KMeans(n_clusters=3, random_state = 42)\n",
        "clusters = cvc_kmeans.fit(X_train)\n",
        "\n",
        "y_preds = cvc_kmeans.predict(X_test)\n",
        "\n",
        "#Find the accuracy\n",
        "correct = 0\n",
        "for i in range(len(y_preds)):\n",
        "    if y_test.iloc[i].iat[y_preds[i]] == 1:\n",
        "        correct += 1\n",
        "accuracy = correct/len(y_preds)\n",
        "print(f\"CVC Accuracy: {np.round(accuracy,3)}\")"
      ]
    },
    {
      "cell_type": "code",
      "execution_count": null,
      "metadata": {
        "id": "DXT0lRI0IHox",
        "outputId": "67a1d5df-f06c-48cb-e56a-885e98bcfc6d"
      },
      "outputs": [
        {
          "name": "stdout",
          "output_type": "stream",
          "text": [
            "Silhouette Score: 0.105\n"
          ]
        }
      ],
      "source": [
        "silhouette_avg = silhouette_score(X_test, y_preds)\n",
        "print(\"Silhouette Score:\", np.round(silhouette_avg,3))"
      ]
    },
    {
      "cell_type": "markdown",
      "metadata": {
        "id": "IvsTae3lIHox"
      },
      "source": [
        "This is quite a poor accuracy score. Additionally, this silhouette score is quite close to zero, implying that many samples were close to the boundaries of clusters however it is still positive so there was some correct definition."
      ]
    },
    {
      "cell_type": "code",
      "execution_count": null,
      "metadata": {
        "id": "D1XLPAayIHoy",
        "outputId": "dc391925-0ea3-4826-b6f4-0b39749036a9"
      },
      "outputs": [
        {
          "data": {
            "image/png": "[encoded data removed]",
            "text/plain": [
              "<Figure size 576x432 with 1 Axes>"
            ]
          },
          "metadata": {
            "needs_background": "light"
          },
          "output_type": "display_data"
        }
      ],
      "source": [
        "new_y_test = []\n",
        "for i in np.array(y_test):\n",
        "    new_y_test.append(np.argmax(i))\n",
        "# Calculate the confusion matrix\n",
        "conf_matrix = confusion_matrix(new_y_test, y_preds)\n",
        "plt.figure(figsize=(8, 6))\n",
        "plt.imshow(conf_matrix, cmap='Blues')\n",
        "plt.xticks([0, 1, 2], ['Normal', 'Abnormal', 'Bordeline'])\n",
        "plt.yticks([0, 1, 2], ['Normal', 'Abnormal', 'Bordeline'])\n",
        "plt.title('CVC Confusion Matrix')\n",
        "plt.xlabel('Predicted Labels')\n",
        "plt.ylabel('True Labels')\n",
        "\n",
        "# Display the annotations on the heatmap\n",
        "for i in range(len(conf_matrix)):\n",
        "    for j in range(len(conf_matrix[i])):\n",
        "        plt.text(j, i, str(conf_matrix[i, j]), ha='center', va='center', color='black')\n",
        "\n",
        "plt.show()"
      ]
    },
    {
      "cell_type": "markdown",
      "metadata": {
        "id": "HQfVpYNdIHoz"
      },
      "source": [
        "## NGT Multiclassification"
      ]
    },
    {
      "cell_type": "code",
      "execution_count": null,
      "metadata": {
        "id": "jkQ2BxGLIHoz",
        "outputId": "ed021d06-a364-4003-ddba-2a9e9c1d0698"
      },
      "outputs": [
        {
          "data": {
            "text/html": [
              "<div>\n",
              "<style scoped>\n",
              "    .dataframe tbody tr th:only-of-type {\n",
              "        vertical-align: middle;\n",
              "    }\n",
              "\n",
              "    .dataframe tbody tr th {\n",
              "        vertical-align: top;\n",
              "    }\n",
              "\n",
              "    .dataframe thead th {\n",
              "        text-align: right;\n",
              "    }\n",
              "</style>\n",
              "<table border=\"1\" class=\"dataframe\">\n",
              "  <thead>\n",
              "    <tr style=\"text-align: right;\">\n",
              "      <th></th>\n",
              "      <th>StudyInstanceUID</th>\n",
              "      <th>NGT - Abnormal</th>\n",
              "      <th>NGT - Normal</th>\n",
              "      <th>NGT - Borderline</th>\n",
              "      <th>NGT - Incompletely Imaged</th>\n",
              "      <th>image</th>\n",
              "    </tr>\n",
              "  </thead>\n",
              "  <tbody>\n",
              "    <tr>\n",
              "      <th>66</th>\n",
              "      <td>1.2.826.0.1.3680043.8.498.33717345723466709327...</td>\n",
              "      <td>0</td>\n",
              "      <td>1</td>\n",
              "      <td>0</td>\n",
              "      <td>0</td>\n",
              "      <td>[[0, 0, 0, 0, 0, 0, 0, 0, 0, 0, 0, 0, 0, 0, 0,...</td>\n",
              "    </tr>\n",
              "    <tr>\n",
              "      <th>204</th>\n",
              "      <td>1.2.826.0.1.3680043.8.498.75289336873032144148...</td>\n",
              "      <td>0</td>\n",
              "      <td>1</td>\n",
              "      <td>0</td>\n",
              "      <td>0</td>\n",
              "      <td>[[2, 2, 2, 2, 2, 2, 2, 2, 2, 2, 2, 2, 2, 2, 2,...</td>\n",
              "    </tr>\n",
              "    <tr>\n",
              "      <th>363</th>\n",
              "      <td>1.2.826.0.1.3680043.8.498.36885100611708351610...</td>\n",
              "      <td>0</td>\n",
              "      <td>1</td>\n",
              "      <td>0</td>\n",
              "      <td>0</td>\n",
              "      <td>[[1, 1, 1, 1, 1, 1, 1, 1, 1, 1, 1, 1, 1, 1, 1,...</td>\n",
              "    </tr>\n",
              "    <tr>\n",
              "      <th>370</th>\n",
              "      <td>1.2.826.0.1.3680043.8.498.61214074150651249100...</td>\n",
              "      <td>0</td>\n",
              "      <td>1</td>\n",
              "      <td>0</td>\n",
              "      <td>0</td>\n",
              "      <td>[[2, 3, 4, 5, 5, 5, 5, 4, 3, 3, 3, 3, 3, 3, 3,...</td>\n",
              "    </tr>\n",
              "    <tr>\n",
              "      <th>592</th>\n",
              "      <td>1.2.826.0.1.3680043.8.498.12359997132910172428...</td>\n",
              "      <td>0</td>\n",
              "      <td>1</td>\n",
              "      <td>0</td>\n",
              "      <td>0</td>\n",
              "      <td>[[0, 0, 0, 0, 0, 0, 0, 0, 0, 0, 0, 0, 0, 0, 0,...</td>\n",
              "    </tr>\n",
              "  </tbody>\n",
              "</table>\n",
              "</div>"
            ],
            "text/plain": [
              "                                      StudyInstanceUID  NGT - Abnormal  \\\n",
              "66   1.2.826.0.1.3680043.8.498.33717345723466709327...               0   \n",
              "204  1.2.826.0.1.3680043.8.498.75289336873032144148...               0   \n",
              "363  1.2.826.0.1.3680043.8.498.36885100611708351610...               0   \n",
              "370  1.2.826.0.1.3680043.8.498.61214074150651249100...               0   \n",
              "592  1.2.826.0.1.3680043.8.498.12359997132910172428...               0   \n",
              "\n",
              "     NGT - Normal  NGT - Borderline  NGT - Incompletely Imaged  \\\n",
              "66              1                 0                          0   \n",
              "204             1                 0                          0   \n",
              "363             1                 0                          0   \n",
              "370             1                 0                          0   \n",
              "592             1                 0                          0   \n",
              "\n",
              "                                                 image  \n",
              "66   [[0, 0, 0, 0, 0, 0, 0, 0, 0, 0, 0, 0, 0, 0, 0,...  \n",
              "204  [[2, 2, 2, 2, 2, 2, 2, 2, 2, 2, 2, 2, 2, 2, 2,...  \n",
              "363  [[1, 1, 1, 1, 1, 1, 1, 1, 1, 1, 1, 1, 1, 1, 1,...  \n",
              "370  [[2, 3, 4, 5, 5, 5, 5, 4, 3, 3, 3, 3, 3, 3, 3,...  \n",
              "592  [[0, 0, 0, 0, 0, 0, 0, 0, 0, 0, 0, 0, 0, 0, 0,...  "
            ]
          },
          "execution_count": 15,
          "metadata": {},
          "output_type": "execute_result"
        }
      ],
      "source": [
        "ngt.head()"
      ]
    },
    {
      "cell_type": "code",
      "execution_count": null,
      "metadata": {
        "id": "x4Eh_L7UIHoz",
        "outputId": "96885eec-3f94-432f-a335-e94ba7765782"
      },
      "outputs": [
        {
          "data": {
            "text/plain": [
              "137"
            ]
          },
          "execution_count": 16,
          "metadata": {},
          "output_type": "execute_result"
        }
      ],
      "source": [
        "len(ngt)"
      ]
    },
    {
      "cell_type": "code",
      "execution_count": null,
      "metadata": {
        "id": "sVK49hEHIHo0"
      },
      "outputs": [],
      "source": [
        "shapes = []\n",
        "for i in range(len(ngt)):\n",
        "  shapes.append(ngt.iloc[i].iat[5].shape)\n",
        "min(shapes)\n",
        "\n",
        "new_ngt = ngt.copy()\n",
        "new_ngt['image'] = new_ngt['image'].apply(lambda x: np.resize(x, min(shapes)))\n",
        "flat_copy = new_ngt.copy()\n",
        "flat_copy['image'] = flat_copy['image'].apply(lambda x: np.array(x).flatten())"
      ]
    },
    {
      "cell_type": "code",
      "execution_count": null,
      "metadata": {
        "id": "gOjZDf36IHo0",
        "outputId": "a243b032-f03a-47dc-e538-3c13f6b68d74"
      },
      "outputs": [
        {
          "name": "stdout",
          "output_type": "stream",
          "text": [
            "NGT Accuracy: 0.357\n"
          ]
        }
      ],
      "source": [
        "X = np.stack(flat_copy['image'].values)\n",
        "Y = flat_copy[['NGT - Normal', 'NGT - Abnormal', 'NGT - Borderline']]\n",
        "\n",
        "# Split the dataset into training and testing sets\n",
        "X_train, X_test, y_train, y_test = train_test_split(X, Y, test_size=0.2, random_state=42)\n",
        "\n",
        "# Fit the K-Means model on the training data\n",
        "ngt_kmeans = KMeans(n_clusters=3, random_state = 42)\n",
        "clusters = ngt_kmeans.fit(X_train)\n",
        "\n",
        "y_preds = ngt_kmeans.predict(X_test)\n",
        "\n",
        "#Find the accuracy\n",
        "correct = 0\n",
        "for i in range(len(y_preds)):\n",
        "    if y_test.iloc[i].iat[y_preds[i]] == 1:\n",
        "        correct += 1\n",
        "accuracy = correct/len(y_preds)\n",
        "print(f\"NGT Accuracy: {np.round(accuracy,3)}\")"
      ]
    },
    {
      "cell_type": "code",
      "execution_count": null,
      "metadata": {
        "id": "Ql9C8-6wIHo1",
        "outputId": "b82ae053-eb57-45e0-f27c-debe0f7cefa1"
      },
      "outputs": [
        {
          "name": "stdout",
          "output_type": "stream",
          "text": [
            "Silhouette Score: 0.193\n"
          ]
        }
      ],
      "source": [
        "silhouette_avg = silhouette_score(X_test, y_preds)\n",
        "print(\"Silhouette Score:\", np.round(silhouette_avg,3))"
      ]
    },
    {
      "cell_type": "markdown",
      "metadata": {
        "id": "zfL2SC_0IHo1"
      },
      "source": [
        "This resulted in an even worse accuracy and lower solhouette score than the previous model. This silhouette score indicates even less well definied clusters with only a small amount of correct classification."
      ]
    },
    {
      "cell_type": "code",
      "execution_count": null,
      "metadata": {
        "id": "Qyq0gyUqIHo2",
        "outputId": "4c135208-4f5a-4756-fb15-7fb019081d6f"
      },
      "outputs": [
        {
          "data": {
            "image/png": "[encoded data removed]",
            "text/plain": [
              "<Figure size 576x432 with 1 Axes>"
            ]
          },
          "metadata": {
            "needs_background": "light"
          },
          "output_type": "display_data"
        }
      ],
      "source": [
        "new_y_test = []\n",
        "for i in np.array(y_test):\n",
        "    new_y_test.append(np.argmax(i))\n",
        "# Calculate the confusion matrix\n",
        "conf_matrix = confusion_matrix(new_y_test, y_preds)\n",
        "plt.figure(figsize=(8, 6))\n",
        "plt.imshow(conf_matrix, cmap='Blues')\n",
        "plt.xticks([0, 1, 2], ['Normal', 'Abnormal', 'Bordeline'])\n",
        "plt.yticks([0, 1, 2], ['Normal', 'Abnormal', 'Bordeline'])\n",
        "plt.title('NGT Confusion Matrix')\n",
        "plt.xlabel('Predicted Labels')\n",
        "plt.ylabel('True Labels')\n",
        "\n",
        "# Display the annotations on the heatmap\n",
        "for i in range(len(conf_matrix)):\n",
        "    for j in range(len(conf_matrix[i])):\n",
        "        plt.text(j, i, str(conf_matrix[i, j]), ha='center', va='center', color='black')\n",
        "\n",
        "plt.show()"
      ]
    },
    {
      "cell_type": "markdown",
      "metadata": {
        "id": "2C8sxNAEIHo2"
      },
      "source": [
        "## ETT Multiclassification"
      ]
    },
    {
      "cell_type": "code",
      "execution_count": null,
      "metadata": {
        "id": "tD8iAFS9IHo3",
        "outputId": "78a2b23c-9f96-4db5-fc1c-af4deff5890a"
      },
      "outputs": [
        {
          "data": {
            "text/html": [
              "<div>\n",
              "<style scoped>\n",
              "    .dataframe tbody tr th:only-of-type {\n",
              "        vertical-align: middle;\n",
              "    }\n",
              "\n",
              "    .dataframe tbody tr th {\n",
              "        vertical-align: top;\n",
              "    }\n",
              "\n",
              "    .dataframe thead th {\n",
              "        text-align: right;\n",
              "    }\n",
              "</style>\n",
              "<table border=\"1\" class=\"dataframe\">\n",
              "  <thead>\n",
              "    <tr style=\"text-align: right;\">\n",
              "      <th></th>\n",
              "      <th>StudyInstanceUID</th>\n",
              "      <th>ETT - Abnormal</th>\n",
              "      <th>ETT - Normal</th>\n",
              "      <th>ETT - Borderline</th>\n",
              "      <th>image</th>\n",
              "    </tr>\n",
              "  </thead>\n",
              "  <tbody>\n",
              "    <tr>\n",
              "      <th>66</th>\n",
              "      <td>1.2.826.0.1.3680043.8.498.33717345723466709327...</td>\n",
              "      <td>0</td>\n",
              "      <td>1</td>\n",
              "      <td>0</td>\n",
              "      <td>[[0, 0, 0, 0, 0, 0, 0, 0, 0, 0, 0, 0, 0, 0, 0,...</td>\n",
              "    </tr>\n",
              "    <tr>\n",
              "      <th>204</th>\n",
              "      <td>1.2.826.0.1.3680043.8.498.75289336873032144148...</td>\n",
              "      <td>0</td>\n",
              "      <td>0</td>\n",
              "      <td>1</td>\n",
              "      <td>[[2, 2, 2, 2, 2, 2, 2, 2, 2, 2, 2, 2, 2, 2, 2,...</td>\n",
              "    </tr>\n",
              "    <tr>\n",
              "      <th>370</th>\n",
              "      <td>1.2.826.0.1.3680043.8.498.61214074150651249100...</td>\n",
              "      <td>0</td>\n",
              "      <td>1</td>\n",
              "      <td>0</td>\n",
              "      <td>[[2, 3, 4, 5, 5, 5, 5, 4, 3, 3, 3, 3, 3, 3, 3,...</td>\n",
              "    </tr>\n",
              "    <tr>\n",
              "      <th>642</th>\n",
              "      <td>1.2.826.0.1.3680043.8.498.22634208733796493768...</td>\n",
              "      <td>0</td>\n",
              "      <td>1</td>\n",
              "      <td>0</td>\n",
              "      <td>[[0, 0, 0, 0, 0, 0, 0, 0, 0, 0, 0, 0, 0, 0, 0,...</td>\n",
              "    </tr>\n",
              "    <tr>\n",
              "      <th>842</th>\n",
              "      <td>1.2.826.0.1.3680043.8.498.43451491315844703199...</td>\n",
              "      <td>0</td>\n",
              "      <td>1</td>\n",
              "      <td>0</td>\n",
              "      <td>[[6, 7, 10, 12, 12, 12, 10, 9, 7, 9, 10, 10, 9...</td>\n",
              "    </tr>\n",
              "  </tbody>\n",
              "</table>\n",
              "</div>"
            ],
            "text/plain": [
              "                                      StudyInstanceUID  ETT - Abnormal  \\\n",
              "66   1.2.826.0.1.3680043.8.498.33717345723466709327...               0   \n",
              "204  1.2.826.0.1.3680043.8.498.75289336873032144148...               0   \n",
              "370  1.2.826.0.1.3680043.8.498.61214074150651249100...               0   \n",
              "642  1.2.826.0.1.3680043.8.498.22634208733796493768...               0   \n",
              "842  1.2.826.0.1.3680043.8.498.43451491315844703199...               0   \n",
              "\n",
              "     ETT - Normal  ETT - Borderline  \\\n",
              "66              1                 0   \n",
              "204             0                 1   \n",
              "370             1                 0   \n",
              "642             1                 0   \n",
              "842             1                 0   \n",
              "\n",
              "                                                 image  \n",
              "66   [[0, 0, 0, 0, 0, 0, 0, 0, 0, 0, 0, 0, 0, 0, 0,...  \n",
              "204  [[2, 2, 2, 2, 2, 2, 2, 2, 2, 2, 2, 2, 2, 2, 2,...  \n",
              "370  [[2, 3, 4, 5, 5, 5, 5, 4, 3, 3, 3, 3, 3, 3, 3,...  \n",
              "642  [[0, 0, 0, 0, 0, 0, 0, 0, 0, 0, 0, 0, 0, 0, 0,...  \n",
              "842  [[6, 7, 10, 12, 12, 12, 10, 9, 7, 9, 10, 10, 9...  "
            ]
          },
          "execution_count": 21,
          "metadata": {},
          "output_type": "execute_result"
        }
      ],
      "source": [
        "ett.head()"
      ]
    },
    {
      "cell_type": "code",
      "execution_count": null,
      "metadata": {
        "id": "-4zimzfTIHo3",
        "outputId": "f4fce963-8189-40cc-b8ce-a9a05ff39475"
      },
      "outputs": [
        {
          "data": {
            "text/plain": [
              "190"
            ]
          },
          "execution_count": 22,
          "metadata": {},
          "output_type": "execute_result"
        }
      ],
      "source": [
        "len(ett)"
      ]
    },
    {
      "cell_type": "code",
      "execution_count": null,
      "metadata": {
        "id": "T_5dbm63IHo3"
      },
      "outputs": [],
      "source": [
        "shapes = []\n",
        "for i in range(len(ett)):\n",
        "  shapes.append(ett.iloc[i].iat[4].shape)\n",
        "min(shapes)\n",
        "\n",
        "new_ett = ett.copy()\n",
        "new_ett['image'] = new_ett['image'].apply(lambda x: np.resize(x, min(shapes)))\n",
        "flat_copy = new_ett.copy()\n",
        "flat_copy['image'] = flat_copy['image'].apply(lambda x: np.array(x).flatten())"
      ]
    },
    {
      "cell_type": "code",
      "execution_count": null,
      "metadata": {
        "id": "m2M5w9i5IHo4",
        "outputId": "1e2f7cb4-e1f8-415e-bc8d-8284f3381960"
      },
      "outputs": [
        {
          "name": "stdout",
          "output_type": "stream",
          "text": [
            "ETT Accuracy: 0.474\n"
          ]
        }
      ],
      "source": [
        "X = np.stack(flat_copy['image'].values)\n",
        "Y = flat_copy[['ETT - Normal', 'ETT - Abnormal', 'ETT - Borderline']]\n",
        "\n",
        "# Split the dataset into training and testing sets\n",
        "X_train, X_test, y_train, y_test = train_test_split(X, Y, test_size=0.2, random_state=42)\n",
        "\n",
        "# Fit the K-Means model on the training data\n",
        "ett_kmeans = KMeans(n_clusters=3, random_state = 42)\n",
        "clusters = ett_kmeans.fit(X_train)\n",
        "\n",
        "y_preds = ett_kmeans.predict(X_test)\n",
        "\n",
        "#Find the accuracy\n",
        "correct = 0\n",
        "tp = 0\n",
        "\n",
        "for i in range(len(y_preds)):\n",
        "    if y_test.iloc[i].iat[y_preds[i]] == 1:\n",
        "        correct += 1\n",
        "accuracy = correct/len(y_preds)\n",
        "print(f\"ETT Accuracy: {np.round(accuracy,3)}\")"
      ]
    },
    {
      "cell_type": "code",
      "execution_count": null,
      "metadata": {
        "id": "VioEymwwIHo4",
        "outputId": "adc12c37-3a51-49bc-e65c-6625d5fbd5e2"
      },
      "outputs": [
        {
          "name": "stdout",
          "output_type": "stream",
          "text": [
            "Silhouette Score: 0.151\n"
          ]
        }
      ],
      "source": [
        "silhouette_avg = silhouette_score(X_test, y_preds)\n",
        "print(\"Silhouette Score:\", np.round(silhouette_avg,3))"
      ]
    },
    {
      "cell_type": "markdown",
      "metadata": {
        "id": "waZ_eBrxIHo5"
      },
      "source": [
        "This model has the worst accuracy overall however it does result in a slightly improved silhouette score over the previous model."
      ]
    },
    {
      "cell_type": "code",
      "execution_count": null,
      "metadata": {
        "id": "hJrLOLcuIHo5",
        "outputId": "ec446484-21da-409b-c670-d5956f08b00a"
      },
      "outputs": [
        {
          "data": {
            "image/png": "[encoded data removed]",
            "text/plain": [
              "<Figure size 576x432 with 1 Axes>"
            ]
          },
          "metadata": {
            "needs_background": "light"
          },
          "output_type": "display_data"
        }
      ],
      "source": [
        "new_y_test = []\n",
        "for i in np.array(y_test):\n",
        "    new_y_test.append(np.argmax(i))\n",
        "# Calculate the confusion matrix\n",
        "conf_matrix = confusion_matrix(new_y_test, y_preds)\n",
        "plt.figure(figsize=(8, 6))\n",
        "plt.imshow(conf_matrix, cmap='Blues')\n",
        "plt.xticks([0, 1, 2], ['Normal', 'Abnormal', 'Bordeline'])\n",
        "plt.yticks([0, 1, 2], ['Normal', 'Abnormal', 'Bordeline'])\n",
        "plt.title('ETT Confusion Matrix')\n",
        "plt.xlabel('Predicted Labels')\n",
        "plt.ylabel('True Labels')\n",
        "\n",
        "# Display the annotations on the heatmap\n",
        "for i in range(len(conf_matrix)):\n",
        "    for j in range(len(conf_matrix[i])):\n",
        "        plt.text(j, i, str(conf_matrix[i, j]), ha='center', va='center', color='black')\n",
        "\n",
        "plt.show()"
      ]
    }
  ],
  "metadata": {
    "kernelspec": {
      "display_name": "Python 3",
      "language": "python",
      "name": "python3"
    },
    "language_info": {
      "codemirror_mode": {
        "name": "ipython",
        "version": 3
      },
      "file_extension": ".py",
      "mimetype": "text/x-python",
      "name": "python",
      "nbconvert_exporter": "python",
      "pygments_lexer": "ipython3",
      "version": "3.6.9"
    },
    "colab": {
      "provenance": [],
      "include_colab_link": true
    }
  },
  "nbformat": 4,
  "nbformat_minor": 0
}